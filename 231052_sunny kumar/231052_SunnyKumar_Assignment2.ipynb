{
  "nbformat": 4,
  "nbformat_minor": 0,
  "metadata": {
    "colab": {
      "provenance": []
    },
    "kernelspec": {
      "name": "python3",
      "display_name": "Python 3"
    },
    "language_info": {
      "name": "python"
    }
  },
  "cells": [
    {
      "cell_type": "code",
      "execution_count": 1,
      "metadata": {
        "id": "cHAlzD3ssLHj"
      },
      "outputs": [],
      "source": [
        "from sklearn.model_selection import train_test_split\n",
        "from sklearn.preprocessing import StandardScaler, MinMaxScaler\n",
        "from sklearn.linear_model import LogisticRegression\n",
        "from sklearn.metrics import accuracy_score\n",
        "from sklearn import preprocessing\n",
        "import pandas as pd\n",
        "import numpy as np\n"
      ]
    },
    {
      "cell_type": "code",
      "source": [
        "data = pd.read_csv('Social_Network_Ads.csv')\n",
        "print(data.head())\n",
        "x = data.iloc[:, :-1]\n",
        "y = data.iloc[:, -1]\n",
        "x_train, x_test, y_train, y_test = train_test_split(x, y, test_size=0.3, random_state=35)\n",
        "logistic_reg = LogisticRegression()\n",
        "logistic_reg.fit(x_train, y_train)\n",
        "y_pred = logistic_reg.predict(x_test)\n",
        "accuracy_raw = accuracy_score(y_test, y_pred)\n",
        "print(\"Raw data accuracy: \", accuracy_raw)"
      ],
      "metadata": {
        "id": "j6mL1HjtsPJo"
      },
      "execution_count": null,
      "outputs": []
    },
    {
      "cell_type": "code",
      "source": [
        "scaler = MinMaxScaler()\n",
        "x_train_norm = scaler.fit_transform(x_train)\n",
        "x_test_norm = scaler.transform(x_test)\n",
        "\n",
        "logistic_reg_norm = LogisticRegression()\n",
        "logistic_reg_norm.fit(x_train_norm, y_train)\n",
        "y_pred_norm = logistic_reg_norm.predict(x_test_norm)\n",
        "accuracy_norm = accuracy_score(y_test, y_pred_norm)\n",
        "print(\"Acc:\", accuracy_norm)\n",
        "\n",
        "scaler = StandardScaler()\n",
        "x_train_std = scaler.fit_transform(x_train)\n",
        "x_test_std = scaler.transform(x_test)\n",
        "\n",
        "logistic_reg_std = LogisticRegression()\n",
        "logistic_reg_std.fit(x_train_std, y_train)\n",
        "y_pred_std = logistic_reg_std.predict(x_test_std)\n",
        "accuracy_std = accuracy_score(y_test, y_pred_std)\n",
        "print(\"standardisation accuracy:\", accuracy_std)\n"
      ],
      "metadata": {
        "id": "VKqo-bzZsvs9"
      },
      "execution_count": null,
      "outputs": []
    },
    {
      "cell_type": "code",
      "source": [
        "class LogisticRegressionScratch:\n",
        "    def __init__(self, learn_rate=0.01, ni=1000):\n",
        "        self.learn_rate = learn_rate\n",
        "        self.ni = ni\n",
        "        self.weights = None\n",
        "        self.bias = None\n",
        "\n",
        "    def sigmoid(self, z):\n",
        "        return 1 / (1 + np.exp(-z))\n",
        "\n",
        "    def fit(self, x, y):\n",
        "        n_samples, n_features = x.shape\n",
        "        self.weights = np.zeros(n_features)\n",
        "        self.bias = 0\n",
        "\n",
        "        for _ in range(self.ni):\n",
        "            model = np.dot(x, self.weights) + self.bias\n",
        "            predictions = self.sigmoid(model)\n",
        "\n",
        "            dw = (1 / n_samples) * np.dot(X.T, (predictions - y))\n",
        "            db = (1 / n_samples) * np.sum(predictions - y)\n",
        "\n",
        "            self.weights -= self.lr * dw\n",
        "            self.bias -= self.lr * db\n",
        "\n",
        "    def predict(self, x):\n",
        "        model = np.dot(x, self.weights) + self.bias\n",
        "        predictions = self.sigmoid(model)\n",
        "        return [1 if x > 0.5 else 0 for x in predictions]\n",
        "\n",
        "logistic_reg_scratch = LogisticRegressionScratch()\n",
        "logistic_reg_scratch.fit(x_train.to_numpy(), y_train.to_numpy())\n",
        "y_pred_scratch = logistic_reg_scratch.predict(x_test.to_numpy())\n",
        "accuracy_scratch = accuracy_score(y_test, y_pred_scratch)\n",
        "print(\"Logistic Regression from scratch accuracy :\", accuracy_scratch)\n",
        "\n"
      ],
      "metadata": {
        "id": "Y0JBXDesucBG"
      },
      "execution_count": null,
      "outputs": []
    },
    {
      "cell_type": "code",
      "source": [
        "import numpy as np\n",
        "import matplotlib.pyplot as plt\n",
        "from sklearn.datasets import load_iris\n",
        "from sklearn.metrics import accuracy_score\n",
        "from sklearn.model_selection import train_test_split\n",
        "from sklearn.neighbors import KNeighborsClassifier"
      ],
      "metadata": {
        "id": "E6ABPCsvvXFP"
      },
      "execution_count": null,
      "outputs": []
    },
    {
      "cell_type": "code",
      "source": [
        "iris = load_iris()\n",
        "x = iris.data\n",
        "y = iris.target\n",
        "\n",
        "x_tr, x_te, y_tr, y_te = train_test_split(x, y, test_size=0.3, random_state=37)\n",
        "\n",
        "accuracies = []\n",
        "k_values = range(1, 20)\n",
        "\n",
        "for k in k_values:\n",
        "    knn = KNeighborsClassifier(n_neighbors=k)\n",
        "    knn.fit(x_tr, y_tr)\n",
        "    y_pred = knn.predict(x_te)\n",
        "    accuracy = accuracy_score(y_te, y_pred)\n",
        "    accuracies.append(accuracy)\n",
        "\n",
        "plt.figure(figsize=(8, 6))\n",
        "plt.plot(k_values, accuracies, marker='o', linestyle='-')\n",
        "plt.title('Accuracy vs k Value in kNN (scikit learn)')\n",
        "plt.xlabel('k Value')\n",
        "plt.ylabel('Accuracy')\n",
        "plt.xticks(np.arange(1, 20, 1))\n",
        "plt.grid(True)\n",
        "plt.show()"
      ],
      "metadata": {
        "id": "--G3ihmfvdKl"
      },
      "execution_count": null,
      "outputs": []
    }
  ]
}