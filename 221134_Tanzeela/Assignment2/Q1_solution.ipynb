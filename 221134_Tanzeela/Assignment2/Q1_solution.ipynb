{
  "cells": [
    {
      "cell_type": "code",
      "source": [
        "# from sk learn\n",
        "\n",
        "import pandas as pd\n",
        "from sklearn.model_selection import train_test_split\n",
        "from sklearn.preprocessing import StandardScaler, MinMaxScaler\n",
        "from sklearn.linear_model import LogisticRegression\n",
        "from sklearn.metrics import accuracy_score, confusion_matrix, classification_report\n",
        "\n",
        "# Load the dataset\n",
        "data = pd.read_csv(\"Social_Network_Ads.csv\")\n",
        "\n",
        "# Extract features (X) and target variable (y)\n",
        "X = data.iloc[:, [2, 3]].values\n",
        "y = data.iloc[:, 4].values\n",
        "\n",
        "# dataset into training and testing sets\n",
        "X_train, X_test, y_train, y_test = train_test_split(X, y, test_size=0.3, random_state=42)\n",
        "\n",
        "# Logistic Regression with Raw Data\n",
        "logreg_raw = LogisticRegression()\n",
        "logreg_raw.fit(X_train, y_train)\n",
        "y_pred_raw = logreg_raw.predict(X_test)\n",
        "\n",
        "# Logistic Regression with Normalization\n",
        "scaler_norm = MinMaxScaler()\n",
        "X_train_norm = scaler_norm.fit_transform(X_train)\n",
        "X_test_norm = scaler_norm.transform(X_test)\n",
        "\n",
        "logreg_norm = LogisticRegression()\n",
        "logreg_norm.fit(X_train_norm, y_train)\n",
        "y_pred_norm = logreg_norm.predict(X_test_norm)\n",
        "\n",
        "# Logistic Regression with Standardization\n",
        "scaler_std = StandardScaler()\n",
        "X_train_std = scaler_std.fit_transform(X_train)\n",
        "X_test_std = scaler_std.transform(X_test)\n",
        "\n",
        "logreg_std = LogisticRegression()\n",
        "logreg_std.fit(X_train_std, y_train)\n",
        "y_pred_std = logreg_std.predict(X_test_std)\n",
        "\n",
        "# Evaluate and compare results\n",
        "def evaluate_model(y_true, y_pred, scaler_name):\n",
        "    acc = accuracy_score(y_true, y_pred)\n",
        "    conf_mat = confusion_matrix(y_true, y_pred)\n",
        "    class_report = classification_report(y_true, y_pred)\n",
        "\n",
        "    print(f\"Results for {scaler_name}:\\n\")\n",
        "    print(f\"Accuracy: {acc:.2f}\")\n",
        "    print(\"Confusion Matrix:\")\n",
        "    print(conf_mat)\n",
        "    print(\"Classification Report:\")\n",
        "    print(class_report)\n",
        "    print(\"\\n\")\n",
        "\n",
        "evaluate_model(y_test, y_pred_raw, \"Raw Data\")\n",
        "evaluate_model(y_test, y_pred_norm, \"Normalization\")\n",
        "evaluate_model(y_test, y_pred_std, \"Standardization\")\n"
      ],
      "metadata": {
        "colab": {
          "base_uri": "https://localhost:8080/"
        },
        "id": "5sjeXgyKLhDA",
        "outputId": "88b93e83-7688-4da6-894b-9354894bfd94"
      },
      "execution_count": 15,
      "outputs": [
        {
          "output_type": "stream",
          "name": "stdout",
          "text": [
            "Results for Raw Data:\n",
            "\n",
            "Accuracy: 0.61\n",
            "Confusion Matrix:\n",
            "[[73  0]\n",
            " [47  0]]\n",
            "Classification Report:\n",
            "              precision    recall  f1-score   support\n",
            "\n",
            "           0       0.61      1.00      0.76        73\n",
            "           1       0.00      0.00      0.00        47\n",
            "\n",
            "    accuracy                           0.61       120\n",
            "   macro avg       0.30      0.50      0.38       120\n",
            "weighted avg       0.37      0.61      0.46       120\n",
            "\n",
            "\n",
            "\n",
            "Results for Normalization:\n",
            "\n",
            "Accuracy: 0.84\n",
            "Confusion Matrix:\n",
            "[[72  1]\n",
            " [18 29]]\n",
            "Classification Report:\n",
            "              precision    recall  f1-score   support\n",
            "\n",
            "           0       0.80      0.99      0.88        73\n",
            "           1       0.97      0.62      0.75        47\n",
            "\n",
            "    accuracy                           0.84       120\n",
            "   macro avg       0.88      0.80      0.82       120\n",
            "weighted avg       0.87      0.84      0.83       120\n",
            "\n",
            "\n",
            "\n",
            "Results for Standardization:\n",
            "\n",
            "Accuracy: 0.85\n",
            "Confusion Matrix:\n",
            "[[71  2]\n",
            " [16 31]]\n",
            "Classification Report:\n",
            "              precision    recall  f1-score   support\n",
            "\n",
            "           0       0.82      0.97      0.89        73\n",
            "           1       0.94      0.66      0.78        47\n",
            "\n",
            "    accuracy                           0.85       120\n",
            "   macro avg       0.88      0.82      0.83       120\n",
            "weighted avg       0.86      0.85      0.84       120\n",
            "\n",
            "\n",
            "\n"
          ]
        },
        {
          "output_type": "stream",
          "name": "stderr",
          "text": [
            "/usr/local/lib/python3.10/dist-packages/sklearn/metrics/_classification.py:1344: UndefinedMetricWarning: Precision and F-score are ill-defined and being set to 0.0 in labels with no predicted samples. Use `zero_division` parameter to control this behavior.\n",
            "  _warn_prf(average, modifier, msg_start, len(result))\n",
            "/usr/local/lib/python3.10/dist-packages/sklearn/metrics/_classification.py:1344: UndefinedMetricWarning: Precision and F-score are ill-defined and being set to 0.0 in labels with no predicted samples. Use `zero_division` parameter to control this behavior.\n",
            "  _warn_prf(average, modifier, msg_start, len(result))\n",
            "/usr/local/lib/python3.10/dist-packages/sklearn/metrics/_classification.py:1344: UndefinedMetricWarning: Precision and F-score are ill-defined and being set to 0.0 in labels with no predicted samples. Use `zero_division` parameter to control this behavior.\n",
            "  _warn_prf(average, modifier, msg_start, len(result))\n"
          ]
        }
      ]
    },
    {
      "cell_type": "code",
      "source": [
        "import matplotlib.pyplot as plt\n",
        "import seaborn as sns\n",
        "\n",
        "# Function to plot confusion matrix\n",
        "def plot_confusion_matrix(conf_mat, scaler_name):\n",
        "    plt.figure(figsize=(6, 4))\n",
        "    sns.heatmap(conf_mat, annot=True, fmt=\"d\", cmap=\"Blues\", cbar=False)\n",
        "    plt.title(f'Confusion Matrix - {scaler_name}')\n",
        "    plt.xlabel('Predicted')\n",
        "    plt.ylabel('True')\n",
        "    plt.show()\n",
        "\n",
        "# Plot confusion matrices for each case\n",
        "conf_mat_raw = confusion_matrix(y_test, y_pred_raw)\n",
        "conf_mat_norm = confusion_matrix(y_test, y_pred_norm)\n",
        "conf_mat_std = confusion_matrix(y_test, y_pred_std)\n",
        "\n",
        "plot_confusion_matrix(conf_mat_raw, \"Raw Data\")\n",
        "plot_confusion_matrix(conf_mat_norm, \"Normalization\")\n",
        "plot_confusion_matrix(conf_mat_std, \"Standardization\")\n"
      ],
      "metadata": {
        "colab": {
          "base_uri": "https://localhost:8080/",
          "height": 1000
        },
        "id": "vGpFrpM-LoST",
        "outputId": "b2cab828-a0f3-4d31-a3b5-299a6d0a0e30"
      },
      "execution_count": 16,
      "outputs": [
        {
          "output_type": "display_data",
          "data": {
            "text/plain": [
              "<Figure size 600x400 with 1 Axes>"
            ],
            "image/png": "[encoded data removed]"
          },
          "metadata": {}
        },
        {
          "output_type": "display_data",
          "data": {
            "text/plain": [
              "<Figure size 600x400 with 1 Axes>"
            ],
            "image/png": "[encoded data removed]"
          },
          "metadata": {}
        },
        {
          "output_type": "display_data",
          "data": {
            "text/plain": [
              "<Figure size 600x400 with 1 Axes>"
            ],
            "image/png": "[encoded data removed]"
          },
          "metadata": {}
        }
      ]
    },
    {
      "cell_type": "code",
      "source": [
        "# from scratch\n",
        "\n",
        "import numpy as np\n",
        "import pandas as pd\n",
        "from sklearn.model_selection import train_test_split\n",
        "from sklearn.metrics import accuracy_score\n",
        "from sklearn.preprocessing import StandardScaler, MinMaxScaler\n",
        "\n",
        "# Load the dataset\n",
        "data = pd.read_csv(\"Social_Network_Ads.csv\")\n",
        "\n",
        "# Extract features and target variable\n",
        "X = dataset.iloc[:, [2, 3]].values\n",
        "y = dataset.iloc[:, 4].values\n",
        "\n",
        "# dataset into training and testing sets\n",
        "X_train, X_test, y_train, y_test = train_test_split(X, y, test_size=0.3, random_state=42)\n",
        "\n",
        "# Logistic Regression from scratch\n",
        "def sigmoid(z):\n",
        "    return 1 / (1 + np.exp(-z))\n",
        "\n",
        "def cost_function(y, y_pred):\n",
        "    return -np.mean(y * np.log(y_pred) + (1 - y) * np.log(1 - y_pred))\n",
        "\n",
        "def gradient_descent(X, y, learning_rate, iterations):\n",
        "    m, n = X.shape\n",
        "    X = np.hstack((np.ones((m, 1)), X))  # Add a column of ones for the bias term\n",
        "    theta = np.zeros((n + 1, 1))\n",
        "\n",
        "    for _ in range(iterations):\n",
        "        z = np.dot(X, theta)\n",
        "        h = sigmoid(z)\n",
        "        gradient = np.dot(X.T, (h - y)) / m\n",
        "        theta -= learning_rate * gradient\n",
        "\n",
        "    return theta\n",
        "\n",
        "def predict(X, theta):\n",
        "    X = np.hstack((np.ones((X.shape[0], 1)), X))\n",
        "    predictions = sigmoid(np.dot(X, theta))\n",
        "    return np.round(predictions)\n",
        "\n",
        "# Raw Data\n",
        "theta_raw = gradient_descent(X_train, y_train.reshape(-1, 1), learning_rate=0.01, iterations=10000)\n",
        "y_pred_raw = predict(X_test, theta_raw)\n",
        "accuracy_raw = accuracy_score(y_test, y_pred_raw)\n",
        "\n",
        "# Normalization\n",
        "scaler = MinMaxScaler()\n",
        "X_train_normalized = scaler.fit_transform(X_train)\n",
        "X_test_normalized = scaler.transform(X_test)\n",
        "theta_normalized = gradient_descent(X_train_normalized, y_train.reshape(-1, 1), learning_rate=0.01, iterations=10000)\n",
        "y_pred_normalized = predict(X_test_normalized, theta_normalized)\n",
        "accuracy_normalized = accuracy_score(y_test, y_pred_normalized)\n",
        "\n",
        "# Standardization\n",
        "scaler = StandardScaler()\n",
        "X_train_standardized = scaler.fit_transform(X_train)\n",
        "X_test_standardized = scaler.transform(X_test)\n",
        "theta_standardized = gradient_descent(X_train_standardized, y_train.reshape(-1, 1), learning_rate=0.01, iterations=10000)\n",
        "y_pred_standardized = predict(X_test_standardized, theta_standardized)\n",
        "accuracy_standardized = accuracy_score(y_test, y_pred_standardized)\n",
        "\n",
        "# Compare results\n",
        "print(f\"Accuracy (Raw Data): {accuracy_raw}\")\n",
        "print(f\"Accuracy (Normalization): {accuracy_normalized}\")\n",
        "print(f\"Accuracy (Standardization): {accuracy_standardized}\")\n"
      ],
      "metadata": {
        "colab": {
          "base_uri": "https://localhost:8080/"
        },
        "id": "oUhHgENoMOXQ",
        "outputId": "3c121323-6a96-494c-92a7-8334a7abad28"
      },
      "execution_count": 18,
      "outputs": [
        {
          "output_type": "stream",
          "name": "stderr",
          "text": [
            "<ipython-input-18-94df2d8489bf>:20: RuntimeWarning: overflow encountered in exp\n",
            "  return 1 / (1 + np.exp(-z))\n"
          ]
        },
        {
          "output_type": "stream",
          "name": "stdout",
          "text": [
            "Accuracy (Raw Data): 0.6083333333333333\n",
            "Accuracy (Normalization): 0.8083333333333333\n",
            "Accuracy (Standardization): 0.85\n"
          ]
        }
      ]
    }
  ],
  "metadata": {
    "colab": {
      "name": "Welcome To Colaboratory",
      "provenance": []
    },
    "kernelspec": {
      "display_name": "Python 3",
      "name": "python3"
    }
  },
  "nbformat": 4,
  "nbformat_minor": 0
}