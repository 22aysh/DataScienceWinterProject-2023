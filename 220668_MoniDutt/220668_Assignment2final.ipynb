{
  "nbformat": 4,
  "nbformat_minor": 0,
  "metadata": {
    "colab": {
      "provenance": []
    },
    "kernelspec": {
      "name": "python3",
      "display_name": "Python 3"
    },
    "language_info": {
      "name": "python"
    }
  },
  "cells": [
    {
      "cell_type": "markdown",
      "source": [
        "Question-1"
      ],
      "metadata": {
        "id": "kSSm6U4ALsk9"
      }
    },
    {
      "cell_type": "code",
      "execution_count": 221,
      "metadata": {
        "id": "qE0Ogpc_JpHp"
      },
      "outputs": [],
      "source": [
        "import numpy as np\n",
        "import pandas as pd\n",
        "import matplotlib.pyplot as plt\n",
        "import math\n",
        "from sklearn.model_selection import train_test_split"
      ]
    },
    {
      "cell_type": "code",
      "source": [
        "data = pd.read_csv('/content/Social_Network_Ads.csv')\n",
        "y = data.iloc[:, -1]\n",
        "X = np.array(data['Age']).reshape(-1, 1)\n",
        "\n",
        "X_train, X_test, y_train, y_test = train_test_split(\n",
        "    X, y, test_size=0.3, random_state=0)"
      ],
      "metadata": {
        "id": "soKiHe_6KVpu"
      },
      "execution_count": 222,
      "outputs": []
    },
    {
      "cell_type": "code",
      "source": [
        "def sigma(z):\n",
        "    h = 1 / (1 + np.exp(-z))\n",
        "    return h\n",
        "\n",
        "def L(y, h):\n",
        "    loss = -(y * np.log(h) + (1 - y) * np.log(1 - h))\n",
        "    return loss"
      ],
      "metadata": {
        "id": "CT1rCvmIKWXx"
      },
      "execution_count": 223,
      "outputs": []
    },
    {
      "cell_type": "code",
      "source": [
        "def GD(X, h, y):\n",
        "    dw = (1 / len(y)) * np.dot(X.T, (h - y))\n",
        "    db = (1 / len(y)) * np.sum(h - y)\n",
        "    return dw, db"
      ],
      "metadata": {
        "id": "4tKTIRKjKWav"
      },
      "execution_count": 224,
      "outputs": []
    },
    {
      "cell_type": "code",
      "source": [
        "def fit(X, y, learning_rate=0.01, num_iterations=1000):\n",
        "    num_samples, num_features = X.shape\n",
        "    weights, bias = np.zeros(num_features), 0\n",
        "\n",
        "    for i in range(num_iterations):\n",
        "        linear_model = np.dot(X, weights) + bias\n",
        "        predictions = sigma(linear_model)\n",
        "\n",
        "        cost = L(y, predictions)\n",
        "\n",
        "        dw, db = GD(X, predictions, y)\n",
        "\n",
        "        # Update weights and bias\n",
        "        weights -= learning_rate * dw\n",
        "        bias -= learning_rate * db\n",
        "\n",
        "    return weights, bias\n"
      ],
      "metadata": {
        "id": "vBs47FsRKWeB"
      },
      "execution_count": 225,
      "outputs": []
    },
    {
      "cell_type": "code",
      "source": [
        "def predict(X, weights, bias):\n",
        "    linear_model = np.dot(X, weights) + bias\n",
        "    predicted_probabilities = sigma(linear_model)\n",
        "    for prob in predicted_probabilities:\n",
        "      if prob>=0.5:\n",
        "        predicted_labels=1\n",
        "      else:\n",
        "        predicted_labels=0\n",
        "    return predicted_labels\n",
        "\n",
        "def accuracy(y_true, y_pred):\n",
        "    return np.mean(y_true == y_pred)"
      ],
      "metadata": {
        "id": "Dro_WWTfKWhb"
      },
      "execution_count": 226,
      "outputs": []
    },
    {
      "cell_type": "code",
      "source": [
        "# Train the logistic regression model\n",
        "learned_weights, learned_bias = fit(X_train, y_train, learning_rate=0.1)\n",
        "\n",
        "# Make predictions on the test set\n",
        "y_pred = predict(X_test, learned_weights, learned_bias)\n",
        "\n",
        "# Calculate the accuracy of the model\n",
        "acc = accuracy(y_test, y_pred)\n",
        "print(f\"Accuracy of the logistic regression model: {acc * 100}\")\n"
      ],
      "metadata": {
        "colab": {
          "base_uri": "https://localhost:8080/"
        },
        "id": "r_7__Ib9KWkZ",
        "outputId": "d8ca0c57-c474-4742-fd0e-ebdd5be6968e"
      },
      "execution_count": 227,
      "outputs": [
        {
          "output_type": "stream",
          "name": "stderr",
          "text": [
            "<ipython-input-223-7076922686ee>:6: RuntimeWarning: divide by zero encountered in log\n",
            "  loss = -(y * np.log(h) + (1 - y) * np.log(1 - h))\n"
          ]
        },
        {
          "output_type": "stream",
          "name": "stdout",
          "text": [
            "Accuracy of the logistic regression model: 65.83333333333333\n"
          ]
        }
      ]
    },
    {
      "cell_type": "code",
      "source": [
        "from sklearn.linear_model import LogisticRegression\n",
        "LRG = LogisticRegression(random_state=0)\n",
        "LRG.fit(X_train, y_train)\n",
        "y_pred=LRG.predict(X_test)\n",
        "acc = accuracy(y_test, y_pred)\n",
        "print(f\"Accuracy of the logistic regression model from sklearn: {acc * 100}\")"
      ],
      "metadata": {
        "colab": {
          "base_uri": "https://localhost:8080/"
        },
        "id": "sBART1vYKqmq",
        "outputId": "d973b39b-bde7-4132-e837-4a8a87d417f1"
      },
      "execution_count": 228,
      "outputs": [
        {
          "output_type": "stream",
          "name": "stdout",
          "text": [
            "Accuracy of the logistic regression model from sklearn: 86.66666666666667\n"
          ]
        }
      ]
    },
    {
      "cell_type": "code",
      "source": [
        "LRG.score(X_test,y_test)*100"
      ],
      "metadata": {
        "colab": {
          "base_uri": "https://localhost:8080/"
        },
        "id": "BpM9-YhxMh6M",
        "outputId": "e8bb3e8b-8e94-4bb1-9246-3d1d12fb9672"
      },
      "execution_count": 229,
      "outputs": [
        {
          "output_type": "execute_result",
          "data": {
            "text/plain": [
              "86.66666666666667"
            ]
          },
          "metadata": {},
          "execution_count": 229
        }
      ]
    },
    {
      "cell_type": "code",
      "source": [
        "def normalization(D):\n",
        "  Dmax=pd.DataFrame(D).idxmax()\n",
        "  Dmin=pd.DataFrame(D).idxmin()\n",
        "  d_min=np.array(Dmin)\n",
        "  d_max=np.array(Dmax)\n",
        "  D_n=(D-d_min)/(d_max-d_min)\n",
        "  return D_n\n"
      ],
      "metadata": {
        "id": "aTuVplj6ogK3"
      },
      "execution_count": 230,
      "outputs": []
    },
    {
      "cell_type": "code",
      "source": [
        "X_train_n= normalization(X_train)\n",
        "X_test_n=normalization(X_test)"
      ],
      "metadata": {
        "id": "CpJNPMQppbTC"
      },
      "execution_count": 231,
      "outputs": []
    },
    {
      "cell_type": "code",
      "source": [
        "# Train the logistic regression model\n",
        "learned_weights, learned_bias = fit(X_train_n, y_train, learning_rate=0.1)\n",
        "\n",
        "# Make predictions on the test set\n",
        "y_pred_n = predict(X_test_n, learned_weights, learned_bias)\n",
        "\n",
        "# Calculate the accuracy of the model\n",
        "acc = accuracy(y_test, y_pred_n)\n",
        "print(f\"Accuracy of the logistic regression model(Normalized data): {acc * 100}\")\n"
      ],
      "metadata": {
        "colab": {
          "base_uri": "https://localhost:8080/"
        },
        "id": "RyEsYVoAqdTZ",
        "outputId": "7e8c587b-8e5c-4180-d42d-bc8d40af5d61"
      },
      "execution_count": 232,
      "outputs": [
        {
          "output_type": "stream",
          "name": "stdout",
          "text": [
            "Accuracy of the logistic regression model(Normalized data): 65.83333333333333\n"
          ]
        }
      ]
    },
    {
      "cell_type": "code",
      "source": [
        "from sklearn.preprocessing import MinMaxScaler\n",
        "\n",
        "norm = MinMaxScaler().fit(X_train)\n",
        "\n",
        "X_train_norm = norm.transform(X_train)\n",
        "\n",
        "X_test_norm = norm.transform(X_test)\n",
        "\n",
        "model=LogisticRegression()\n",
        "model.fit(X_train_norm,y_train)\n",
        "y_pred_norm=model.predict(X_test_norm)\n",
        "from sklearn.metrics import accuracy_score\n",
        "acc_norm=accuracy_score(y_test,y_pred_norm)\n",
        "print(f' Accuracy of the logistic regression model from sklearn(Normalized data):{acc_norm*100}')"
      ],
      "metadata": {
        "colab": {
          "base_uri": "https://localhost:8080/"
        },
        "id": "J8Yn_PVOqvc_",
        "outputId": "79cb94f0-2378-4ffe-a388-d2b0f841fbaf"
      },
      "execution_count": 233,
      "outputs": [
        {
          "output_type": "stream",
          "name": "stdout",
          "text": [
            " Accuracy of the logistic regression model from sklearn(Normalized data):86.66666666666667\n"
          ]
        }
      ]
    },
    {
      "cell_type": "code",
      "source": [
        "def standardisation(X):\n",
        "  mean=np.mean(X)\n",
        "  std=np.std(X)\n",
        "  return (X-mean)/std"
      ],
      "metadata": {
        "id": "uYhGxVMQtmsB"
      },
      "execution_count": 234,
      "outputs": []
    },
    {
      "cell_type": "code",
      "source": [
        "X_train_std=standardisation(X_train)\n",
        "X_test_std=standardisation(X_test)\n"
      ],
      "metadata": {
        "id": "cyMDUq_DyU3N"
      },
      "execution_count": 235,
      "outputs": []
    },
    {
      "cell_type": "code",
      "source": [
        "# Train the logistic regression model\n",
        "learned_weights, learned_bias = fit(X_train_std, y_train, learning_rate=0.1)\n",
        "\n",
        "# Make predictions on the test set\n",
        "y_pred_std = predict(X_test_std, learned_weights, learned_bias)\n",
        "\n",
        "# accuracy of the model\n",
        "acc = accuracy(y_test, y_pred_std)\n",
        "print(f\"Accuracy of the logistic regression model(Standardised data): {acc * 100}\")"
      ],
      "metadata": {
        "colab": {
          "base_uri": "https://localhost:8080/"
        },
        "id": "S-ALJNuXyfzD",
        "outputId": "d3790bf7-c140-4c57-b507-6b90efb50e50"
      },
      "execution_count": 236,
      "outputs": [
        {
          "output_type": "stream",
          "name": "stdout",
          "text": [
            "Accuracy of the logistic regression model(Standardised data): 34.166666666666664\n"
          ]
        }
      ]
    },
    {
      "cell_type": "code",
      "source": [
        "from sklearn.preprocessing import StandardScaler\n",
        "scale = StandardScaler().fit(X_train)\n",
        "\n",
        "X_train_stand = scale.transform(X_train)\n",
        "\n",
        "X_test_stand = scale.transform(X_test)\n",
        "\n",
        "model=LogisticRegression()\n",
        "model.fit(X_train_stand,y_train)\n",
        "y_pred_stand=model.predict(X_test_stand)\n",
        "from sklearn.metrics import accuracy_score\n",
        "acc_stand=accuracy_score(y_test,y_pred_stand)\n",
        "print(f' Accuracy of the logistic regression model from sklearn(Standardised data):{acc_stand*100}')"
      ],
      "metadata": {
        "colab": {
          "base_uri": "https://localhost:8080/"
        },
        "id": "DcM6ph4cyzRA",
        "outputId": "5261ce1a-9fda-4309-aeed-f6eb9099d9a9"
      },
      "execution_count": 237,
      "outputs": [
        {
          "output_type": "stream",
          "name": "stdout",
          "text": [
            " Accuracy of the logistic regression model from sklearn(Standardised data):86.66666666666667\n"
          ]
        }
      ]
    },
    {
      "cell_type": "markdown",
      "source": [
        "Question-2"
      ],
      "metadata": {
        "id": "pt22qCSM3DzO"
      }
    },
    {
      "cell_type": "code",
      "source": [
        "iris=pd.read_csv('/content/Iris.csv')\n",
        "for i in range(len(iris)):\n",
        "    if iris.loc[i, 'Species'] == 'Iris-setosa':\n",
        "        iris.loc[i, 'Species'] = 1\n",
        "    elif iris.loc[i, 'Species'] == 'Iris-versicolor':\n",
        "        iris.loc[i, 'Species'] = 2\n",
        "    elif iris.loc[i, 'Species'] == 'Iris-virginica':\n",
        "        iris.loc[i, 'Species'] = 3\n",
        "\n",
        "X_train,X_test,y_train,y_test=train_test_split(iris['PetalLengthCm'],iris['Species'],test_size=0.3,random_state=0)"
      ],
      "metadata": {
        "id": "ShlGjgsT0flX"
      },
      "execution_count": 238,
      "outputs": []
    },
    {
      "cell_type": "code",
      "source": [
        "def euclidean_distance(x1, x2):\n",
        "    return np.sqrt(np.sum((x1 - x2)**2))\n",
        "\n",
        "def predict(X_train, y_train, X_test, k):\n",
        "    predictions = []\n",
        "    for i in range(len(X_test)):\n",
        "        distances = []\n",
        "        for j in range(len(X_train)):\n",
        "            dist = euclidean_distance(X_test[i], X_train[j])\n",
        "            distances.append((dist, y_train[j]))\n",
        "        distances = sorted(distances)[:k]\n",
        "        nearest_labels = [label for _, label in distances]\n",
        "        predicted_label = max(set(nearest_labels), key=nearest_labels.count)\n",
        "        predictions.append(predicted_label)\n",
        "    return predictions\n",
        "\n",
        "\n",
        "K = []\n",
        "training = []\n",
        "test = []\n",
        "scores = {}\n",
        "\n",
        "for k in range(3, 12):\n",
        "    predictions_test = predict(X_train, y_train, X_test, k)  # Predictions using test data\n",
        "    correct_test = sum(predictions_test[i] == y_test[i] for i in range(len(y_test)))\n",
        "    test_score = correct_test / len(y_test)\n",
        "\n",
        "    K.append(k)\n",
        "    test.append(test_score)\n",
        "\n",
        "\n",
        "# Displaying results\n",
        "print(\"K values:\", K)\n",
        "\n",
        "print(\"Test accuracy:\", test)\n",
        "\n",
        "\n"
      ],
      "metadata": {
        "colab": {
          "base_uri": "https://localhost:8080/"
        },
        "id": "kHT0_E2oD-Dk",
        "outputId": "8b4fc278-0544-446e-e554-dae38c859922"
      },
      "execution_count": 268,
      "outputs": [
        {
          "output_type": "stream",
          "name": "stdout",
          "text": [
            "K values: [3, 4, 5, 6, 7, 8, 9, 10, 11]\n",
            "Test accuracy: [0.9111111111111111, 0.9111111111111111, 0.9111111111111111, 0.9111111111111111, 0.9555555555555556, 0.9111111111111111, 0.9555555555555556, 0.9555555555555556, 0.9555555555555556]\n"
          ]
        }
      ]
    },
    {
      "cell_type": "code",
      "source": [
        "from sklearn.neighbors import KNeighborsClassifier\n",
        "from sklearn.preprocessing import LabelEncoder\n",
        "le = LabelEncoder()\n",
        "X_train = np.array(X_train).reshape(-1, 1)\n",
        "X_test = np.array(X_test).reshape(-1, 1)\n",
        "knn=KNeighborsClassifier(n_neighbors=3)\n",
        "y_train = le.fit_transform(y_train)\n",
        "X_train = np.array(X_train).reshape(-1, 1)\n",
        "X_test = np.array(X_test).reshape(-1, 1)\n",
        "knn.fit(X_train, y_train)\n",
        "y_pred=knn.predict(X_test)\n",
        "\n"
      ],
      "metadata": {
        "id": "zjpP3KMNTVgB"
      },
      "execution_count": 252,
      "outputs": []
    },
    {
      "cell_type": "code",
      "source": [
        "y_test = le.fit_transform(y_test)\n",
        "accuracy= accuracy_score(y_test,y_pred)\n",
        "print(f' Accuracy of KNN model from sklearn:{accuracy*100}')"
      ],
      "metadata": {
        "colab": {
          "base_uri": "https://localhost:8080/"
        },
        "id": "p4pNctPQFxs7",
        "outputId": "246d9044-0889-46ef-c877-ffa42b50301e"
      },
      "execution_count": 253,
      "outputs": [
        {
          "output_type": "stream",
          "name": "stdout",
          "text": [
            " Accuracy of KNN model from sklearn:91.11111111111111\n"
          ]
        }
      ]
    },
    {
      "cell_type": "code",
      "source": [
        "import matplotlib.pyplot as plt\n",
        "plt.figure(figsize=(8, 6))\n",
        "plt.plot(K, test, marker='o', linestyle='-', color='red', label='Test Accuracy')\n",
        "plt.title('Accuracy vs. K')\n",
        "plt.xlabel('K (Number of Neighbors)')\n",
        "plt.ylabel('Accuracy')\n",
        "plt.xticks(K)\n",
        "plt.legend()\n",
        "plt.grid(True)\n",
        "plt.show()"
      ],
      "metadata": {
        "colab": {
          "base_uri": "https://localhost:8080/",
          "height": 564
        },
        "id": "eq8RNsAeHnh0",
        "outputId": "443b80e7-a1ff-45ba-ae0d-e6c90dd74889"
      },
      "execution_count": 269,
      "outputs": [
        {
          "output_type": "display_data",
          "data": {
            "text/plain": [
              "<Figure size 800x600 with 1 Axes>"
            ],
            "image/png": "[encoded data removed]"
          },
          "metadata": {}
        }
      ]
    },
    {
      "cell_type": "code",
      "source": [
        "plt.figure(figsize=(8, 6))\n",
        "plt.scatter(X_train, y_train, c=y_train, cmap='viridis', label='Training Data')\n",
        "plt.scatter(X_test,y_test,c=y_test, cmap='viridis', marker='x',label='Test Data')\n",
        "plt.title('Visualization of Dataset')\n",
        "plt.xlabel('Feature 1')\n",
        "plt.ylabel('Feature 2')\n",
        "plt.legend()\n",
        "plt.grid(True)\n",
        "plt.show()"
      ],
      "metadata": {
        "colab": {
          "base_uri": "https://localhost:8080/",
          "height": 564
        },
        "id": "mt0pngO5QLvI",
        "outputId": "da963a48-8325-4e8c-de71-b08a0c0453a7"
      },
      "execution_count": 276,
      "outputs": [
        {
          "output_type": "display_data",
          "data": {
            "text/plain": [
              "<Figure size 800x600 with 1 Axes>"
            ],
            "image/png": "[encoded data removed]"
          },
          "metadata": {}
        }
      ]
    },
    {
      "cell_type": "code",
      "source": [],
      "metadata": {
        "id": "dKshaJb9RhZc"
      },
      "execution_count": null,
      "outputs": []
    }
  ]
}