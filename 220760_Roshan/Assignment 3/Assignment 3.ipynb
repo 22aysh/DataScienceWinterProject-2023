{
 "cells": [
  {
   "cell_type": "markdown",
   "id": "65f28db7",
   "metadata": {},
   "source": [
    "# Assignment 3 Solution"
   ]
  },
  {
   "cell_type": "markdown",
   "id": "1b8698d3",
   "metadata": {},
   "source": [
    "### Importing libraries"
   ]
  },
  {
   "cell_type": "code",
   "execution_count": 1,
   "id": "74f3173f",
   "metadata": {},
   "outputs": [],
   "source": [
    "import pandas as pd\n",
    "from sklearn.model_selection import train_test_split\n",
    "from sklearn.preprocessing import StandardScaler\n",
    "from sklearn.tree import DecisionTreeClassifier\n",
    "from sklearn.ensemble import RandomForestClassifier\n",
    "from sklearn.metrics import accuracy_score, f1_score"
   ]
  },
  {
   "cell_type": "markdown",
   "id": "795ea52e",
   "metadata": {},
   "source": [
    "### Load the data"
   ]
  },
  {
   "cell_type": "code",
   "execution_count": 4,
   "id": "237a7d30",
   "metadata": {},
   "outputs": [],
   "source": [
    "df = pd.read_csv(\"C:/Users/u/Downloads/winequality-red.csv\")"
   ]
  },
  {
   "cell_type": "markdown",
   "id": "03145e11",
   "metadata": {},
   "source": [
    "### (i) Create a new column 'good quality' with binary values"
   ]
  },
  {
   "cell_type": "code",
   "execution_count": 5,
   "id": "25567900",
   "metadata": {},
   "outputs": [],
   "source": [
    "df['good_quality'] = (df['quality'] >= 7).astype(int)"
   ]
  },
  {
   "cell_type": "markdown",
   "id": "c9119f19",
   "metadata": {},
   "source": [
    "### Drop the original 'quality' column"
   ]
  },
  {
   "cell_type": "code",
   "execution_count": 6,
   "id": "0326ae46",
   "metadata": {},
   "outputs": [],
   "source": [
    "df.drop('quality', axis=1, inplace=True)"
   ]
  },
  {
   "cell_type": "markdown",
   "id": "b59630f5",
   "metadata": {},
   "source": [
    "### (ii) Perform data pre-processing steps"
   ]
  },
  {
   "cell_type": "code",
   "execution_count": 7,
   "id": "6689b0b8",
   "metadata": {},
   "outputs": [],
   "source": [
    "X = df.drop('good_quality', axis=1)\n",
    "y = df['good_quality']"
   ]
  },
  {
   "cell_type": "code",
   "execution_count": 9,
   "id": "ce1326b5",
   "metadata": {},
   "outputs": [],
   "source": [
    "# Split the dataset into training and testing sets\n",
    "X_train, X_test, y_train, y_test = train_test_split(X, y, test_size=0.2, random_state=42)\n",
    "\n",
    "# Creating a correlation matrix\n",
    "correlation_matrix = X_train.corr()\n",
    "\n",
    "# Normalizing data using StandardScaler\n",
    "scaler = StandardScaler()\n",
    "X_train_scaled = scaler.fit_transform(X_train)\n",
    "X_test_scaled = scaler.transform(X_test)"
   ]
  },
  {
   "cell_type": "markdown",
   "id": "70f3de49",
   "metadata": {},
   "source": [
    "### (iii) Apply the following classification algorithms"
   ]
  },
  {
   "cell_type": "code",
   "execution_count": 11,
   "id": "3236eab6",
   "metadata": {},
   "outputs": [
    {
     "data": {
      "text/html": [
       "<style>#sk-container-id-2 {color: black;}#sk-container-id-2 pre{padding: 0;}#sk-container-id-2 div.sk-toggleable {background-color: white;}#sk-container-id-2 label.sk-toggleable__label {cursor: pointer;display: block;width: 100%;margin-bottom: 0;padding: 0.3em;box-sizing: border-box;text-align: center;}#sk-container-id-2 label.sk-toggleable__label-arrow:before {content: \"▸\";float: left;margin-right: 0.25em;color: #696969;}#sk-container-id-2 label.sk-toggleable__label-arrow:hover:before {color: black;}#sk-container-id-2 div.sk-estimator:hover label.sk-toggleable__label-arrow:before {color: black;}#sk-container-id-2 div.sk-toggleable__content {max-height: 0;max-width: 0;overflow: hidden;text-align: left;background-color: #f0f8ff;}#sk-container-id-2 div.sk-toggleable__content pre {margin: 0.2em;color: black;border-radius: 0.25em;background-color: #f0f8ff;}#sk-container-id-2 input.sk-toggleable__control:checked~div.sk-toggleable__content {max-height: 200px;max-width: 100%;overflow: auto;}#sk-container-id-2 input.sk-toggleable__control:checked~label.sk-toggleable__label-arrow:before {content: \"▾\";}#sk-container-id-2 div.sk-estimator input.sk-toggleable__control:checked~label.sk-toggleable__label {background-color: #d4ebff;}#sk-container-id-2 div.sk-label input.sk-toggleable__control:checked~label.sk-toggleable__label {background-color: #d4ebff;}#sk-container-id-2 input.sk-hidden--visually {border: 0;clip: rect(1px 1px 1px 1px);clip: rect(1px, 1px, 1px, 1px);height: 1px;margin: -1px;overflow: hidden;padding: 0;position: absolute;width: 1px;}#sk-container-id-2 div.sk-estimator {font-family: monospace;background-color: #f0f8ff;border: 1px dotted black;border-radius: 0.25em;box-sizing: border-box;margin-bottom: 0.5em;}#sk-container-id-2 div.sk-estimator:hover {background-color: #d4ebff;}#sk-container-id-2 div.sk-parallel-item::after {content: \"\";width: 100%;border-bottom: 1px solid gray;flex-grow: 1;}#sk-container-id-2 div.sk-label:hover label.sk-toggleable__label {background-color: #d4ebff;}#sk-container-id-2 div.sk-serial::before {content: \"\";position: absolute;border-left: 1px solid gray;box-sizing: border-box;top: 0;bottom: 0;left: 50%;z-index: 0;}#sk-container-id-2 div.sk-serial {display: flex;flex-direction: column;align-items: center;background-color: white;padding-right: 0.2em;padding-left: 0.2em;position: relative;}#sk-container-id-2 div.sk-item {position: relative;z-index: 1;}#sk-container-id-2 div.sk-parallel {display: flex;align-items: stretch;justify-content: center;background-color: white;position: relative;}#sk-container-id-2 div.sk-item::before, #sk-container-id-2 div.sk-parallel-item::before {content: \"\";position: absolute;border-left: 1px solid gray;box-sizing: border-box;top: 0;bottom: 0;left: 50%;z-index: -1;}#sk-container-id-2 div.sk-parallel-item {display: flex;flex-direction: column;z-index: 1;position: relative;background-color: white;}#sk-container-id-2 div.sk-parallel-item:first-child::after {align-self: flex-end;width: 50%;}#sk-container-id-2 div.sk-parallel-item:last-child::after {align-self: flex-start;width: 50%;}#sk-container-id-2 div.sk-parallel-item:only-child::after {width: 0;}#sk-container-id-2 div.sk-dashed-wrapped {border: 1px dashed gray;margin: 0 0.4em 0.5em 0.4em;box-sizing: border-box;padding-bottom: 0.4em;background-color: white;}#sk-container-id-2 div.sk-label label {font-family: monospace;font-weight: bold;display: inline-block;line-height: 1.2em;}#sk-container-id-2 div.sk-label-container {text-align: center;}#sk-container-id-2 div.sk-container {/* jupyter's `normalize.less` sets `[hidden] { display: none; }` but bootstrap.min.css set `[hidden] { display: none !important; }` so we also need the `!important` here to be able to override the default hidden behavior on the sphinx rendered scikit-learn.org. See: https://github.com/scikit-learn/scikit-learn/issues/21755 */display: inline-block !important;position: relative;}#sk-container-id-2 div.sk-text-repr-fallback {display: none;}</style><div id=\"sk-container-id-2\" class=\"sk-top-container\"><div class=\"sk-text-repr-fallback\"><pre>RandomForestClassifier(random_state=42)</pre><b>In a Jupyter environment, please rerun this cell to show the HTML representation or trust the notebook. <br />On GitHub, the HTML representation is unable to render, please try loading this page with nbviewer.org.</b></div><div class=\"sk-container\" hidden><div class=\"sk-item\"><div class=\"sk-estimator sk-toggleable\"><input class=\"sk-toggleable__control sk-hidden--visually\" id=\"sk-estimator-id-2\" type=\"checkbox\" checked><label for=\"sk-estimator-id-2\" class=\"sk-toggleable__label sk-toggleable__label-arrow\">RandomForestClassifier</label><div class=\"sk-toggleable__content\"><pre>RandomForestClassifier(random_state=42)</pre></div></div></div></div></div>"
      ],
      "text/plain": [
       "RandomForestClassifier(random_state=42)"
      ]
     },
     "execution_count": 11,
     "metadata": {},
     "output_type": "execute_result"
    }
   ],
   "source": [
    "# a) Decision Trees Classifier\n",
    "dt_classifier = DecisionTreeClassifier(random_state=42)\n",
    "dt_classifier.fit(X_train_scaled, y_train)\n",
    "\n",
    "# b) Random Forest Classifier\n",
    "rf_classifier = RandomForestClassifier(random_state=42)\n",
    "rf_classifier.fit(X_train_scaled, y_train)"
   ]
  },
  {
   "cell_type": "markdown",
   "id": "07ca3d12",
   "metadata": {},
   "source": [
    "### (iv) Evaluate all your models based on accuracy score and f1 score"
   ]
  },
  {
   "cell_type": "code",
   "execution_count": 12,
   "id": "ca7d49b2",
   "metadata": {},
   "outputs": [],
   "source": [
    "# Predictions for Decision Trees Classifier\n",
    "dt_predictions = dt_classifier.predict(X_test_scaled)\n",
    "\n",
    "# Predictions for Random Forest Classifier\n",
    "rf_predictions = rf_classifier.predict(X_test_scaled)\n",
    "\n",
    "# Evaluate Decision Trees Classifier\n",
    "dt_accuracy = accuracy_score(y_test, dt_predictions)\n",
    "dt_f1_score = f1_score(y_test, dt_predictions)\n",
    "\n",
    "# Evaluate Random Forest Classifier\n",
    "rf_accuracy = accuracy_score(y_test, rf_predictions)\n",
    "rf_f1_score = f1_score(y_test, rf_predictions)"
   ]
  },
  {
   "cell_type": "markdown",
   "id": "dfd8eff2",
   "metadata": {},
   "source": [
    "### Results"
   ]
  },
  {
   "cell_type": "code",
   "execution_count": 13,
   "id": "3db7f503",
   "metadata": {},
   "outputs": [
    {
     "name": "stdout",
     "output_type": "stream",
     "text": [
      "Decision Trees Classifier:\n",
      "Accuracy: 0.871875\n",
      "F1 Score: 0.5393258426966292\n",
      "\n",
      "Random Forest Classifier:\n",
      "Accuracy: 0.9\n",
      "F1 Score: 0.5999999999999999\n"
     ]
    }
   ],
   "source": [
    "print(\"Decision Trees Classifier:\")\n",
    "print(\"Accuracy:\", dt_accuracy)\n",
    "print(\"F1 Score:\", dt_f1_score)\n",
    "print(\"\\nRandom Forest Classifier:\")\n",
    "print(\"Accuracy:\", rf_accuracy)\n",
    "print(\"F1 Score:\", rf_f1_score)"
   ]
  }
 ],
 "metadata": {
  "kernelspec": {
   "display_name": "Python 3 (ipykernel)",
   "language": "python",
   "name": "python3"
  },
  "language_info": {
   "codemirror_mode": {
    "name": "ipython",
    "version": 3
   },
   "file_extension": ".py",
   "mimetype": "text/x-python",
   "name": "python",
   "nbconvert_exporter": "python",
   "pygments_lexer": "ipython3",
   "version": "3.11.5"
  }
 },
 "nbformat": 4,
 "nbformat_minor": 5
}
