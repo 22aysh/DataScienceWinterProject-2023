{
 "cells": [
  {
   "cell_type": "markdown",
   "id": "729dc7da",
   "metadata": {},
   "source": [
    "# Assignment 2 (part 1)\n",
    "### Q : Implement logistic regression using Python (both scratch and sk learn) to perform classification on Social_Network_Ads.csv dataset \n",
    "#### Try all three  and compare the results\n",
    "##### 1. Using raw data\n",
    "##### 2. Normalisation \n",
    "##### 3. Standardisation  \n",
    "##### Split the dataset into train and test set. (in ratio 70:30)"
   ]
  },
  {
   "cell_type": "markdown",
   "id": "6177fb8a",
   "metadata": {},
   "source": [
    "# Solution-\n",
    "### Importing Libraries"
   ]
  },
  {
   "cell_type": "code",
   "execution_count": 4,
   "id": "0b4681ca",
   "metadata": {
    "scrolled": true
   },
   "outputs": [],
   "source": [
    "import pandas as pd\n",
    "import numpy as np\n",
    "from sklearn.model_selection import train_test_split\n",
    "from sklearn.preprocessing import StandardScaler, MinMaxScaler\n",
    "from sklearn.linear_model import LogisticRegression\n",
    "from sklearn.metrics import accuracy_score, confusion_matrix, classification_report\n",
    "import matplotlib.pyplot as plt"
   ]
  },
  {
   "cell_type": "markdown",
   "id": "d7487570",
   "metadata": {},
   "source": [
    "### Load the dataset"
   ]
  },
  {
   "cell_type": "code",
   "execution_count": 7,
   "id": "a871222e",
   "metadata": {},
   "outputs": [
    {
     "data": {
      "text/html": [
       "<div>\n",
       "<style scoped>\n",
       "    .dataframe tbody tr th:only-of-type {\n",
       "        vertical-align: middle;\n",
       "    }\n",
       "\n",
       "    .dataframe tbody tr th {\n",
       "        vertical-align: top;\n",
       "    }\n",
       "\n",
       "    .dataframe thead th {\n",
       "        text-align: right;\n",
       "    }\n",
       "</style>\n",
       "<table border=\"1\" class=\"dataframe\">\n",
       "  <thead>\n",
       "    <tr style=\"text-align: right;\">\n",
       "      <th></th>\n",
       "      <th>User ID</th>\n",
       "      <th>Gender</th>\n",
       "      <th>Age</th>\n",
       "      <th>EstimatedSalary</th>\n",
       "      <th>Purchased</th>\n",
       "    </tr>\n",
       "  </thead>\n",
       "  <tbody>\n",
       "    <tr>\n",
       "      <th>0</th>\n",
       "      <td>15624510</td>\n",
       "      <td>Male</td>\n",
       "      <td>19</td>\n",
       "      <td>19000</td>\n",
       "      <td>0</td>\n",
       "    </tr>\n",
       "    <tr>\n",
       "      <th>1</th>\n",
       "      <td>15810944</td>\n",
       "      <td>Male</td>\n",
       "      <td>35</td>\n",
       "      <td>20000</td>\n",
       "      <td>0</td>\n",
       "    </tr>\n",
       "    <tr>\n",
       "      <th>2</th>\n",
       "      <td>15668575</td>\n",
       "      <td>Female</td>\n",
       "      <td>26</td>\n",
       "      <td>43000</td>\n",
       "      <td>0</td>\n",
       "    </tr>\n",
       "    <tr>\n",
       "      <th>3</th>\n",
       "      <td>15603246</td>\n",
       "      <td>Female</td>\n",
       "      <td>27</td>\n",
       "      <td>57000</td>\n",
       "      <td>0</td>\n",
       "    </tr>\n",
       "    <tr>\n",
       "      <th>4</th>\n",
       "      <td>15804002</td>\n",
       "      <td>Male</td>\n",
       "      <td>19</td>\n",
       "      <td>76000</td>\n",
       "      <td>0</td>\n",
       "    </tr>\n",
       "  </tbody>\n",
       "</table>\n",
       "</div>"
      ],
      "text/plain": [
       "    User ID  Gender  Age  EstimatedSalary  Purchased\n",
       "0  15624510    Male   19            19000          0\n",
       "1  15810944    Male   35            20000          0\n",
       "2  15668575  Female   26            43000          0\n",
       "3  15603246  Female   27            57000          0\n",
       "4  15804002    Male   19            76000          0"
      ]
     },
     "execution_count": 7,
     "metadata": {},
     "output_type": "execute_result"
    }
   ],
   "source": [
    "data = pd.read_csv(\"C:/Users/u/Downloads/Social_Network_Ads.csv\")\n",
    "data.head() #Shows first few rows"
   ]
  },
  {
   "cell_type": "code",
   "execution_count": 8,
   "id": "b9106328",
   "metadata": {},
   "outputs": [],
   "source": [
    "# Drop the User ID column as it is not relevant for classification\n",
    "data = data.drop('User ID', axis=1)"
   ]
  },
  {
   "cell_type": "markdown",
   "id": "f19bb754",
   "metadata": {},
   "source": [
    "### Convert Gender to numerical values (0 for male, 1 for female)"
   ]
  },
  {
   "cell_type": "code",
   "execution_count": 9,
   "id": "7d795084",
   "metadata": {},
   "outputs": [],
   "source": [
    "data['Gender'] = data['Gender'].map({'Male': 0, 'Female': 1})"
   ]
  },
  {
   "cell_type": "code",
   "execution_count": 10,
   "id": "13b7d805",
   "metadata": {},
   "outputs": [],
   "source": [
    "# Separate features (X) and target variable (y)\n",
    "X = data.iloc[:, :-1].values\n",
    "y = data.iloc[:, -1].values"
   ]
  },
  {
   "cell_type": "markdown",
   "id": "86fff96a",
   "metadata": {},
   "source": [
    "### Split the dataset into train and test sets (70:30 ratio)"
   ]
  },
  {
   "cell_type": "code",
   "execution_count": 11,
   "id": "2c29053c",
   "metadata": {},
   "outputs": [],
   "source": [
    "X_train, X_test, y_train, y_test = train_test_split(X, y, test_size=0.3, random_state=42)\n",
    "\n",
    "# Function to normalize and standardize data\n",
    "def preprocess_data(X_train, X_test, method='raw'):\n",
    "    if method == 'normalize':\n",
    "        scaler = MinMaxScaler()\n",
    "    elif method == 'standardize':\n",
    "        scaler = StandardScaler()\n",
    "    else:\n",
    "        return X_train, X_test\n",
    "    \n",
    "    X_train_scaled = scaler.fit_transform(X_train)\n",
    "    X_test_scaled = scaler.transform(X_test)\n",
    "    \n",
    "    return X_train_scaled, X_test_scaled"
   ]
  },
  {
   "cell_type": "markdown",
   "id": "03cfef6b",
   "metadata": {},
   "source": [
    "### Evaluate logistic regression model"
   ]
  },
  {
   "cell_type": "code",
   "execution_count": 19,
   "id": "d088c706",
   "metadata": {},
   "outputs": [],
   "source": [
    "def evaluate_model(model, X_test, y_test):\n",
    "    y_pred = model.predict(X_test)\n",
    "    \n",
    "    # Display metrics\n",
    "    print(\"Accuracy:\", accuracy_score(y_test, y_pred))\n",
    "    print(\"\\nConfusion Matrix:\\n\", confusion_matrix(y_test, y_pred))\n",
    "    print(\"\\nClassification Report:\\n\", classification_report(y_test, y_pred, zero_division=1))"
   ]
  },
  {
   "cell_type": "markdown",
   "id": "798b6d0c",
   "metadata": {},
   "source": [
    "### Logistic Regression from scratch"
   ]
  },
  {
   "cell_type": "code",
   "execution_count": 25,
   "id": "2402e422",
   "metadata": {},
   "outputs": [],
   "source": [
    "class LogisticRegressionScratch:\n",
    "    def __init__(self, learning_rate=0.01, num_iterations=1000):\n",
    "        self.learning_rate = learning_rate\n",
    "        self.num_iterations = num_iterations\n",
    "        self.weights = None\n",
    "        self.bias = None\n",
    "\n",
    "    def sigmoid(self, z):\n",
    "        return 1 / (1 + np.exp(-z))\n",
    "\n",
    "    def fit(self, X, y):\n",
    "        m, n = X.shape\n",
    "        self.weights = np.zeros(n)\n",
    "        self.bias = 0\n",
    "\n",
    "        for _ in range(self.num_iterations):\n",
    "            z = np.dot(X, self.weights) + self.bias\n",
    "            a = self.sigmoid(z)\n",
    "\n",
    "            dw = (1 / m) * np.dot(X.T, (a - y))\n",
    "            db = (1 / m) * np.sum(a - y)\n",
    "\n",
    "            self.weights -= self.learning_rate * dw\n",
    "            self.bias -= self.learning_rate * db\n",
    "\n",
    "    def predict(self, X):\n",
    "        z = np.dot(X, self.weights) + self.bias\n",
    "        return np.round(self.sigmoid(z))"
   ]
  },
  {
   "cell_type": "markdown",
   "id": "08aeca22",
   "metadata": {},
   "source": [
    "### Raw Data"
   ]
  },
  {
   "cell_type": "code",
   "execution_count": 20,
   "id": "5719a7a4",
   "metadata": {},
   "outputs": [
    {
     "name": "stdout",
     "output_type": "stream",
     "text": [
      "Raw Data:\n",
      "Accuracy: 0.6083333333333333\n",
      "\n",
      "Confusion Matrix:\n",
      " [[73  0]\n",
      " [47  0]]\n",
      "\n",
      "Classification Report:\n",
      "               precision    recall  f1-score   support\n",
      "\n",
      "           0       0.61      1.00      0.76        73\n",
      "           1       1.00      0.00      0.00        47\n",
      "\n",
      "    accuracy                           0.61       120\n",
      "   macro avg       0.80      0.50      0.38       120\n",
      "weighted avg       0.76      0.61      0.46       120\n",
      "\n"
     ]
    }
   ],
   "source": [
    "print(\"Raw Data:\")\n",
    "logreg_raw = LogisticRegression()\n",
    "logreg_raw.fit(X_train, y_train)\n",
    "evaluate_model(logreg_raw, X_test, y_test)"
   ]
  },
  {
   "cell_type": "markdown",
   "id": "7187d1f1",
   "metadata": {},
   "source": [
    "### Normalized Data"
   ]
  },
  {
   "cell_type": "code",
   "execution_count": 21,
   "id": "6ba33d62",
   "metadata": {},
   "outputs": [
    {
     "name": "stdout",
     "output_type": "stream",
     "text": [
      "\n",
      "Normalized Data:\n",
      "Accuracy: 0.8416666666666667\n",
      "\n",
      "Confusion Matrix:\n",
      " [[72  1]\n",
      " [18 29]]\n",
      "\n",
      "Classification Report:\n",
      "               precision    recall  f1-score   support\n",
      "\n",
      "           0       0.80      0.99      0.88        73\n",
      "           1       0.97      0.62      0.75        47\n",
      "\n",
      "    accuracy                           0.84       120\n",
      "   macro avg       0.88      0.80      0.82       120\n",
      "weighted avg       0.87      0.84      0.83       120\n",
      "\n"
     ]
    }
   ],
   "source": [
    "print(\"\\nNormalized Data:\")\n",
    "X_train_norm, X_test_norm = preprocess_data(X_train, X_test, 'normalize')\n",
    "logreg_norm = LogisticRegression()\n",
    "logreg_norm.fit(X_train_norm, y_train)\n",
    "evaluate_model(logreg_norm, X_test_norm, y_test)"
   ]
  },
  {
   "cell_type": "markdown",
   "id": "96dedec9",
   "metadata": {},
   "source": [
    "### Standardized Data"
   ]
  },
  {
   "cell_type": "code",
   "execution_count": 16,
   "id": "ce0171e9",
   "metadata": {},
   "outputs": [
    {
     "name": "stdout",
     "output_type": "stream",
     "text": [
      "Accuracy: 0.8583333333333333\n",
      "\n",
      "Confusion Matrix:\n",
      " [[71  2]\n",
      " [15 32]]\n",
      "\n",
      "Classification Report:\n",
      "               precision    recall  f1-score   support\n",
      "\n",
      "           0       0.83      0.97      0.89        73\n",
      "           1       0.94      0.68      0.79        47\n",
      "\n",
      "    accuracy                           0.86       120\n",
      "   macro avg       0.88      0.83      0.84       120\n",
      "weighted avg       0.87      0.86      0.85       120\n",
      "\n"
     ]
    }
   ],
   "source": [
    "X_train_std, X_test_std = preprocess_data(X_train, X_test, 'standardize')\n",
    "logreg_std = LogisticRegression()\n",
    "logreg_std.fit(X_train_std, y_train)\n",
    "evaluate_model(logreg_std, X_test_std, y_test)"
   ]
  },
  {
   "cell_type": "code",
   "execution_count": 26,
   "id": "11aaa2d4",
   "metadata": {},
   "outputs": [
    {
     "name": "stdout",
     "output_type": "stream",
     "text": [
      "\n",
      "Logistic Regression from Scratch:\n",
      "Accuracy: 0.6083333333333333\n",
      "\n",
      "Confusion Matrix:\n",
      " [[73  0]\n",
      " [47  0]]\n",
      "\n",
      "Classification Report:\n",
      "               precision    recall  f1-score   support\n",
      "\n",
      "           0       0.61      1.00      0.76        73\n",
      "           1       1.00      0.00      0.00        47\n",
      "\n",
      "    accuracy                           0.61       120\n",
      "   macro avg       0.80      0.50      0.38       120\n",
      "weighted avg       0.76      0.61      0.46       120\n",
      "\n"
     ]
    },
    {
     "name": "stderr",
     "output_type": "stream",
     "text": [
      "C:\\Users\\u\\AppData\\Local\\Temp\\ipykernel_15120\\101072150.py:9: RuntimeWarning: overflow encountered in exp\n",
      "  return 1 / (1 + np.exp(-z))\n"
     ]
    }
   ],
   "source": [
    "# Logistic Regression from scratch\n",
    "print(\"\\nLogistic Regression from Scratch:\")\n",
    "logreg_scratch = LogisticRegressionScratch()\n",
    "logreg_scratch.fit(X_train, y_train)\n",
    "evaluate_model(logreg_scratch, X_test, y_test)"
   ]
  }
 ],
 "metadata": {
  "kernelspec": {
   "display_name": "Python 3 (ipykernel)",
   "language": "python",
   "name": "python3"
  },
  "language_info": {
   "codemirror_mode": {
    "name": "ipython",
    "version": 3
   },
   "file_extension": ".py",
   "mimetype": "text/x-python",
   "name": "python",
   "nbconvert_exporter": "python",
   "pygments_lexer": "ipython3",
   "version": "3.11.5"
  }
 },
 "nbformat": 4,
 "nbformat_minor": 5
}
