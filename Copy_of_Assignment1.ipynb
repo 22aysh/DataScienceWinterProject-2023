{
  "nbformat": 4,
  "nbformat_minor": 0,
  "metadata": {
    "colab": {
      "provenance": [],
      "include_colab_link": true
    },
    "kernelspec": {
      "name": "python3",
      "display_name": "Python 3"
    },
    "language_info": {
      "name": "python"
    }
  },
  "cells": [
    {
      "cell_type": "markdown",
      "metadata": {
        "id": "view-in-github",
        "colab_type": "text"
      },
      "source": [
        "<a href=\"https://colab.research.google.com/github/RougeCardinal4179/DataScienceWinterProject-2023/blob/main/Copy_of_Assignment1.ipynb\" target=\"_parent\"><img src=\"https://colab.research.google.com/assets/colab-badge.svg\" alt=\"Open In Colab\"/></a>"
      ]
    },
    {
      "cell_type": "markdown",
      "source": [
        "# Week-1 Assignment\n",
        "\n",
        "**Welcome to your first assignment for the SimuTech Winter Project 2022! I hope you are excited to implement and test everything you have learned up until now. There is an interesting set of questions for you to refine your acquired skills as you delve into hands-on coding and deepen your understanding of numpy, pandas, and data visualization libraries.**\n",
        "\n",
        "P.S. You might find use of functions which you have never used before.So feel free to google"
      ],
      "metadata": {
        "id": "UOzd0zRXW5Uv"
      }
    },
    {
      "cell_type": "code",
      "source": [
        "from google.colab import drive\n",
        "drive.mount('/content/drive')"
      ],
      "metadata": {
        "id": "quOk2Txvgp9V",
        "colab": {
          "base_uri": "https://localhost:8080/"
        },
        "outputId": "1c408bd1-b0e3-4eaa-92d4-648dbf59e354"
      },
      "execution_count": 32,
      "outputs": [
        {
          "output_type": "stream",
          "name": "stdout",
          "text": [
            "Mounted at /content/drive\n"
          ]
        }
      ]
    },
    {
      "cell_type": "markdown",
      "source": [
        "# Section0 : Importing Libraries"
      ],
      "metadata": {
        "id": "2XFUXyq9Y9TG"
      }
    },
    {
      "cell_type": "markdown",
      "source": [
        "*Let's begin by importing numpy, pandas and matplotlib.*"
      ],
      "metadata": {
        "id": "D_bzcLusjSO0"
      }
    },
    {
      "cell_type": "code",
      "source": [
        "#your code here\n",
        "import numpy as np\n",
        "import pandas as pd\n",
        "import matplotlib.pyplot as plt"
      ],
      "metadata": {
        "id": "jdwX7bI7aGeY"
      },
      "execution_count": 34,
      "outputs": []
    },
    {
      "cell_type": "markdown",
      "source": [
        "# Section1 : Playing with Python and Numpy"
      ],
      "metadata": {
        "id": "LM25mz5ta-Q_"
      }
    },
    {
      "cell_type": "markdown",
      "source": [
        "### Q1. Matrix Multiplication"
      ],
      "metadata": {
        "id": "TcFQVqhAdQw_"
      }
    },
    {
      "cell_type": "markdown",
      "source": [
        "##### (i) Check if matrix multiplication is valid"
      ],
      "metadata": {
        "id": "6Dcai9pys0j8"
      }
    },
    {
      "cell_type": "code",
      "source": [
        "def isValid(A,B):\n",
        "  #your code here\n",
        "  if len(A[0]) == len(B):\n",
        "    return True\n",
        "  else:\n",
        "    return False"
      ],
      "metadata": {
        "id": "0qC4txIss3gG"
      },
      "execution_count": 35,
      "outputs": []
    },
    {
      "cell_type": "markdown",
      "source": [
        "##### (ii) Using loops (without using numpy)"
      ],
      "metadata": {
        "id": "OPTfRGlTdXxa"
      }
    },
    {
      "cell_type": "code",
      "source": [
        "def matrix_multiply(A,B):\n",
        "  #your code here\n",
        "  P = np.zeros((len(A), len(B[0])))\n",
        "  for i in range(len(A)):\n",
        "    for j in range(len(B[0])):\n",
        "      for k in range(len(B)):\n",
        "        P[i][j] += int(A[i][k] * B[k][j])\n",
        "\n",
        "\n",
        "  return P"
      ],
      "metadata": {
        "id": "V8F5ETsRct3S"
      },
      "execution_count": 40,
      "outputs": []
    },
    {
      "cell_type": "markdown",
      "source": [
        "##### (iii) Using numpy"
      ],
      "metadata": {
        "id": "umUgUTSWdos8"
      }
    },
    {
      "cell_type": "code",
      "source": [
        "def matrix_multiply_2(A,B):\n",
        "  #your code here\n",
        "  return A@B"
      ],
      "metadata": {
        "id": "-tdXlCHrduBP"
      },
      "execution_count": 41,
      "outputs": []
    },
    {
      "cell_type": "markdown",
      "source": [
        "##### (iv) Testing your code\n",
        "\n",
        "Run the following cell to check if your functions are working properly.\n",
        "\n",
        "*Expected output:*\n",
        "[ [102 108 114]\n",
        " [246 261 276]\n",
        " [390 414 438]\n",
        " [534 567 600] ]"
      ],
      "metadata": {
        "id": "2nMFnl84edJG"
      }
    },
    {
      "cell_type": "code",
      "source": [
        "A = np.array([\n",
        "    [1, 2, 3],\n",
        "    [4, 5, 6],\n",
        "    [7, 8, 9],\n",
        "    [10, 11, 12]\n",
        "])\n",
        "\n",
        "B = np.array([\n",
        "    [13, 14, 15],\n",
        "    [16, 17, 18],\n",
        "    [19, 20, 21]\n",
        "])\n",
        "\n",
        "if isValid(A,B):\n",
        "  print(f\"Result using loops: {matrix_multiply(A,B)}\")\n",
        "  print(f\"Result using numpy: {matrix_multiply_2(A,B)}\")\n",
        "else:\n",
        "  print(f\"Matrix multiplication is not valid\")"
      ],
      "metadata": {
        "id": "09rX_Cm9ezmq",
        "colab": {
          "base_uri": "https://localhost:8080/"
        },
        "outputId": "e957c4f2-47b9-456e-c307-116dbcafcbd9"
      },
      "execution_count": 42,
      "outputs": [
        {
          "output_type": "stream",
          "name": "stdout",
          "text": [
            "Result using loops: [[102. 108. 114.]\n",
            " [246. 261. 276.]\n",
            " [390. 414. 438.]\n",
            " [534. 567. 600.]]\n",
            "Result using numpy: [[102 108 114]\n",
            " [246 261 276]\n",
            " [390 414 438]\n",
            " [534 567 600]]\n"
          ]
        }
      ]
    },
    {
      "cell_type": "markdown",
      "source": [
        "### Q2. Z-Score Normalisation"
      ],
      "metadata": {
        "id": "5hfP7Ao1fwqV"
      }
    },
    {
      "cell_type": "markdown",
      "source": [
        "Z-score normalization refers to the process of normalizing every value in a dataset such that the mean of all of the values is 0 and the standard deviation is 1.\n",
        "\n",
        "We use the following formula to perform a z-score normalization on every value in a dataset:\n",
        "\n",
        "New value = (x – μ) / σ\n",
        "\n",
        "where:\n",
        "\n",
        "x: Original value\n",
        "\n",
        "μ: Mean of data\n",
        "\n",
        "σ: Standard deviation of data"
      ],
      "metadata": {
        "id": "0e81Xx5Kw_CQ"
      }
    },
    {
      "cell_type": "markdown",
      "source": [
        "##### (i) Without using numpy"
      ],
      "metadata": {
        "id": "GP_MuyUbguSR"
      }
    },
    {
      "cell_type": "code",
      "source": [
        "def mean(x):\n",
        "  #your code here\n",
        "  sum = 0\n",
        "  for i in x:\n",
        "    sum += i\n",
        "  return sum / len(x)"
      ],
      "metadata": {
        "id": "0vix8qaaghwP"
      },
      "execution_count": 43,
      "outputs": []
    },
    {
      "cell_type": "code",
      "source": [
        "def standard_deviation(x):\n",
        "  # your code here\n",
        "  m = mean(x)\n",
        "  sum = 0\n",
        "  for i in x:\n",
        "    sum += (i - m) ** 2\n",
        "  return (sum / len(x)) ** (1 / 2.)"
      ],
      "metadata": {
        "id": "j1qabel-g_f5"
      },
      "execution_count": 44,
      "outputs": []
    },
    {
      "cell_type": "code",
      "source": [
        "def zscore_normalisation(x):\n",
        "  #your code here\n",
        "  m = mean(x)\n",
        "  sd = standard_deviation(x)\n",
        "  y = []\n",
        "  for i in x:\n",
        "    y.append((i - m) / sd)\n",
        "\n",
        "  return(y)"
      ],
      "metadata": {
        "id": "797ewbNqhEpY"
      },
      "execution_count": 45,
      "outputs": []
    },
    {
      "cell_type": "markdown",
      "source": [
        "##### (ii) Using numpy\n",
        "\n",
        "Numpy has in_built functions for calculating mean and standard deviation"
      ],
      "metadata": {
        "id": "k8dq1wqRhbUB"
      }
    },
    {
      "cell_type": "code",
      "source": [
        "def zscore_normalisation_2(x):\n",
        "  #your code here\n",
        "  m = np.mean(x)\n",
        "  sd = np.std(x)\n",
        "  y = []\n",
        "  for i in x:\n",
        "    y.append((i - m) / sd)\n",
        "  return(y)\n"
      ],
      "metadata": {
        "id": "WjxJTUDihsYg"
      },
      "execution_count": 46,
      "outputs": []
    },
    {
      "cell_type": "markdown",
      "source": [
        "##### (iii) Testing your code"
      ],
      "metadata": {
        "id": "glRqKU-_1pue"
      }
    },
    {
      "cell_type": "markdown",
      "source": [
        "Run the following cell to check if your functions are working properly.\n",
        "\n",
        "*Expected Output:* [-1.06753267 -0.99745394 -0.99745394 -0.81057732 -0.41346451 -0.06307086\n",
        "  0.31068237  0.91803138  1.22170588  1.89913361]"
      ],
      "metadata": {
        "id": "Kl7XBymOigCU"
      }
    },
    {
      "cell_type": "code",
      "source": [
        "x = [4, 7, 7, 15, 32, 47, 63, 89, 102, 131]\n",
        "print(f\"Result without using numpy: {zscore_normalisation(x)}\")\n",
        "print(f\"Result using numpy: {zscore_normalisation_2(x)}\")"
      ],
      "metadata": {
        "id": "78ptZxf6ipZp",
        "colab": {
          "base_uri": "https://localhost:8080/"
        },
        "outputId": "67635009-cc56-420a-9f3f-a976e63505a9"
      },
      "execution_count": 47,
      "outputs": [
        {
          "output_type": "stream",
          "name": "stdout",
          "text": [
            "Result without using numpy: [-1.0675326683028088, -0.9974539373420117, -0.9974539373420117, -0.8105773214465528, -0.41346451266870277, -0.06307085786471743, 0.3106823739262003, 0.9180313755864415, 1.2217058764165623, 1.8991336090376005]\n",
            "Result using numpy: [-1.0675326683028088, -0.9974539373420117, -0.9974539373420117, -0.8105773214465528, -0.41346451266870277, -0.06307085786471743, 0.3106823739262003, 0.9180313755864415, 1.2217058764165623, 1.8991336090376005]\n"
          ]
        }
      ]
    },
    {
      "cell_type": "markdown",
      "source": [
        "### Q3. Sigmoid fn and its derivative"
      ],
      "metadata": {
        "id": "0WVscJ0z14rp"
      }
    },
    {
      "cell_type": "markdown",
      "source": [
        "The sigmoid function is a mathematical function that maps any input value to a value between 0 and 1.\n",
        "\n",
        "It is defined mathematically as s(x) = 1/(1+e^(-x))."
      ],
      "metadata": {
        "id": "Jfntb0Rg94Tu"
      }
    },
    {
      "cell_type": "markdown",
      "source": [
        "##### (i) Write a fn to implement sigmoid fn"
      ],
      "metadata": {
        "id": "8SCAPkjO2m7u"
      }
    },
    {
      "cell_type": "code",
      "source": [
        "def sigmoidfn(x):\n",
        "  #your code here\n",
        "  y = np.zeros((len(x), len(x[0])))\n",
        "  for i in range(len(x)):\n",
        "    for j in range(len(x[0])):\n",
        "      y[i][j] = 1 / ( 1 + math.exp(-x[i][j]))\n",
        "\n",
        "  return y"
      ],
      "metadata": {
        "id": "jL_TRQFG2l5m"
      },
      "execution_count": 48,
      "outputs": []
    },
    {
      "cell_type": "markdown",
      "source": [
        "##### (ii) Write a fn to implement derivative of sigmoid fn"
      ],
      "metadata": {
        "id": "t7KBbl7N3AUM"
      }
    },
    {
      "cell_type": "code",
      "source": [
        "def derivative(x):\n",
        "  #your code here\n",
        "  y = np.zeros((len(x), len(x[0])))\n",
        "  for i in range(len(x)):\n",
        "    for j in range(len(x[0])):\n",
        "      y[i][j] = math.exp(x[i][j]) / ( 1 + math.exp(x[i][j])) ** 2\n",
        "\n",
        "  return y"
      ],
      "metadata": {
        "id": "okjuOpba3KOJ"
      },
      "execution_count": 49,
      "outputs": []
    },
    {
      "cell_type": "markdown",
      "source": [
        "##### (iii) Test your code"
      ],
      "metadata": {
        "id": "NdGTSpsp3mwr"
      }
    },
    {
      "cell_type": "markdown",
      "source": [
        "Run the following cell to check if your functions are working properly.\n",
        "\n",
        "*Expected output:*\n",
        "\n",
        "x on applying sigmoid activation fn is: [ [0.99987661 0.88079708 0.99330715 0.5        0.5       ]\n",
        " [0.99908895 0.99330715 0.5        0.5        0.5       ] ]\n",
        "\n",
        "x on applying derivative of sigmoid activation fn is: [ [-1.23379350e-04 -1.04993585e-01 -6.64805667e-03 -2.50000000e-01\n",
        "  -2.50000000e-01]\n",
        " [-9.10221180e-04 -6.64805667e-03 -2.50000000e-01 -2.50000000e-01\n",
        "  -2.50000000e-01] ]"
      ],
      "metadata": {
        "id": "lWY8RBex7gnd"
      }
    },
    {
      "cell_type": "code",
      "source": [
        "import math\n",
        "x = np.array([\n",
        "    [9,2,5,0,0],\n",
        "    [7,5,0,0,0]\n",
        "])\n",
        "print(f\"x on applying sigmoid activation fn is: {sigmoidfn(x)}\")\n",
        "print(f\"x on applying derivative of sigmoid activation fn is: {derivative(x)}\")"
      ],
      "metadata": {
        "id": "ssDGpmS33vdA",
        "colab": {
          "base_uri": "https://localhost:8080/"
        },
        "outputId": "56f66bf5-3fee-4add-c234-d96d8da7f89c"
      },
      "execution_count": 50,
      "outputs": [
        {
          "output_type": "stream",
          "name": "stdout",
          "text": [
            "x on applying sigmoid activation fn is: [[0.99987661 0.88079708 0.99330715 0.5        0.5       ]\n",
            " [0.99908895 0.99330715 0.5        0.5        0.5       ]]\n",
            "x on applying derivative of sigmoid activation fn is: [[1.23379350e-04 1.04993585e-01 6.64805667e-03 2.50000000e-01\n",
            "  2.50000000e-01]\n",
            " [9.10221180e-04 6.64805667e-03 2.50000000e-01 2.50000000e-01\n",
            "  2.50000000e-01]]\n"
          ]
        }
      ]
    },
    {
      "cell_type": "markdown",
      "source": [
        "# Section 2: Playing with Pandas"
      ],
      "metadata": {
        "id": "PMa0cseyZpa1"
      }
    },
    {
      "cell_type": "markdown",
      "source": [
        "###Read the csv file\n"
      ],
      "metadata": {
        "id": "i5Okb_jxZ_VW"
      }
    },
    {
      "cell_type": "code",
      "source": [
        "import pandas as pd\n",
        "df = pd.read_csv(\"/superheated_vapor_properties.csv\")\n",
        "df"
      ],
      "metadata": {
        "id": "aQgvyavrcM1l",
        "colab": {
          "base_uri": "https://localhost:8080/",
          "height": 443
        },
        "outputId": "ed916671-0eae-43ae-aaca-146586b21eda"
      },
      "execution_count": 51,
      "outputs": [
        {
          "output_type": "execute_result",
          "data": {
            "text/plain": [
              "     Pressure Property    Liq_Sat      Vap_Sat           75          100  \\\n",
              "0         1.0        V     1.0000  129200.0000  160640.0000  172180.0000   \n",
              "1         1.0        U    29.3340    2385.2000    2480.8000    2516.4000   \n",
              "2         1.0        H    29.3350    2514.4000    2641.5000    2688.6000   \n",
              "3         1.0        S     0.1060       8.9767       9.3828       9.5136   \n",
              "4        10.0        V     1.0100   14670.0000   16030.0000   17190.0000   \n",
              "..        ...      ...        ...          ...          ...          ...   \n",
              "539   11200.0        S     3.4440       5.5476          NaN          NaN   \n",
              "540   11400.0        V     1.5040      15.2840          NaN          NaN   \n",
              "541   11400.0        U  1450.0000    2527.2000          NaN          NaN   \n",
              "542   11400.0        H  1467.2000    2701.5000          NaN          NaN   \n",
              "543   11400.0        S     3.4575       5.5357          NaN          NaN   \n",
              "\n",
              "             125          150          175          200  ...        425  \\\n",
              "0    183720.0000  195270.0000  206810.0000  218350.0000  ...        NaN   \n",
              "1      2552.3000    2588.5000    2624.9000    2661.7000  ...        NaN   \n",
              "2      2736.0000    2783.7000    2831.7000    2880.1000  ...        NaN   \n",
              "3         9.6365       9.7527       9.8629       9.9679  ...        NaN   \n",
              "4     18350.0000   19510.0000   20660.0000   21820.0000  ...        NaN   \n",
              "..           ...          ...          ...          ...  ...        ...   \n",
              "539          NaN          NaN          NaN          NaN  ...     6.2491   \n",
              "540          NaN          NaN          NaN          NaN  ...    24.1040   \n",
              "541          NaN          NaN          NaN          NaN  ...  2873.1000   \n",
              "542          NaN          NaN          NaN          NaN  ...  3147.9000   \n",
              "543          NaN          NaN          NaN          NaN  ...     6.2367   \n",
              "\n",
              "             450        475          500        525          550        575  \\\n",
              "0    333730.0000        NaN  356810.0000        NaN  379880.0000        NaN   \n",
              "1      3049.9000        NaN    3132.4000        NaN    3216.7000        NaN   \n",
              "2      3383.6000        NaN    3489.2000        NaN    3596.5000        NaN   \n",
              "3        10.8200        NaN      10.9612        NaN      11.0957        NaN   \n",
              "4     33370.0000        NaN   35670.0000        NaN   37980.0000        NaN   \n",
              "..           ...        ...          ...        ...          ...        ...   \n",
              "539       6.3515     6.4452       6.5324     6.6147       6.6929     6.7679   \n",
              "540      25.5990    27.0100      28.3590    29.6610      30.9250    32.1600   \n",
              "541    2929.4000  2982.6000    3033.9000  3083.9000    3133.1000  3181.9000   \n",
              "542    3221.2000  3290.5000    3357.2000  3422.1000    3485.7000  3548.5000   \n",
              "543       6.3399     6.4341       6.5218     6.6043       6.6828     6.7580   \n",
              "\n",
              "             600        625          650  \n",
              "0    402960.0000        NaN  426040.0000  \n",
              "1      3302.6000        NaN    3390.3000  \n",
              "2      3705.6000        NaN    3816.4000  \n",
              "3        11.2243        NaN      11.3476  \n",
              "4     40290.0000        NaN   42600.0000  \n",
              "..           ...        ...          ...  \n",
              "539       6.8401     6.9099       6.9777  \n",
              "540      33.3700    34.5600      35.7330  \n",
              "541    3230.4000  3278.8000    3327.2000  \n",
              "542    3610.8000  3672.8000    3734.6000  \n",
              "543       6.8304     6.9004       6.9683  \n",
              "\n",
              "[544 rows x 37 columns]"
            ],
            "text/html": [
              "\n",
              "  <div id=\"df-26343cf3-7c83-464b-b2b6-8f76ac691a0a\" class=\"colab-df-container\">\n",
              "    <div>\n",
              "<style scoped>\n",
              "    .dataframe tbody tr th:only-of-type {\n",
              "        vertical-align: middle;\n",
              "    }\n",
              "\n",
              "    .dataframe tbody tr th {\n",
              "        vertical-align: top;\n",
              "    }\n",
              "\n",
              "    .dataframe thead th {\n",
              "        text-align: right;\n",
              "    }\n",
              "</style>\n",
              "<table border=\"1\" class=\"dataframe\">\n",
              "  <thead>\n",
              "    <tr style=\"text-align: right;\">\n",
              "      <th></th>\n",
              "      <th>Pressure</th>\n",
              "      <th>Property</th>\n",
              "      <th>Liq_Sat</th>\n",
              "      <th>Vap_Sat</th>\n",
              "      <th>75</th>\n",
              "      <th>100</th>\n",
              "      <th>125</th>\n",
              "      <th>150</th>\n",
              "      <th>175</th>\n",
              "      <th>200</th>\n",
              "      <th>...</th>\n",
              "      <th>425</th>\n",
              "      <th>450</th>\n",
              "      <th>475</th>\n",
              "      <th>500</th>\n",
              "      <th>525</th>\n",
              "      <th>550</th>\n",
              "      <th>575</th>\n",
              "      <th>600</th>\n",
              "      <th>625</th>\n",
              "      <th>650</th>\n",
              "    </tr>\n",
              "  </thead>\n",
              "  <tbody>\n",
              "    <tr>\n",
              "      <th>0</th>\n",
              "      <td>1.0</td>\n",
              "      <td>V</td>\n",
              "      <td>1.0000</td>\n",
              "      <td>129200.0000</td>\n",
              "      <td>160640.0000</td>\n",
              "      <td>172180.0000</td>\n",
              "      <td>183720.0000</td>\n",
              "      <td>195270.0000</td>\n",
              "      <td>206810.0000</td>\n",
              "      <td>218350.0000</td>\n",
              "      <td>...</td>\n",
              "      <td>NaN</td>\n",
              "      <td>333730.0000</td>\n",
              "      <td>NaN</td>\n",
              "      <td>356810.0000</td>\n",
              "      <td>NaN</td>\n",
              "      <td>379880.0000</td>\n",
              "      <td>NaN</td>\n",
              "      <td>402960.0000</td>\n",
              "      <td>NaN</td>\n",
              "      <td>426040.0000</td>\n",
              "    </tr>\n",
              "    <tr>\n",
              "      <th>1</th>\n",
              "      <td>1.0</td>\n",
              "      <td>U</td>\n",
              "      <td>29.3340</td>\n",
              "      <td>2385.2000</td>\n",
              "      <td>2480.8000</td>\n",
              "      <td>2516.4000</td>\n",
              "      <td>2552.3000</td>\n",
              "      <td>2588.5000</td>\n",
              "      <td>2624.9000</td>\n",
              "      <td>2661.7000</td>\n",
              "      <td>...</td>\n",
              "      <td>NaN</td>\n",
              "      <td>3049.9000</td>\n",
              "      <td>NaN</td>\n",
              "      <td>3132.4000</td>\n",
              "      <td>NaN</td>\n",
              "      <td>3216.7000</td>\n",
              "      <td>NaN</td>\n",
              "      <td>3302.6000</td>\n",
              "      <td>NaN</td>\n",
              "      <td>3390.3000</td>\n",
              "    </tr>\n",
              "    <tr>\n",
              "      <th>2</th>\n",
              "      <td>1.0</td>\n",
              "      <td>H</td>\n",
              "      <td>29.3350</td>\n",
              "      <td>2514.4000</td>\n",
              "      <td>2641.5000</td>\n",
              "      <td>2688.6000</td>\n",
              "      <td>2736.0000</td>\n",
              "      <td>2783.7000</td>\n",
              "      <td>2831.7000</td>\n",
              "      <td>2880.1000</td>\n",
              "      <td>...</td>\n",
              "      <td>NaN</td>\n",
              "      <td>3383.6000</td>\n",
              "      <td>NaN</td>\n",
              "      <td>3489.2000</td>\n",
              "      <td>NaN</td>\n",
              "      <td>3596.5000</td>\n",
              "      <td>NaN</td>\n",
              "      <td>3705.6000</td>\n",
              "      <td>NaN</td>\n",
              "      <td>3816.4000</td>\n",
              "    </tr>\n",
              "    <tr>\n",
              "      <th>3</th>\n",
              "      <td>1.0</td>\n",
              "      <td>S</td>\n",
              "      <td>0.1060</td>\n",
              "      <td>8.9767</td>\n",
              "      <td>9.3828</td>\n",
              "      <td>9.5136</td>\n",
              "      <td>9.6365</td>\n",
              "      <td>9.7527</td>\n",
              "      <td>9.8629</td>\n",
              "      <td>9.9679</td>\n",
              "      <td>...</td>\n",
              "      <td>NaN</td>\n",
              "      <td>10.8200</td>\n",
              "      <td>NaN</td>\n",
              "      <td>10.9612</td>\n",
              "      <td>NaN</td>\n",
              "      <td>11.0957</td>\n",
              "      <td>NaN</td>\n",
              "      <td>11.2243</td>\n",
              "      <td>NaN</td>\n",
              "      <td>11.3476</td>\n",
              "    </tr>\n",
              "    <tr>\n",
              "      <th>4</th>\n",
              "      <td>10.0</td>\n",
              "      <td>V</td>\n",
              "      <td>1.0100</td>\n",
              "      <td>14670.0000</td>\n",
              "      <td>16030.0000</td>\n",
              "      <td>17190.0000</td>\n",
              "      <td>18350.0000</td>\n",
              "      <td>19510.0000</td>\n",
              "      <td>20660.0000</td>\n",
              "      <td>21820.0000</td>\n",
              "      <td>...</td>\n",
              "      <td>NaN</td>\n",
              "      <td>33370.0000</td>\n",
              "      <td>NaN</td>\n",
              "      <td>35670.0000</td>\n",
              "      <td>NaN</td>\n",
              "      <td>37980.0000</td>\n",
              "      <td>NaN</td>\n",
              "      <td>40290.0000</td>\n",
              "      <td>NaN</td>\n",
              "      <td>42600.0000</td>\n",
              "    </tr>\n",
              "    <tr>\n",
              "      <th>...</th>\n",
              "      <td>...</td>\n",
              "      <td>...</td>\n",
              "      <td>...</td>\n",
              "      <td>...</td>\n",
              "      <td>...</td>\n",
              "      <td>...</td>\n",
              "      <td>...</td>\n",
              "      <td>...</td>\n",
              "      <td>...</td>\n",
              "      <td>...</td>\n",
              "      <td>...</td>\n",
              "      <td>...</td>\n",
              "      <td>...</td>\n",
              "      <td>...</td>\n",
              "      <td>...</td>\n",
              "      <td>...</td>\n",
              "      <td>...</td>\n",
              "      <td>...</td>\n",
              "      <td>...</td>\n",
              "      <td>...</td>\n",
              "      <td>...</td>\n",
              "    </tr>\n",
              "    <tr>\n",
              "      <th>539</th>\n",
              "      <td>11200.0</td>\n",
              "      <td>S</td>\n",
              "      <td>3.4440</td>\n",
              "      <td>5.5476</td>\n",
              "      <td>NaN</td>\n",
              "      <td>NaN</td>\n",
              "      <td>NaN</td>\n",
              "      <td>NaN</td>\n",
              "      <td>NaN</td>\n",
              "      <td>NaN</td>\n",
              "      <td>...</td>\n",
              "      <td>6.2491</td>\n",
              "      <td>6.3515</td>\n",
              "      <td>6.4452</td>\n",
              "      <td>6.5324</td>\n",
              "      <td>6.6147</td>\n",
              "      <td>6.6929</td>\n",
              "      <td>6.7679</td>\n",
              "      <td>6.8401</td>\n",
              "      <td>6.9099</td>\n",
              "      <td>6.9777</td>\n",
              "    </tr>\n",
              "    <tr>\n",
              "      <th>540</th>\n",
              "      <td>11400.0</td>\n",
              "      <td>V</td>\n",
              "      <td>1.5040</td>\n",
              "      <td>15.2840</td>\n",
              "      <td>NaN</td>\n",
              "      <td>NaN</td>\n",
              "      <td>NaN</td>\n",
              "      <td>NaN</td>\n",
              "      <td>NaN</td>\n",
              "      <td>NaN</td>\n",
              "      <td>...</td>\n",
              "      <td>24.1040</td>\n",
              "      <td>25.5990</td>\n",
              "      <td>27.0100</td>\n",
              "      <td>28.3590</td>\n",
              "      <td>29.6610</td>\n",
              "      <td>30.9250</td>\n",
              "      <td>32.1600</td>\n",
              "      <td>33.3700</td>\n",
              "      <td>34.5600</td>\n",
              "      <td>35.7330</td>\n",
              "    </tr>\n",
              "    <tr>\n",
              "      <th>541</th>\n",
              "      <td>11400.0</td>\n",
              "      <td>U</td>\n",
              "      <td>1450.0000</td>\n",
              "      <td>2527.2000</td>\n",
              "      <td>NaN</td>\n",
              "      <td>NaN</td>\n",
              "      <td>NaN</td>\n",
              "      <td>NaN</td>\n",
              "      <td>NaN</td>\n",
              "      <td>NaN</td>\n",
              "      <td>...</td>\n",
              "      <td>2873.1000</td>\n",
              "      <td>2929.4000</td>\n",
              "      <td>2982.6000</td>\n",
              "      <td>3033.9000</td>\n",
              "      <td>3083.9000</td>\n",
              "      <td>3133.1000</td>\n",
              "      <td>3181.9000</td>\n",
              "      <td>3230.4000</td>\n",
              "      <td>3278.8000</td>\n",
              "      <td>3327.2000</td>\n",
              "    </tr>\n",
              "    <tr>\n",
              "      <th>542</th>\n",
              "      <td>11400.0</td>\n",
              "      <td>H</td>\n",
              "      <td>1467.2000</td>\n",
              "      <td>2701.5000</td>\n",
              "      <td>NaN</td>\n",
              "      <td>NaN</td>\n",
              "      <td>NaN</td>\n",
              "      <td>NaN</td>\n",
              "      <td>NaN</td>\n",
              "      <td>NaN</td>\n",
              "      <td>...</td>\n",
              "      <td>3147.9000</td>\n",
              "      <td>3221.2000</td>\n",
              "      <td>3290.5000</td>\n",
              "      <td>3357.2000</td>\n",
              "      <td>3422.1000</td>\n",
              "      <td>3485.7000</td>\n",
              "      <td>3548.5000</td>\n",
              "      <td>3610.8000</td>\n",
              "      <td>3672.8000</td>\n",
              "      <td>3734.6000</td>\n",
              "    </tr>\n",
              "    <tr>\n",
              "      <th>543</th>\n",
              "      <td>11400.0</td>\n",
              "      <td>S</td>\n",
              "      <td>3.4575</td>\n",
              "      <td>5.5357</td>\n",
              "      <td>NaN</td>\n",
              "      <td>NaN</td>\n",
              "      <td>NaN</td>\n",
              "      <td>NaN</td>\n",
              "      <td>NaN</td>\n",
              "      <td>NaN</td>\n",
              "      <td>...</td>\n",
              "      <td>6.2367</td>\n",
              "      <td>6.3399</td>\n",
              "      <td>6.4341</td>\n",
              "      <td>6.5218</td>\n",
              "      <td>6.6043</td>\n",
              "      <td>6.6828</td>\n",
              "      <td>6.7580</td>\n",
              "      <td>6.8304</td>\n",
              "      <td>6.9004</td>\n",
              "      <td>6.9683</td>\n",
              "    </tr>\n",
              "  </tbody>\n",
              "</table>\n",
              "<p>544 rows × 37 columns</p>\n",
              "</div>\n",
              "    <div class=\"colab-df-buttons\">\n",
              "\n",
              "  <div class=\"colab-df-container\">\n",
              "    <button class=\"colab-df-convert\" onclick=\"convertToInteractive('df-26343cf3-7c83-464b-b2b6-8f76ac691a0a')\"\n",
              "            title=\"Convert this dataframe to an interactive table.\"\n",
              "            style=\"display:none;\">\n",
              "\n",
              "  <svg xmlns=\"http://www.w3.org/2000/svg\" height=\"24px\" viewBox=\"0 -960 960 960\">\n",
              "    <path d=\"M120-120v-720h720v720H120Zm60-500h600v-160H180v160Zm220 220h160v-160H400v160Zm0 220h160v-160H400v160ZM180-400h160v-160H180v160Zm440 0h160v-160H620v160ZM180-180h160v-160H180v160Zm440 0h160v-160H620v160Z\"/>\n",
              "  </svg>\n",
              "    </button>\n",
              "\n",
              "  <style>\n",
              "    .colab-df-container {\n",
              "      display:flex;\n",
              "      gap: 12px;\n",
              "    }\n",
              "\n",
              "    .colab-df-convert {\n",
              "      background-color: #E8F0FE;\n",
              "      border: none;\n",
              "      border-radius: 50%;\n",
              "      cursor: pointer;\n",
              "      display: none;\n",
              "      fill: #1967D2;\n",
              "      height: 32px;\n",
              "      padding: 0 0 0 0;\n",
              "      width: 32px;\n",
              "    }\n",
              "\n",
              "    .colab-df-convert:hover {\n",
              "      background-color: #E2EBFA;\n",
              "      box-shadow: 0px 1px 2px rgba(60, 64, 67, 0.3), 0px 1px 3px 1px rgba(60, 64, 67, 0.15);\n",
              "      fill: #174EA6;\n",
              "    }\n",
              "\n",
              "    .colab-df-buttons div {\n",
              "      margin-bottom: 4px;\n",
              "    }\n",
              "\n",
              "    [theme=dark] .colab-df-convert {\n",
              "      background-color: #3B4455;\n",
              "      fill: #D2E3FC;\n",
              "    }\n",
              "\n",
              "    [theme=dark] .colab-df-convert:hover {\n",
              "      background-color: #434B5C;\n",
              "      box-shadow: 0px 1px 3px 1px rgba(0, 0, 0, 0.15);\n",
              "      filter: drop-shadow(0px 1px 2px rgba(0, 0, 0, 0.3));\n",
              "      fill: #FFFFFF;\n",
              "    }\n",
              "  </style>\n",
              "\n",
              "    <script>\n",
              "      const buttonEl =\n",
              "        document.querySelector('#df-26343cf3-7c83-464b-b2b6-8f76ac691a0a button.colab-df-convert');\n",
              "      buttonEl.style.display =\n",
              "        google.colab.kernel.accessAllowed ? 'block' : 'none';\n",
              "\n",
              "      async function convertToInteractive(key) {\n",
              "        const element = document.querySelector('#df-26343cf3-7c83-464b-b2b6-8f76ac691a0a');\n",
              "        const dataTable =\n",
              "          await google.colab.kernel.invokeFunction('convertToInteractive',\n",
              "                                                    [key], {});\n",
              "        if (!dataTable) return;\n",
              "\n",
              "        const docLinkHtml = 'Like what you see? Visit the ' +\n",
              "          '<a target=\"_blank\" href=https://colab.research.google.com/notebooks/data_table.ipynb>data table notebook</a>'\n",
              "          + ' to learn more about interactive tables.';\n",
              "        element.innerHTML = '';\n",
              "        dataTable['output_type'] = 'display_data';\n",
              "        await google.colab.output.renderOutput(dataTable, element);\n",
              "        const docLink = document.createElement('div');\n",
              "        docLink.innerHTML = docLinkHtml;\n",
              "        element.appendChild(docLink);\n",
              "      }\n",
              "    </script>\n",
              "  </div>\n",
              "\n",
              "\n",
              "<div id=\"df-809c3c1e-a1d6-4714-abc5-4c4ca9f3992a\">\n",
              "  <button class=\"colab-df-quickchart\" onclick=\"quickchart('df-809c3c1e-a1d6-4714-abc5-4c4ca9f3992a')\"\n",
              "            title=\"Suggest charts\"\n",
              "            style=\"display:none;\">\n",
              "\n",
              "<svg xmlns=\"http://www.w3.org/2000/svg\" height=\"24px\"viewBox=\"0 0 24 24\"\n",
              "     width=\"24px\">\n",
              "    <g>\n",
              "        <path d=\"M19 3H5c-1.1 0-2 .9-2 2v14c0 1.1.9 2 2 2h14c1.1 0 2-.9 2-2V5c0-1.1-.9-2-2-2zM9 17H7v-7h2v7zm4 0h-2V7h2v10zm4 0h-2v-4h2v4z\"/>\n",
              "    </g>\n",
              "</svg>\n",
              "  </button>\n",
              "\n",
              "<style>\n",
              "  .colab-df-quickchart {\n",
              "      --bg-color: #E8F0FE;\n",
              "      --fill-color: #1967D2;\n",
              "      --hover-bg-color: #E2EBFA;\n",
              "      --hover-fill-color: #174EA6;\n",
              "      --disabled-fill-color: #AAA;\n",
              "      --disabled-bg-color: #DDD;\n",
              "  }\n",
              "\n",
              "  [theme=dark] .colab-df-quickchart {\n",
              "      --bg-color: #3B4455;\n",
              "      --fill-color: #D2E3FC;\n",
              "      --hover-bg-color: #434B5C;\n",
              "      --hover-fill-color: #FFFFFF;\n",
              "      --disabled-bg-color: #3B4455;\n",
              "      --disabled-fill-color: #666;\n",
              "  }\n",
              "\n",
              "  .colab-df-quickchart {\n",
              "    background-color: var(--bg-color);\n",
              "    border: none;\n",
              "    border-radius: 50%;\n",
              "    cursor: pointer;\n",
              "    display: none;\n",
              "    fill: var(--fill-color);\n",
              "    height: 32px;\n",
              "    padding: 0;\n",
              "    width: 32px;\n",
              "  }\n",
              "\n",
              "  .colab-df-quickchart:hover {\n",
              "    background-color: var(--hover-bg-color);\n",
              "    box-shadow: 0 1px 2px rgba(60, 64, 67, 0.3), 0 1px 3px 1px rgba(60, 64, 67, 0.15);\n",
              "    fill: var(--button-hover-fill-color);\n",
              "  }\n",
              "\n",
              "  .colab-df-quickchart-complete:disabled,\n",
              "  .colab-df-quickchart-complete:disabled:hover {\n",
              "    background-color: var(--disabled-bg-color);\n",
              "    fill: var(--disabled-fill-color);\n",
              "    box-shadow: none;\n",
              "  }\n",
              "\n",
              "  .colab-df-spinner {\n",
              "    border: 2px solid var(--fill-color);\n",
              "    border-color: transparent;\n",
              "    border-bottom-color: var(--fill-color);\n",
              "    animation:\n",
              "      spin 1s steps(1) infinite;\n",
              "  }\n",
              "\n",
              "  @keyframes spin {\n",
              "    0% {\n",
              "      border-color: transparent;\n",
              "      border-bottom-color: var(--fill-color);\n",
              "      border-left-color: var(--fill-color);\n",
              "    }\n",
              "    20% {\n",
              "      border-color: transparent;\n",
              "      border-left-color: var(--fill-color);\n",
              "      border-top-color: var(--fill-color);\n",
              "    }\n",
              "    30% {\n",
              "      border-color: transparent;\n",
              "      border-left-color: var(--fill-color);\n",
              "      border-top-color: var(--fill-color);\n",
              "      border-right-color: var(--fill-color);\n",
              "    }\n",
              "    40% {\n",
              "      border-color: transparent;\n",
              "      border-right-color: var(--fill-color);\n",
              "      border-top-color: var(--fill-color);\n",
              "    }\n",
              "    60% {\n",
              "      border-color: transparent;\n",
              "      border-right-color: var(--fill-color);\n",
              "    }\n",
              "    80% {\n",
              "      border-color: transparent;\n",
              "      border-right-color: var(--fill-color);\n",
              "      border-bottom-color: var(--fill-color);\n",
              "    }\n",
              "    90% {\n",
              "      border-color: transparent;\n",
              "      border-bottom-color: var(--fill-color);\n",
              "    }\n",
              "  }\n",
              "</style>\n",
              "\n",
              "  <script>\n",
              "    async function quickchart(key) {\n",
              "      const quickchartButtonEl =\n",
              "        document.querySelector('#' + key + ' button');\n",
              "      quickchartButtonEl.disabled = true;  // To prevent multiple clicks.\n",
              "      quickchartButtonEl.classList.add('colab-df-spinner');\n",
              "      try {\n",
              "        const charts = await google.colab.kernel.invokeFunction(\n",
              "            'suggestCharts', [key], {});\n",
              "      } catch (error) {\n",
              "        console.error('Error during call to suggestCharts:', error);\n",
              "      }\n",
              "      quickchartButtonEl.classList.remove('colab-df-spinner');\n",
              "      quickchartButtonEl.classList.add('colab-df-quickchart-complete');\n",
              "    }\n",
              "    (() => {\n",
              "      let quickchartButtonEl =\n",
              "        document.querySelector('#df-809c3c1e-a1d6-4714-abc5-4c4ca9f3992a button');\n",
              "      quickchartButtonEl.style.display =\n",
              "        google.colab.kernel.accessAllowed ? 'block' : 'none';\n",
              "    })();\n",
              "  </script>\n",
              "</div>\n",
              "\n",
              "  <div id=\"id_5d53fbfd-8816-430e-8c4e-fc1447ebef87\">\n",
              "    <style>\n",
              "      .colab-df-generate {\n",
              "        background-color: #E8F0FE;\n",
              "        border: none;\n",
              "        border-radius: 50%;\n",
              "        cursor: pointer;\n",
              "        display: none;\n",
              "        fill: #1967D2;\n",
              "        height: 32px;\n",
              "        padding: 0 0 0 0;\n",
              "        width: 32px;\n",
              "      }\n",
              "\n",
              "      .colab-df-generate:hover {\n",
              "        background-color: #E2EBFA;\n",
              "        box-shadow: 0px 1px 2px rgba(60, 64, 67, 0.3), 0px 1px 3px 1px rgba(60, 64, 67, 0.15);\n",
              "        fill: #174EA6;\n",
              "      }\n",
              "\n",
              "      [theme=dark] .colab-df-generate {\n",
              "        background-color: #3B4455;\n",
              "        fill: #D2E3FC;\n",
              "      }\n",
              "\n",
              "      [theme=dark] .colab-df-generate:hover {\n",
              "        background-color: #434B5C;\n",
              "        box-shadow: 0px 1px 3px 1px rgba(0, 0, 0, 0.15);\n",
              "        filter: drop-shadow(0px 1px 2px rgba(0, 0, 0, 0.3));\n",
              "        fill: #FFFFFF;\n",
              "      }\n",
              "    </style>\n",
              "    <button class=\"colab-df-generate\" onclick=\"generateWithVariable('df')\"\n",
              "            title=\"Generate code using this dataframe.\"\n",
              "            style=\"display:none;\">\n",
              "\n",
              "  <svg xmlns=\"http://www.w3.org/2000/svg\" height=\"24px\"viewBox=\"0 0 24 24\"\n",
              "       width=\"24px\">\n",
              "    <path d=\"M7,19H8.4L18.45,9,17,7.55,7,17.6ZM5,21V16.75L18.45,3.32a2,2,0,0,1,2.83,0l1.4,1.43a1.91,1.91,0,0,1,.58,1.4,1.91,1.91,0,0,1-.58,1.4L9.25,21ZM18.45,9,17,7.55Zm-12,3A5.31,5.31,0,0,0,4.9,8.1,5.31,5.31,0,0,0,1,6.5,5.31,5.31,0,0,0,4.9,4.9,5.31,5.31,0,0,0,6.5,1,5.31,5.31,0,0,0,8.1,4.9,5.31,5.31,0,0,0,12,6.5,5.46,5.46,0,0,0,6.5,12Z\"/>\n",
              "  </svg>\n",
              "    </button>\n",
              "    <script>\n",
              "      (() => {\n",
              "      const buttonEl =\n",
              "        document.querySelector('#id_5d53fbfd-8816-430e-8c4e-fc1447ebef87 button.colab-df-generate');\n",
              "      buttonEl.style.display =\n",
              "        google.colab.kernel.accessAllowed ? 'block' : 'none';\n",
              "\n",
              "      buttonEl.onclick = () => {\n",
              "        google.colab.notebook.generateWithVariable('df');\n",
              "      }\n",
              "      })();\n",
              "    </script>\n",
              "  </div>\n",
              "\n",
              "    </div>\n",
              "  </div>\n"
            ]
          },
          "metadata": {},
          "execution_count": 51
        }
      ]
    },
    {
      "cell_type": "markdown",
      "source": [
        "###Display the shape of data frame\n"
      ],
      "metadata": {
        "id": "Zp8F3rk2cNxy"
      }
    },
    {
      "cell_type": "code",
      "source": [
        "#your code here\n",
        "print(df.shape)"
      ],
      "metadata": {
        "id": "v3Q8kQkucgK0",
        "colab": {
          "base_uri": "https://localhost:8080/"
        },
        "outputId": "1df41901-7952-46cd-fc9d-fa91bf2a496d"
      },
      "execution_count": 52,
      "outputs": [
        {
          "output_type": "stream",
          "name": "stdout",
          "text": [
            "(544, 37)\n"
          ]
        }
      ]
    },
    {
      "cell_type": "markdown",
      "source": [
        "###Return an array containing names of all the columns"
      ],
      "metadata": {
        "id": "w49cp-8zcgd2"
      }
    },
    {
      "cell_type": "code",
      "source": [
        "#your code here\n",
        "columns_array = list(df.columns)\n",
        "print(columns_array)"
      ],
      "metadata": {
        "id": "fz4HRb3JcsZp",
        "colab": {
          "base_uri": "https://localhost:8080/"
        },
        "outputId": "4c121d3d-dccf-4f75-e710-c45f6a59f148"
      },
      "execution_count": 53,
      "outputs": [
        {
          "output_type": "stream",
          "name": "stdout",
          "text": [
            "['Pressure', 'Property', 'Liq_Sat', 'Vap_Sat', '75', '100', '125', '150', '175', '200', '220', '225', '240', '250', '260', '275', '280', '290', '300', '320', '325', '340', '350', '360', '375', '380', '400', '425', '450', '475', '500', '525', '550', '575', '600', '625', '650']\n"
          ]
        }
      ]
    },
    {
      "cell_type": "markdown",
      "source": [
        "###Display the number of null values in each column of the dataframe``\n",
        "\n"
      ],
      "metadata": {
        "id": "YkTH9tRWcrH-"
      }
    },
    {
      "cell_type": "code",
      "source": [
        "#your code here\n",
        "columns_array = list(df.columns)\n",
        "for i in columns_array:\n",
        "  bool_series = pd.isnull(df[i])\n",
        "  null_no = bool_series.sum()\n",
        "  print(f\"{i} has {null_no} null values\")"
      ],
      "metadata": {
        "id": "GK9-PJPxc3Ot",
        "colab": {
          "base_uri": "https://localhost:8080/"
        },
        "outputId": "8b4f5abc-0155-4c76-98b8-ff06705fb1b9"
      },
      "execution_count": 54,
      "outputs": [
        {
          "output_type": "stream",
          "name": "stdout",
          "text": [
            "Pressure has 0 null values\n",
            "Property has 0 null values\n",
            "Liq_Sat has 0 null values\n",
            "Vap_Sat has 0 null values\n",
            "75 has 528 null values\n",
            "100 has 508 null values\n",
            "125 has 488 null values\n",
            "150 has 448 null values\n",
            "175 has 384 null values\n",
            "200 has 320 null values\n",
            "220 has 408 null values\n",
            "225 has 400 null values\n",
            "240 has 408 null values\n",
            "250 has 344 null values\n",
            "260 has 384 null values\n",
            "275 has 340 null values\n",
            "280 has 380 null values\n",
            "290 has 488 null values\n",
            "300 has 60 null values\n",
            "320 has 480 null values\n",
            "325 has 136 null values\n",
            "340 has 476 null values\n",
            "350 has 68 null values\n",
            "360 has 476 null values\n",
            "375 has 204 null values\n",
            "380 has 476 null values\n",
            "400 has 0 null values\n",
            "425 has 204 null values\n",
            "450 has 0 null values\n",
            "475 has 204 null values\n",
            "500 has 0 null values\n",
            "525 has 272 null values\n",
            "550 has 0 null values\n",
            "575 has 340 null values\n",
            "600 has 0 null values\n",
            "625 has 476 null values\n",
            "650 has 0 null values\n"
          ]
        }
      ]
    },
    {
      "cell_type": "markdown",
      "source": [
        "###Create a column which contains the Pressure and Property columns, seperated with 'at' (For eg. V at 1, H at 101.325). Using this print the following:\n",
        "- Enthalpy at 75 kPa and 573 K\n",
        "- Entropy at 493 K and 250 kPa\n",
        "\n"
      ],
      "metadata": {
        "id": "Av-lcft2c3mx"
      }
    },
    {
      "cell_type": "code",
      "source": [
        "df['Property at Pressure']=df['Property'] + \" at \" + df['Pressure'].astype(str)\n",
        "idx1=df[df['Property at Pressure']=='V at 10.0'].index\n",
        "df['75'].loc[idx1].item()\n",
        "\n"
      ],
      "metadata": {
        "id": "B2AihQj_c32C",
        "colab": {
          "base_uri": "https://localhost:8080/"
        },
        "outputId": "1f37072b-15e8-44c5-d2a8-716337f47805"
      },
      "execution_count": 55,
      "outputs": [
        {
          "output_type": "execute_result",
          "data": {
            "text/plain": [
              "16030.0"
            ]
          },
          "metadata": {},
          "execution_count": 55
        }
      ]
    },
    {
      "cell_type": "markdown",
      "source": [
        "###Find out the column with the highest number of missing values"
      ],
      "metadata": {
        "id": "GpLtXYRLc4Ho"
      }
    },
    {
      "cell_type": "code",
      "source": [
        "#your code here\n",
        "# columns_array = list(df.columns)\n",
        "# k = 0\n",
        "# for i in columns_array:\n",
        "#   bool_series = pd.isnull(df[i])\n",
        "#   null_no = bool_series.sum()\n",
        "#   if null_no > k:\n",
        "#     k = null_no\n",
        "#     l = i\n",
        "\n",
        "print(df)\n"
      ],
      "metadata": {
        "id": "q80Grgeyc4Xn"
      },
      "execution_count": null,
      "outputs": []
    },
    {
      "cell_type": "markdown",
      "source": [
        "###What is the average enthalpy of Sat. Liq. at all different pressures in the dataset ?"
      ],
      "metadata": {
        "id": "74NVHTTac4nv"
      }
    },
    {
      "cell_type": "code",
      "source": [
        "print(df['Liq_Sat'].iloc[2::4].mean())"
      ],
      "metadata": {
        "id": "g3mByhBDdpVr",
        "colab": {
          "base_uri": "https://localhost:8080/"
        },
        "outputId": "31fd27b2-b568-469b-935c-32fb936fba3d"
      },
      "execution_count": 57,
      "outputs": [
        {
          "output_type": "stream",
          "name": "stdout",
          "text": [
            "936.9707720588235\n"
          ]
        }
      ]
    },
    {
      "cell_type": "markdown",
      "source": [
        "###Separate out the V,U,H,S data from the dataset into V_data, U_data, H_data, S_data"
      ],
      "metadata": {
        "id": "uS-SuqU8dpxg"
      }
    },
    {
      "cell_type": "code",
      "source": [
        "#your code here"
      ],
      "metadata": {
        "id": "Sg3V9Toyd1Av"
      },
      "execution_count": 58,
      "outputs": []
    },
    {
      "cell_type": "markdown",
      "source": [
        "#Section 3: PLotting the PLOTS"
      ],
      "metadata": {
        "id": "Ghkj0-0-d1W7"
      }
    },
    {
      "cell_type": "markdown",
      "source": [
        "###Plot the properties (specific volume, specific internal energy, specific enthalpy, specific entropy) vs Pressure for saturated liquid.\n",
        "\n",
        "Note:\n",
        "- Try using the subplot feature of matplotlib(Explore it!!)\n",
        "- Provide appropriate title, labels, markersize and other parameters to the plot"
      ],
      "metadata": {
        "id": "ka0qrDcZeAL6"
      }
    },
    {
      "cell_type": "code",
      "source": [
        "#your code here\n",
        "fig, ax = plt.subplots(nrows = 2, ncols = 2, figsize=(8, 8))\n",
        "ax[0,0].plot(df['Liq_Sat'].iloc[0::4], df['Pressure'].iloc[0::4], 'b')\n",
        "ax[0,0].set_title(\"V v/s P\")\n",
        "\n",
        "ax[0,1].plot(df['Liq_Sat'].iloc[1::4], df['Pressure'].iloc[1::4], 'g')\n",
        "ax[0,1].set_title(\"U v/s P\")\n",
        "\n",
        "ax[1,0].plot(df['Liq_Sat'].iloc[2::4], df['Pressure'].iloc[2::4], 'r')\n",
        "ax[1,0].set_title(\"H v/s P\")\n",
        "\n",
        "ax[1,1].plot(df['Liq_Sat'].iloc[3::4], df['Pressure'].iloc[3::4])\n",
        "ax[1,1].set_title(\"S v/s P\")\n",
        "\n",
        "plt.suptitle(\"Saturated Liquid\")\n",
        "plt.show()"
      ],
      "metadata": {
        "id": "XbKdm-cUePKA",
        "colab": {
          "base_uri": "https://localhost:8080/",
          "height": 756
        },
        "outputId": "d530e976-43bf-4768-a5f5-7696f2c77002"
      },
      "execution_count": 81,
      "outputs": [
        {
          "output_type": "display_data",
          "data": {
            "text/plain": [
              "<Figure size 800x800 with 4 Axes>"
            ],
            "image/png": "[encoded data removed]"
          },
          "metadata": {}
        }
      ]
    },
    {
      "cell_type": "markdown",
      "source": [
        "###Plot the specific volume of saturated liquid between 300 kPa and 1500 kPa"
      ],
      "metadata": {
        "id": "SCLRji6TeQgh"
      }
    },
    {
      "cell_type": "code",
      "source": [
        "#your code here\n",
        "k1=0\n",
        "k2=0\n",
        "for i in range(df.shape[0]):\n",
        "  if df.loc[i, 'Pressure'] == 300:\n",
        "    k1 = i\n",
        "    break\n",
        "for i in range(df.shape[0]):\n",
        "  if df.loc[i, 'Pressure'] == 1500:\n",
        "    k2 = i\n",
        "    break\n",
        "plt.plot(df['Pressure'].iloc[k1:k2:4], df['Liq_Sat'].iloc[k1:k2:4], 'b')\n",
        "plt.title(\"Specific Volume v/s Pressure\")\n",
        "plt.show()"
      ],
      "metadata": {
        "id": "u6DyyI7MeYgE"
      },
      "execution_count": null,
      "outputs": []
    },
    {
      "cell_type": "markdown",
      "source": [
        "#Linear Regression\n",
        "You're given a 100 data points generated from the function\n",
        "$y=mx+c$. Some noise is added to the y values.\n",
        "\n",
        "**Task:** Estimate the values of m and c using linear regression. Write a suitable cost function and update the parameters."
      ],
      "metadata": {
        "id": "6N_8T4KnfnOG"
      }
    },
    {
      "cell_type": "code",
      "source": [
        " # Generation of data points\n",
        "x = np.random.rand(100)*100\n",
        "y = -4*x+15\n",
        "y = y+np.random.randn(100)*30\n",
        "plt.scatter(x,y)"
      ],
      "metadata": {
        "id": "qK0CKt8WfuO9"
      },
      "execution_count": null,
      "outputs": []
    },
    {
      "cell_type": "code",
      "source": [
        "# Initialisng parameters m and c such that the best fit line is given by y = m*x+c\n",
        "\n",
        "#Cost function to be minimised\n",
        "\n",
        "#Function for updating parameter\n"
      ],
      "metadata": {
        "id": "0lyjPEfmiC-e"
      },
      "execution_count": null,
      "outputs": []
    },
    {
      "cell_type": "markdown",
      "source": [
        "Run the model"
      ],
      "metadata": {
        "id": "JPy839WUiOvz"
      }
    },
    {
      "cell_type": "code",
      "source": [
        "# define number of iterations for minimising cost function\n",
        "\n",
        "# define the learning rate #\n",
        "\n",
        "# run the model"
      ],
      "metadata": {
        "id": "sf8s00SUiYhN"
      },
      "execution_count": null,
      "outputs": []
    },
    {
      "cell_type": "code",
      "source": [
        "print(m,c)  # value should be close to (-4,15)"
      ],
      "metadata": {
        "id": "_g7W3mloilGn"
      },
      "execution_count": null,
      "outputs": []
    }
  ]
}