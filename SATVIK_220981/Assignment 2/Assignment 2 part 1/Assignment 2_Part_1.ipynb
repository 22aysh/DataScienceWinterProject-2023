{
 "cells": [
  {
   "cell_type": "code",
   "execution_count": 3,
   "id": "8b174ad0",
   "metadata": {},
   "outputs": [],
   "source": [
    "import numpy as np\n",
    "import pandas as pd\n",
    "import sklearn\n",
    "import matplotlib.pyplot as plt\n",
    "from sklearn.model_selection import train_test_split\n",
    "import operator\n",
    "import seaborn as sns"
   ]
  },
  {
   "cell_type": "code",
   "execution_count": 43,
   "id": "e2d5e25b",
   "metadata": {},
   "outputs": [
    {
     "data": {
      "text/html": [
       "<div>\n",
       "<style scoped>\n",
       "    .dataframe tbody tr th:only-of-type {\n",
       "        vertical-align: middle;\n",
       "    }\n",
       "\n",
       "    .dataframe tbody tr th {\n",
       "        vertical-align: top;\n",
       "    }\n",
       "\n",
       "    .dataframe thead th {\n",
       "        text-align: right;\n",
       "    }\n",
       "</style>\n",
       "<table border=\"1\" class=\"dataframe\">\n",
       "  <thead>\n",
       "    <tr style=\"text-align: right;\">\n",
       "      <th></th>\n",
       "      <th>User ID</th>\n",
       "      <th>Gender</th>\n",
       "      <th>Age</th>\n",
       "      <th>EstimatedSalary</th>\n",
       "      <th>Purchased</th>\n",
       "    </tr>\n",
       "  </thead>\n",
       "  <tbody>\n",
       "    <tr>\n",
       "      <th>0</th>\n",
       "      <td>15624510</td>\n",
       "      <td>Male</td>\n",
       "      <td>19</td>\n",
       "      <td>19000</td>\n",
       "      <td>0</td>\n",
       "    </tr>\n",
       "    <tr>\n",
       "      <th>1</th>\n",
       "      <td>15810944</td>\n",
       "      <td>Male</td>\n",
       "      <td>35</td>\n",
       "      <td>20000</td>\n",
       "      <td>0</td>\n",
       "    </tr>\n",
       "    <tr>\n",
       "      <th>2</th>\n",
       "      <td>15668575</td>\n",
       "      <td>Female</td>\n",
       "      <td>26</td>\n",
       "      <td>43000</td>\n",
       "      <td>0</td>\n",
       "    </tr>\n",
       "    <tr>\n",
       "      <th>3</th>\n",
       "      <td>15603246</td>\n",
       "      <td>Female</td>\n",
       "      <td>27</td>\n",
       "      <td>57000</td>\n",
       "      <td>0</td>\n",
       "    </tr>\n",
       "    <tr>\n",
       "      <th>4</th>\n",
       "      <td>15804002</td>\n",
       "      <td>Male</td>\n",
       "      <td>19</td>\n",
       "      <td>76000</td>\n",
       "      <td>0</td>\n",
       "    </tr>\n",
       "    <tr>\n",
       "      <th>...</th>\n",
       "      <td>...</td>\n",
       "      <td>...</td>\n",
       "      <td>...</td>\n",
       "      <td>...</td>\n",
       "      <td>...</td>\n",
       "    </tr>\n",
       "    <tr>\n",
       "      <th>395</th>\n",
       "      <td>15691863</td>\n",
       "      <td>Female</td>\n",
       "      <td>46</td>\n",
       "      <td>41000</td>\n",
       "      <td>1</td>\n",
       "    </tr>\n",
       "    <tr>\n",
       "      <th>396</th>\n",
       "      <td>15706071</td>\n",
       "      <td>Male</td>\n",
       "      <td>51</td>\n",
       "      <td>23000</td>\n",
       "      <td>1</td>\n",
       "    </tr>\n",
       "    <tr>\n",
       "      <th>397</th>\n",
       "      <td>15654296</td>\n",
       "      <td>Female</td>\n",
       "      <td>50</td>\n",
       "      <td>20000</td>\n",
       "      <td>1</td>\n",
       "    </tr>\n",
       "    <tr>\n",
       "      <th>398</th>\n",
       "      <td>15755018</td>\n",
       "      <td>Male</td>\n",
       "      <td>36</td>\n",
       "      <td>33000</td>\n",
       "      <td>0</td>\n",
       "    </tr>\n",
       "    <tr>\n",
       "      <th>399</th>\n",
       "      <td>15594041</td>\n",
       "      <td>Female</td>\n",
       "      <td>49</td>\n",
       "      <td>36000</td>\n",
       "      <td>1</td>\n",
       "    </tr>\n",
       "  </tbody>\n",
       "</table>\n",
       "<p>400 rows × 5 columns</p>\n",
       "</div>"
      ],
      "text/plain": [
       "      User ID  Gender  Age  EstimatedSalary  Purchased\n",
       "0    15624510    Male   19            19000          0\n",
       "1    15810944    Male   35            20000          0\n",
       "2    15668575  Female   26            43000          0\n",
       "3    15603246  Female   27            57000          0\n",
       "4    15804002    Male   19            76000          0\n",
       "..        ...     ...  ...              ...        ...\n",
       "395  15691863  Female   46            41000          1\n",
       "396  15706071    Male   51            23000          1\n",
       "397  15654296  Female   50            20000          1\n",
       "398  15755018    Male   36            33000          0\n",
       "399  15594041  Female   49            36000          1\n",
       "\n",
       "[400 rows x 5 columns]"
      ]
     },
     "execution_count": 43,
     "metadata": {},
     "output_type": "execute_result"
    }
   ],
   "source": [
    "data = pd.read_csv('Social_Network_Ads.csv')\n",
    "data"
   ]
  },
  {
   "cell_type": "code",
   "execution_count": null,
   "id": "ef7eb436",
   "metadata": {},
   "outputs": [],
   "source": [
    "#giving values to different genders(male and female)\n",
    "data.loc[data['Gender'] == 'Male', 'Gender'] = 1\n",
    "data.loc[data['Gender'] == 'Female', 'Gender'] = 0\n",
    "# defining variables\n",
    "features = data['Age'].values\n",
    "target = data['Purchased'].values\n",
    "features_train, features_test, target_train, target_test = train_test_split(features,target,test_size=0.3)"
   ]
  },
  {
   "cell_type": "code",
   "execution_count": 37,
   "id": "79836b42",
   "metadata": {},
   "outputs": [],
   "source": [
    "\n",
    "#The General Function \n",
    "def predict(X, b0, b1):\n",
    "    return np.array([1 / (1 + np.exp(-1*b0 + -1*b1*x)) for x in X])\n",
    "# defining my logistic regression model\n",
    "def logistic_regression(feature_1,target_train):\n",
    "    b0=np.random.random()\n",
    "    b1=np.random.random()\n",
    "    L = 0.0001\n",
    "    epochs = 1000\n",
    "    \n",
    "    for epoch in range(epochs):\n",
    "        target_predicted = predict(feature_1,b0,b1)\n",
    "        D_b0 = -2 * sum((target_train - target_predicted) * target_predicted * (1 - target_predicted))  # Derivative of loss wrt b0\n",
    "        D_b1 = -2 * sum(feature_1 * (target_train - target_predicted) * target_predicted * (1 - target_predicted)) # Derivative of loss wrt b1\n",
    "       #Here we are upgrading the variable\n",
    "        b0 = b0 - L*D_b0\n",
    "        b1 = b1 - L*D_b1\n",
    "        # b2 = b2 - L*D_b2\n",
    "\n",
    "    return b0,b1\n",
    "\n",
    "# %"
   ]
  },
  {
   "cell_type": "code",
   "execution_count": 54,
   "id": "61dff8c9",
   "metadata": {},
   "outputs": [
    {
     "data": {
      "image/png": "[encoded data removed]",
      "text/plain": [
       "<Figure size 640x480 with 1 Axes>"
      ]
     },
     "metadata": {},
     "output_type": "display_data"
    },
    {
     "name": "stdout",
     "output_type": "stream",
     "text": [
      "              precision    recall  f1-score   support\n",
      "\n",
      "           0       0.00      0.00      0.00        72\n",
      "           1       0.40      1.00      0.57        48\n",
      "\n",
      "    accuracy                           0.40       120\n",
      "   macro avg       0.20      0.50      0.29       120\n",
      "weighted avg       0.16      0.40      0.23       120\n",
      "\n"
     ]
    },
    {
     "name": "stderr",
     "output_type": "stream",
     "text": [
      "C:\\Users\\anujp\\anaconda3\\Lib\\site-packages\\sklearn\\metrics\\_classification.py:1469: UndefinedMetricWarning: Precision and F-score are ill-defined and being set to 0.0 in labels with no predicted samples. Use `zero_division` parameter to control this behavior.\n",
      "  _warn_prf(average, modifier, msg_start, len(result))\n",
      "C:\\Users\\anujp\\anaconda3\\Lib\\site-packages\\sklearn\\metrics\\_classification.py:1469: UndefinedMetricWarning: Precision and F-score are ill-defined and being set to 0.0 in labels with no predicted samples. Use `zero_division` parameter to control this behavior.\n",
      "  _warn_prf(average, modifier, msg_start, len(result))\n",
      "C:\\Users\\anujp\\anaconda3\\Lib\\site-packages\\sklearn\\metrics\\_classification.py:1469: UndefinedMetricWarning: Precision and F-score are ill-defined and being set to 0.0 in labels with no predicted samples. Use `zero_division` parameter to control this behavior.\n",
      "  _warn_prf(average, modifier, msg_start, len(result))\n"
     ]
    }
   ],
   "source": [
    "# %%\n",
    "# using raw data\n",
    "b0,b1 = logistic_regression(features_train,target_train)\n",
    "predict_feature = predict(features_test,b0,b1)\n",
    "predict_feature = [1 if value>=0.5 else 0 for value in predict_feature]\n",
    "# plotting code\n",
    "plt.clf()\n",
    "plt.scatter(features_test, target_test)\n",
    "plt.scatter(features_test, predict_feature, c=\"orange\")\n",
    "plt.show()\n",
    "# check accuracy\n",
    "from sklearn.metrics import classification_report\n",
    "print(classification_report(target_test,predict_feature))\n",
    "\n"
   ]
  },
  {
   "cell_type": "code",
   "execution_count": 48,
   "id": "aca36ac1",
   "metadata": {},
   "outputs": [],
   "source": [
    "def normalize_func(X):\n",
    "    for i in range(len(X)):\n",
    "        X[i] = X[i]-np.mean(X)\n",
    "    return X"
   ]
  },
  {
   "cell_type": "code",
   "execution_count": 33,
   "id": "ecc8b241",
   "metadata": {},
   "outputs": [
    {
     "data": {
      "image/png": "[encoded data removed]",
      "text/plain": [
       "<Figure size 640x480 with 1 Axes>"
      ]
     },
     "metadata": {},
     "output_type": "display_data"
    },
    {
     "name": "stdout",
     "output_type": "stream",
     "text": [
      "              precision    recall  f1-score   support\n",
      "\n",
      "           0       0.87      0.75      0.81        81\n",
      "           1       0.60      0.77      0.67        39\n",
      "\n",
      "    accuracy                           0.76       120\n",
      "   macro avg       0.74      0.76      0.74       120\n",
      "weighted avg       0.78      0.76      0.76       120\n",
      "\n"
     ]
    }
   ],
   "source": [
    "# normalizing the data\n",
    "features_train_norm,features_test_norm = normalize_func(features_train),normalize_func(features_test)\n",
    "# running our model\n",
    "b0_norm,b1_norm = logistic_regression(features_train_norm,target_train)\n",
    "predict_feature_norm = predict(features_test_norm,b0_norm,b1_norm)\n",
    "predict_feature_norm = [1 if value>=0.5 else 0 for value in predict_feature_norm]\n",
    "# plotting code\n",
    "plt.clf()\n",
    "plt.scatter(features_test_norm, target_test)\n",
    "plt.scatter(features_test_norm, predict_feature_norm, c=\"orange\")\n",
    "plt.show()\n",
    "# check accuracy\n",
    "from sklearn.metrics import classification_report\n",
    "print(classification_report(target_test,predict_feature_norm))\n"
   ]
  },
  {
   "cell_type": "code",
   "execution_count": 53,
   "id": "c68d314e",
   "metadata": {},
   "outputs": [
    {
     "data": {
      "image/png": "[encoded data removed]",
      "text/plain": [
       "<Figure size 640x480 with 1 Axes>"
      ]
     },
     "metadata": {},
     "output_type": "display_data"
    },
    {
     "name": "stdout",
     "output_type": "stream",
     "text": [
      "              precision    recall  f1-score   support\n",
      "\n",
      "           0       0.79      0.89      0.84        72\n",
      "           1       0.79      0.65      0.71        48\n",
      "\n",
      "    accuracy                           0.79       120\n",
      "   macro avg       0.79      0.77      0.77       120\n",
      "weighted avg       0.79      0.79      0.79       120\n",
      "\n"
     ]
    }
   ],
   "source": [
    "# %%\n",
    "# using standardize data\n",
    "# standardize helper function\n",
    "from sklearn.preprocessing import scale\n",
    "# normalizing the data\n",
    "features_train_scaled,features_test_scaled = scale(features_train),scale(features_test)\n",
    "# running our model\n",
    "b0_scaled,b1_scaled = logistic_regression(features_train_scaled,target_train)\n",
    "predict_feature_scaled = predict(features_test_scaled,b0_scaled,b1_scaled)\n",
    "predict_feature_scaled = [1 if value>=0.5 else 0 for value in predict_feature_scaled]\n",
    "# plotting code\n",
    "plt.clf()\n",
    "plt.scatter(features_test_scaled, target_test)\n",
    "plt.scatter(features_test_scaled, predict_feature_norm, c=\"orange\")\n",
    "plt.show()\n",
    "# check accuracy\n",
    "from sklearn.metrics import classification_report\n",
    "print(classification_report(target_test,predict_feature_scaled))"
   ]
  },
  {
   "cell_type": "code",
   "execution_count": 52,
   "id": "591faba0",
   "metadata": {},
   "outputs": [
    {
     "data": {
      "image/png": "[encoded data removed]",
      "text/plain": [
       "<Figure size 640x480 with 1 Axes>"
      ]
     },
     "metadata": {},
     "output_type": "display_data"
    },
    {
     "name": "stdout",
     "output_type": "stream",
     "text": [
      "              precision    recall  f1-score   support\n",
      "\n",
      "           0       0.63      1.00      0.78        76\n",
      "           1       0.00      0.00      0.00        44\n",
      "\n",
      "    accuracy                           0.63       120\n",
      "   macro avg       0.32      0.50      0.39       120\n",
      "weighted avg       0.40      0.63      0.49       120\n",
      "\n"
     ]
    },
    {
     "name": "stderr",
     "output_type": "stream",
     "text": [
      "C:\\Users\\anujp\\anaconda3\\Lib\\site-packages\\sklearn\\metrics\\_classification.py:1469: UndefinedMetricWarning: Precision and F-score are ill-defined and being set to 0.0 in labels with no predicted samples. Use `zero_division` parameter to control this behavior.\n",
      "  _warn_prf(average, modifier, msg_start, len(result))\n",
      "C:\\Users\\anujp\\anaconda3\\Lib\\site-packages\\sklearn\\metrics\\_classification.py:1469: UndefinedMetricWarning: Precision and F-score are ill-defined and being set to 0.0 in labels with no predicted samples. Use `zero_division` parameter to control this behavior.\n",
      "  _warn_prf(average, modifier, msg_start, len(result))\n",
      "C:\\Users\\anujp\\anaconda3\\Lib\\site-packages\\sklearn\\metrics\\_classification.py:1469: UndefinedMetricWarning: Precision and F-score are ill-defined and being set to 0.0 in labels with no predicted samples. Use `zero_division` parameter to control this behavior.\n",
      "  _warn_prf(average, modifier, msg_start, len(result))\n"
     ]
    }
   ],
   "source": [
    "# %%\n",
    "# using sklearn inbuilt functions\n",
    "# defining in-built functions\n",
    "from sklearn.linear_model import LogisticRegression\n",
    "X = data.drop(['Purchased','User ID','Gender','EstimatedSalary'],axis=1)\n",
    "Y = data['Purchased']\n",
    "# normalizing data\n",
    "X_norm = pd.DataFrame(pd.Series(normalize_func([X])))\n",
    "X_train_norm,X_test_norm,Y_train,Y_test = train_test_split(X_norm[0][0],Y,test_size=0.3)\n",
    "log_regr_norm = LogisticRegression().fit(X_train_norm,Y_train)\n",
    "prediction_norm = log_regr.predict(X_test_norm)\n",
    "# plotting code\n",
    "plt.clf()\n",
    "plt.scatter(X_test_norm, Y_test)\n",
    "plt.scatter(X_test_norm, prediction_norm, c=\"red\")\n",
    "plt.show()\n",
    "# check accuracy\n",
    "from sklearn.metrics import classification_report\n",
    "print(classification_report(Y_test,prediction_norm))\n",
    "\n"
   ]
  },
  {
   "cell_type": "code",
   "execution_count": null,
   "id": "77d52aaa",
   "metadata": {},
   "outputs": [],
   "source": []
  },
  {
   "cell_type": "code",
   "execution_count": null,
   "id": "bf329a86",
   "metadata": {},
   "outputs": [],
   "source": []
  }
 ],
 "metadata": {
  "kernelspec": {
   "display_name": "Python 3 (ipykernel)",
   "language": "python",
   "name": "python3"
  },
  "language_info": {
   "codemirror_mode": {
    "name": "ipython",
    "version": 3
   },
   "file_extension": ".py",
   "mimetype": "text/x-python",
   "name": "python",
   "nbconvert_exporter": "python",
   "pygments_lexer": "ipython3",
   "version": "3.11.5"
  }
 },
 "nbformat": 4,
 "nbformat_minor": 5
}
