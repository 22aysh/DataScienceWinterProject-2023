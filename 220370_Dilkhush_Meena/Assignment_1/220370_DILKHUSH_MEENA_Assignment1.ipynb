{
  "cells": [
    {
      "cell_type": "markdown",
      "metadata": {
        "id": "UOzd0zRXW5Uv"
      },
      "source": [
        "# Week-1 Assignment\n",
        "\n",
        "**Welcome to your first assignment for the SimuTech Winter Project 2022! I hope you are excited to implement and test everything you have learned up until now. There is an interesting set of questions for you to refine your acquired skills as you delve into hands-on coding and deepen your understanding of numpy, pandas, and data visualization libraries.**\n",
        "\n",
        "P.S. You might find use of functions which you have never used before.So feel free to google"
      ]
    },
    {
      "cell_type": "code",
      "execution_count": 7,
      "metadata": {
        "id": "quOk2Txvgp9V",
        "colab": {
          "base_uri": "https://localhost:8080/",
          "height": 355
        },
        "outputId": "8dc362df-868c-44b5-dac5-c20efa2b4b81"
      },
      "outputs": [
        {
          "output_type": "error",
          "ename": "MessageError",
          "evalue": "ignored",
          "traceback": [
            "\u001b[0;31m---------------------------------------------------------------------------\u001b[0m",
            "\u001b[0;31mMessageError\u001b[0m                              Traceback (most recent call last)",
            "\u001b[0;32m<ipython-input-7-d5df0069828e>\u001b[0m in \u001b[0;36m<cell line: 2>\u001b[0;34m()\u001b[0m\n\u001b[1;32m      1\u001b[0m \u001b[0;32mfrom\u001b[0m \u001b[0mgoogle\u001b[0m\u001b[0;34m.\u001b[0m\u001b[0mcolab\u001b[0m \u001b[0;32mimport\u001b[0m \u001b[0mdrive\u001b[0m\u001b[0;34m\u001b[0m\u001b[0;34m\u001b[0m\u001b[0m\n\u001b[0;32m----> 2\u001b[0;31m \u001b[0mdrive\u001b[0m\u001b[0;34m.\u001b[0m\u001b[0mmount\u001b[0m\u001b[0;34m(\u001b[0m\u001b[0;34m'/content/drive'\u001b[0m\u001b[0;34m)\u001b[0m\u001b[0;34m\u001b[0m\u001b[0;34m\u001b[0m\u001b[0m\n\u001b[0m",
            "\u001b[0;32m/usr/local/lib/python3.10/dist-packages/google/colab/drive.py\u001b[0m in \u001b[0;36mmount\u001b[0;34m(mountpoint, force_remount, timeout_ms, readonly)\u001b[0m\n\u001b[1;32m     98\u001b[0m \u001b[0;32mdef\u001b[0m \u001b[0mmount\u001b[0m\u001b[0;34m(\u001b[0m\u001b[0mmountpoint\u001b[0m\u001b[0;34m,\u001b[0m \u001b[0mforce_remount\u001b[0m\u001b[0;34m=\u001b[0m\u001b[0;32mFalse\u001b[0m\u001b[0;34m,\u001b[0m \u001b[0mtimeout_ms\u001b[0m\u001b[0;34m=\u001b[0m\u001b[0;36m120000\u001b[0m\u001b[0;34m,\u001b[0m \u001b[0mreadonly\u001b[0m\u001b[0;34m=\u001b[0m\u001b[0;32mFalse\u001b[0m\u001b[0;34m)\u001b[0m\u001b[0;34m:\u001b[0m\u001b[0;34m\u001b[0m\u001b[0;34m\u001b[0m\u001b[0m\n\u001b[1;32m     99\u001b[0m   \u001b[0;34m\"\"\"Mount your Google Drive at the specified mountpoint path.\"\"\"\u001b[0m\u001b[0;34m\u001b[0m\u001b[0;34m\u001b[0m\u001b[0m\n\u001b[0;32m--> 100\u001b[0;31m   return _mount(\n\u001b[0m\u001b[1;32m    101\u001b[0m       \u001b[0mmountpoint\u001b[0m\u001b[0;34m,\u001b[0m\u001b[0;34m\u001b[0m\u001b[0;34m\u001b[0m\u001b[0m\n\u001b[1;32m    102\u001b[0m       \u001b[0mforce_remount\u001b[0m\u001b[0;34m=\u001b[0m\u001b[0mforce_remount\u001b[0m\u001b[0;34m,\u001b[0m\u001b[0;34m\u001b[0m\u001b[0;34m\u001b[0m\u001b[0m\n",
            "\u001b[0;32m/usr/local/lib/python3.10/dist-packages/google/colab/drive.py\u001b[0m in \u001b[0;36m_mount\u001b[0;34m(mountpoint, force_remount, timeout_ms, ephemeral, readonly)\u001b[0m\n\u001b[1;32m    127\u001b[0m   )\n\u001b[1;32m    128\u001b[0m   \u001b[0;32mif\u001b[0m \u001b[0mephemeral\u001b[0m\u001b[0;34m:\u001b[0m\u001b[0;34m\u001b[0m\u001b[0;34m\u001b[0m\u001b[0m\n\u001b[0;32m--> 129\u001b[0;31m     _message.blocking_request(\n\u001b[0m\u001b[1;32m    130\u001b[0m         \u001b[0;34m'request_auth'\u001b[0m\u001b[0;34m,\u001b[0m \u001b[0mrequest\u001b[0m\u001b[0;34m=\u001b[0m\u001b[0;34m{\u001b[0m\u001b[0;34m'authType'\u001b[0m\u001b[0;34m:\u001b[0m \u001b[0;34m'dfs_ephemeral'\u001b[0m\u001b[0;34m}\u001b[0m\u001b[0;34m,\u001b[0m \u001b[0mtimeout_sec\u001b[0m\u001b[0;34m=\u001b[0m\u001b[0;32mNone\u001b[0m\u001b[0;34m\u001b[0m\u001b[0;34m\u001b[0m\u001b[0m\n\u001b[1;32m    131\u001b[0m     )\n",
            "\u001b[0;32m/usr/local/lib/python3.10/dist-packages/google/colab/_message.py\u001b[0m in \u001b[0;36mblocking_request\u001b[0;34m(request_type, request, timeout_sec, parent)\u001b[0m\n\u001b[1;32m    174\u001b[0m       \u001b[0mrequest_type\u001b[0m\u001b[0;34m,\u001b[0m \u001b[0mrequest\u001b[0m\u001b[0;34m,\u001b[0m \u001b[0mparent\u001b[0m\u001b[0;34m=\u001b[0m\u001b[0mparent\u001b[0m\u001b[0;34m,\u001b[0m \u001b[0mexpect_reply\u001b[0m\u001b[0;34m=\u001b[0m\u001b[0;32mTrue\u001b[0m\u001b[0;34m\u001b[0m\u001b[0;34m\u001b[0m\u001b[0m\n\u001b[1;32m    175\u001b[0m   )\n\u001b[0;32m--> 176\u001b[0;31m   \u001b[0;32mreturn\u001b[0m \u001b[0mread_reply_from_input\u001b[0m\u001b[0;34m(\u001b[0m\u001b[0mrequest_id\u001b[0m\u001b[0;34m,\u001b[0m \u001b[0mtimeout_sec\u001b[0m\u001b[0;34m)\u001b[0m\u001b[0;34m\u001b[0m\u001b[0;34m\u001b[0m\u001b[0m\n\u001b[0m",
            "\u001b[0;32m/usr/local/lib/python3.10/dist-packages/google/colab/_message.py\u001b[0m in \u001b[0;36mread_reply_from_input\u001b[0;34m(message_id, timeout_sec)\u001b[0m\n\u001b[1;32m    101\u001b[0m     ):\n\u001b[1;32m    102\u001b[0m       \u001b[0;32mif\u001b[0m \u001b[0;34m'error'\u001b[0m \u001b[0;32min\u001b[0m \u001b[0mreply\u001b[0m\u001b[0;34m:\u001b[0m\u001b[0;34m\u001b[0m\u001b[0;34m\u001b[0m\u001b[0m\n\u001b[0;32m--> 103\u001b[0;31m         \u001b[0;32mraise\u001b[0m \u001b[0mMessageError\u001b[0m\u001b[0;34m(\u001b[0m\u001b[0mreply\u001b[0m\u001b[0;34m[\u001b[0m\u001b[0;34m'error'\u001b[0m\u001b[0;34m]\u001b[0m\u001b[0;34m)\u001b[0m\u001b[0;34m\u001b[0m\u001b[0;34m\u001b[0m\u001b[0m\n\u001b[0m\u001b[1;32m    104\u001b[0m       \u001b[0;32mreturn\u001b[0m \u001b[0mreply\u001b[0m\u001b[0;34m.\u001b[0m\u001b[0mget\u001b[0m\u001b[0;34m(\u001b[0m\u001b[0;34m'data'\u001b[0m\u001b[0;34m,\u001b[0m \u001b[0;32mNone\u001b[0m\u001b[0;34m)\u001b[0m\u001b[0;34m\u001b[0m\u001b[0;34m\u001b[0m\u001b[0m\n\u001b[1;32m    105\u001b[0m \u001b[0;34m\u001b[0m\u001b[0m\n",
            "\u001b[0;31mMessageError\u001b[0m: Error: credential propagation was unsuccessful"
          ]
        }
      ],
      "source": [
        "from google.colab import drive\n",
        "drive.mount('/content/drive')"
      ]
    },
    {
      "cell_type": "markdown",
      "metadata": {
        "id": "2XFUXyq9Y9TG"
      },
      "source": [
        "# Section0 : Importing Libraries"
      ]
    },
    {
      "cell_type": "markdown",
      "metadata": {
        "id": "D_bzcLusjSO0"
      },
      "source": [
        "*Let's begin by importing numpy, pandas and matplotlib.*"
      ]
    },
    {
      "cell_type": "code",
      "execution_count": 4,
      "metadata": {
        "id": "jdwX7bI7aGeY"
      },
      "outputs": [],
      "source": [
        "#your code here\n",
        "import numpy as np\n",
        "import pandas as pd\n",
        "import matplotlib.pyplot as plt"
      ]
    },
    {
      "cell_type": "markdown",
      "metadata": {
        "id": "LM25mz5ta-Q_"
      },
      "source": [
        "# Section1 : Playing with Python and Numpy"
      ]
    },
    {
      "cell_type": "markdown",
      "metadata": {
        "id": "TcFQVqhAdQw_"
      },
      "source": [
        "### Q1. Matrix Multiplication"
      ]
    },
    {
      "cell_type": "markdown",
      "metadata": {
        "id": "6Dcai9pys0j8"
      },
      "source": [
        "##### (i) Check if matrix multiplication is valid"
      ]
    },
    {
      "cell_type": "code",
      "execution_count": 5,
      "metadata": {
        "id": "0qC4txIss3gG"
      },
      "outputs": [],
      "source": [
        "def isValid(A,B):\n",
        "    x = np.shape(A)[1]\n",
        "    y = np.shape(B)[0]\n",
        "    if(x==y):\n",
        "        return True\n",
        "    else:\n",
        "        return False"
      ]
    },
    {
      "cell_type": "markdown",
      "metadata": {
        "id": "OPTfRGlTdXxa"
      },
      "source": [
        "##### (ii) Using loops (without using numpy)"
      ]
    },
    {
      "cell_type": "code",
      "execution_count": 6,
      "metadata": {
        "id": "V8F5ETsRct3S"
      },
      "outputs": [],
      "source": [
        "def matrix_multiply(A,B):\n",
        "  colA = np.shape(A)[1]\n",
        "  colB = np.shape(B)[1]\n",
        "  rowA = np.shape(A)[0]\n",
        "  rowB = np.shape(B)[0]\n",
        "\n",
        "  result = [[0 for m in range(colB)] for n in range(rowA)]\n",
        "\n",
        "  for i in range(rowA):\n",
        "    for j in range(colB):\n",
        "      for k in range(colA):\n",
        "        result[i][j] += A[i][k]*B[k][j]\n",
        "  return result"
      ]
    },
    {
      "cell_type": "markdown",
      "metadata": {
        "id": "umUgUTSWdos8"
      },
      "source": [
        "##### (iii) Using numpy"
      ]
    },
    {
      "cell_type": "code",
      "execution_count": 8,
      "metadata": {
        "id": "-tdXlCHrduBP"
      },
      "outputs": [],
      "source": [
        "def matrix_multiply_2(A,B):\n",
        "  #your code here\n",
        "    result =np.dot(A,B)\n",
        "    return result"
      ]
    },
    {
      "cell_type": "markdown",
      "metadata": {
        "id": "2nMFnl84edJG"
      },
      "source": [
        "##### (iv) Testing your code\n",
        "\n",
        "Run the following cell to check if your functions are working properly.\n",
        "\n",
        "*Expected output:*\n",
        "[ [102 108 114]\n",
        " [246 261 276]\n",
        " [390 414 438]\n",
        " [534 567 600] ]"
      ]
    },
    {
      "cell_type": "code",
      "execution_count": 9,
      "metadata": {
        "id": "09rX_Cm9ezmq",
        "colab": {
          "base_uri": "https://localhost:8080/"
        },
        "outputId": "80645fd9-b48c-45ae-8a13-5a133d6f4899"
      },
      "outputs": [
        {
          "output_type": "stream",
          "name": "stdout",
          "text": [
            "Result using loops: [[102, 108, 114], [246, 261, 276], [390, 414, 438], [534, 567, 600]]\n",
            "Result using numpy: [[102 108 114]\n",
            " [246 261 276]\n",
            " [390 414 438]\n",
            " [534 567 600]]\n"
          ]
        }
      ],
      "source": [
        "A = np.array([\n",
        "    [1, 2, 3],\n",
        "    [4, 5, 6],\n",
        "    [7, 8, 9],\n",
        "    [10, 11, 12]\n",
        "])\n",
        "\n",
        "B = np.array([\n",
        "    [13, 14, 15],\n",
        "    [16, 17, 18],\n",
        "    [19, 20, 21]\n",
        "])\n",
        "\n",
        "if isValid(A,B):\n",
        "  print(f\"Result using loops: {matrix_multiply(A,B)}\")\n",
        "  print(f\"Result using numpy: {matrix_multiply_2(A,B)}\")\n",
        "else:\n",
        "  print(f\"Matrix multiplication is not valid\")"
      ]
    },
    {
      "cell_type": "markdown",
      "metadata": {
        "id": "5hfP7Ao1fwqV"
      },
      "source": [
        "### Q2. Z-Score Normalisation"
      ]
    },
    {
      "cell_type": "markdown",
      "metadata": {
        "id": "0e81Xx5Kw_CQ"
      },
      "source": [
        "Z-score normalization refers to the process of normalizing every value in a dataset such that the mean of all of the values is 0 and the standard deviation is 1.\n",
        "\n",
        "We use the following formula to perform a z-score normalization on every value in a dataset:\n",
        "\n",
        "New value = (x – μ) / σ\n",
        "\n",
        "where:\n",
        "\n",
        "x: Original value\n",
        "\n",
        "μ: Mean of data\n",
        "\n",
        "σ: Standard deviation of data"
      ]
    },
    {
      "cell_type": "markdown",
      "metadata": {
        "id": "GP_MuyUbguSR"
      },
      "source": [
        "##### (i) Without using numpy"
      ]
    },
    {
      "cell_type": "code",
      "execution_count": 10,
      "metadata": {
        "id": "0vix8qaaghwP"
      },
      "outputs": [],
      "source": [
        "def mean(x):\n",
        "  #your code here\n",
        "  sum=0\n",
        "  for i in x:\n",
        "    sum = sum + i\n",
        "    return sum/len(x)"
      ]
    },
    {
      "cell_type": "code",
      "execution_count": 11,
      "metadata": {
        "id": "j1qabel-g_f5"
      },
      "outputs": [],
      "source": [
        "def standard_deviation(x):\n",
        "  #your code here\n",
        "  mn_x=mean(x)\n",
        "  sum=0\n",
        "  for i in x:\n",
        "    sum = sum + (i-mn_x)**2\n",
        "    return (sum/len(x))**0.5"
      ]
    },
    {
      "cell_type": "code",
      "execution_count": 12,
      "metadata": {
        "id": "797ewbNqhEpY"
      },
      "outputs": [],
      "source": [
        "def zscore_normalisation(x):\n",
        "  #your code here\n",
        "  mn_x=mean(x)\n",
        "  sd_x=standard_deviation(x)\n",
        "  for i in range(0,len(x)):\n",
        "    x[i] = (x[i]-mn_x)/sd_x\n",
        "    return x"
      ]
    },
    {
      "cell_type": "markdown",
      "metadata": {
        "id": "k8dq1wqRhbUB"
      },
      "source": [
        "##### (ii) Using numpy\n",
        "\n",
        "Numpy has in_built functions for calculating mean and standard deviation"
      ]
    },
    {
      "cell_type": "code",
      "execution_count": 13,
      "metadata": {
        "id": "WjxJTUDihsYg"
      },
      "outputs": [],
      "source": [
        "def zscore_normalisation_2(x):\n",
        "  #your code here\n",
        "  for i in range(0,len(x)):\n",
        "    x[i]= (x[i]-np.mean(x))/np.std(x)\n",
        "    return x"
      ]
    },
    {
      "cell_type": "markdown",
      "metadata": {
        "id": "glRqKU-_1pue"
      },
      "source": [
        "##### (iii) Testing your code"
      ]
    },
    {
      "cell_type": "markdown",
      "metadata": {
        "id": "Kl7XBymOigCU"
      },
      "source": [
        "Run the following cell to check if your functions are working properly.\n",
        "\n",
        "*Expected Output:* [-1.06753267 -0.99745394 -0.99745394 -0.81057732 -0.41346451 -0.06307086\n",
        "  0.31068237  0.91803138  1.22170588  1.89913361]"
      ]
    },
    {
      "cell_type": "code",
      "execution_count": 14,
      "metadata": {
        "id": "78ptZxf6ipZp",
        "colab": {
          "base_uri": "https://localhost:8080/"
        },
        "outputId": "b39009d7-a0cd-4a79-b97a-59a1ebd93bd9"
      },
      "outputs": [
        {
          "output_type": "stream",
          "name": "stdout",
          "text": [
            "Result without using numpy: [3.162277660168379, 7, 7, 15, 32, 47, 63, 89, 102, 131]\n",
            "Result using numpy: [-1.0828662123751354, 7, 7, 15, 32, 47, 63, 89, 102, 131]\n"
          ]
        }
      ],
      "source": [
        "x = [4, 7, 7, 15, 32, 47, 63, 89, 102, 131]\n",
        "print(f\"Result without using numpy: {zscore_normalisation(x)}\")\n",
        "print(f\"Result using numpy: {zscore_normalisation_2(x)}\")"
      ]
    },
    {
      "cell_type": "markdown",
      "metadata": {
        "id": "0WVscJ0z14rp"
      },
      "source": [
        "### Q3. Sigmoid fn and its derivative"
      ]
    },
    {
      "cell_type": "markdown",
      "metadata": {
        "id": "Jfntb0Rg94Tu"
      },
      "source": [
        "The sigmoid function is a mathematical function that maps any input value to a value between 0 and 1.\n",
        "\n",
        "It is defined mathematically as s(x) = 1/(1+e^(-x))."
      ]
    },
    {
      "cell_type": "markdown",
      "metadata": {
        "id": "8SCAPkjO2m7u"
      },
      "source": [
        "##### (i) Write a fn to implement sigmoid fn"
      ]
    },
    {
      "cell_type": "code",
      "execution_count": 15,
      "metadata": {
        "id": "jL_TRQFG2l5m"
      },
      "outputs": [],
      "source": [
        "def sigmoidfn(x):\n",
        "  #your code here\n",
        "  return 1/(1+np.exp(-x))"
      ]
    },
    {
      "cell_type": "markdown",
      "metadata": {
        "id": "t7KBbl7N3AUM"
      },
      "source": [
        "##### (ii) Write a fn to implement derivative of sigmoid fn"
      ]
    },
    {
      "cell_type": "code",
      "execution_count": 16,
      "metadata": {
        "id": "okjuOpba3KOJ"
      },
      "outputs": [],
      "source": [
        "def derivative(x):\n",
        "  #your code here\n",
        "  return sigmoidfn(x)*(1-sigmoidfn(x))"
      ]
    },
    {
      "cell_type": "markdown",
      "metadata": {
        "id": "NdGTSpsp3mwr"
      },
      "source": [
        "##### (iii) Test your code"
      ]
    },
    {
      "cell_type": "markdown",
      "metadata": {
        "id": "lWY8RBex7gnd"
      },
      "source": [
        "Run the following cell to check if your functions are working properly.\n",
        "\n",
        "*Expected output:*\n",
        "\n",
        "x on applying sigmoid activation fn is: [ [0.99987661 0.88079708 0.99330715 0.5        0.5       ]\n",
        " [0.99908895 0.99330715 0.5        0.5        0.5       ] ]\n",
        "\n",
        "x on applying derivative of sigmoid activation fn is: [ [-1.23379350e-04 -1.04993585e-01 -6.64805667e-03 -2.50000000e-01\n",
        "  -2.50000000e-01]\n",
        " [-9.10221180e-04 -6.64805667e-03 -2.50000000e-01 -2.50000000e-01\n",
        "  -2.50000000e-01] ]"
      ]
    },
    {
      "cell_type": "code",
      "execution_count": 17,
      "metadata": {
        "id": "ssDGpmS33vdA",
        "colab": {
          "base_uri": "https://localhost:8080/"
        },
        "outputId": "126c0361-2c0c-4fae-91dd-293b0f81efbd"
      },
      "outputs": [
        {
          "output_type": "stream",
          "name": "stdout",
          "text": [
            "x on applying sigmoid activation fn is: [[0.99987661 0.88079708 0.99330715 0.5        0.5       ]\n",
            " [0.99908895 0.99330715 0.5        0.5        0.5       ]]\n",
            "x on applying derivative of sigmoid activation fn is: [[1.23379350e-04 1.04993585e-01 6.64805667e-03 2.50000000e-01\n",
            "  2.50000000e-01]\n",
            " [9.10221180e-04 6.64805667e-03 2.50000000e-01 2.50000000e-01\n",
            "  2.50000000e-01]]\n"
          ]
        }
      ],
      "source": [
        "x = np.array([\n",
        "    [9,2,5,0,0],\n",
        "    [7,5,0,0,0]\n",
        "])\n",
        "print(f\"x on applying sigmoid activation fn is: {sigmoidfn(x)}\")\n",
        "print(f\"x on applying derivative of sigmoid activation fn is: {derivative(x)}\")"
      ]
    },
    {
      "cell_type": "markdown",
      "metadata": {
        "id": "PMa0cseyZpa1"
      },
      "source": [
        "# Section 2: Playing with Pandas"
      ]
    },
    {
      "cell_type": "markdown",
      "metadata": {
        "id": "i5Okb_jxZ_VW"
      },
      "source": [
        "###Read the csv file\n"
      ]
    },
    {
      "cell_type": "code",
      "execution_count": 34,
      "metadata": {
        "id": "aQgvyavrcM1l"
      },
      "outputs": [],
      "source": [
        "\n",
        "df = pd.read_csv(\"/content/superheated_vapor_properties.csv\")"
      ]
    },
    {
      "cell_type": "markdown",
      "metadata": {
        "id": "Zp8F3rk2cNxy"
      },
      "source": [
        "###Display the shape of data frame\n"
      ]
    },
    {
      "cell_type": "code",
      "execution_count": 35,
      "metadata": {
        "id": "v3Q8kQkucgK0",
        "colab": {
          "base_uri": "https://localhost:8080/"
        },
        "outputId": "4c5ceb4c-a4e9-4c39-9d50-112ba566efaa"
      },
      "outputs": [
        {
          "output_type": "stream",
          "name": "stdout",
          "text": [
            "(544, 37)\n"
          ]
        }
      ],
      "source": [
        "#your code here\n",
        "print(df.shape)"
      ]
    },
    {
      "cell_type": "markdown",
      "metadata": {
        "id": "w49cp-8zcgd2"
      },
      "source": [
        "###Return an array containing names of all the columns"
      ]
    },
    {
      "cell_type": "code",
      "execution_count": 36,
      "metadata": {
        "id": "fz4HRb3JcsZp",
        "colab": {
          "base_uri": "https://localhost:8080/"
        },
        "outputId": "c32ed6db-f2cb-4176-f595-d8b880f5338c"
      },
      "outputs": [
        {
          "output_type": "stream",
          "name": "stdout",
          "text": [
            "Index(['Pressure', 'Property', 'Liq_Sat', 'Vap_Sat', '75', '100', '125', '150',\n",
            "       '175', '200', '220', '225', '240', '250', '260', '275', '280', '290',\n",
            "       '300', '320', '325', '340', '350', '360', '375', '380', '400', '425',\n",
            "       '450', '475', '500', '525', '550', '575', '600', '625', '650'],\n",
            "      dtype='object')\n"
          ]
        }
      ],
      "source": [
        "#your code here\n",
        "col_names = df.columns\n",
        "print(col_names)"
      ]
    },
    {
      "cell_type": "markdown",
      "metadata": {
        "id": "YkTH9tRWcrH-"
      },
      "source": [
        "###Display the number of null values in each column of the dataframe``\n",
        "\n"
      ]
    },
    {
      "cell_type": "code",
      "execution_count": 37,
      "metadata": {
        "id": "GK9-PJPxc3Ot",
        "colab": {
          "base_uri": "https://localhost:8080/"
        },
        "outputId": "055871a9-816d-4daa-fc1a-cd7915b73aba"
      },
      "outputs": [
        {
          "output_type": "stream",
          "name": "stdout",
          "text": [
            "Pressure      0\n",
            "Property      0\n",
            "Liq_Sat       0\n",
            "Vap_Sat       0\n",
            "75          528\n",
            "100         508\n",
            "125         488\n",
            "150         448\n",
            "175         384\n",
            "200         320\n",
            "220         408\n",
            "225         400\n",
            "240         408\n",
            "250         344\n",
            "260         384\n",
            "275         340\n",
            "280         380\n",
            "290         488\n",
            "300          60\n",
            "320         480\n",
            "325         136\n",
            "340         476\n",
            "350          68\n",
            "360         476\n",
            "375         204\n",
            "380         476\n",
            "400           0\n",
            "425         204\n",
            "450           0\n",
            "475         204\n",
            "500           0\n",
            "525         272\n",
            "550           0\n",
            "575         340\n",
            "600           0\n",
            "625         476\n",
            "650           0\n",
            "dtype: int64\n"
          ]
        }
      ],
      "source": [
        "#your code here\n",
        "null_vals = df.isnull().sum()\n",
        "print(null_vals)"
      ]
    },
    {
      "cell_type": "markdown",
      "metadata": {
        "id": "Av-lcft2c3mx"
      },
      "source": [
        "###Create a column which contains the Pressure and Property columns, seperated with 'at' (For eg. V at 1, H at 101.325). Using this print the following:\n",
        "- Enthalpy at 75 kPa and 573 K\n",
        "- Entropy at 493 K and 250 kPa\n",
        "\n"
      ]
    },
    {
      "cell_type": "code",
      "execution_count": 38,
      "metadata": {
        "colab": {
          "base_uri": "https://localhost:8080/"
        },
        "id": "B2AihQj_c32C",
        "outputId": "93561d11-ad42-466e-9964-72ea5c93d1a9"
      },
      "outputs": [
        {
          "output_type": "stream",
          "name": "stdout",
          "text": [
            "26    3075.1\n",
            "Name: 300, dtype: float64\n",
            "Series([], Name: 220, dtype: float64)\n"
          ]
        }
      ],
      "source": [
        "df['Property_Pressure'] = df['Property'] + \" at \" + df['Pressure'].astype(str)\n",
        "\n",
        "idx1 = df[df['Property_Pressure'] == 'H at 75.0'].index\n",
        "a = df['300'].loc[idx1]\n",
        "print(f\"{a}\")\n",
        "\n",
        "idx2 = df[df['Property_Pressure'] == 'S at 220'].index\n",
        "b = df['220'].loc[idx2]\n",
        "print(f\"{b}\")"
      ]
    },
    {
      "cell_type": "markdown",
      "metadata": {
        "id": "GpLtXYRLc4Ho"
      },
      "source": [
        "###Find out the column with the highest number of missing values"
      ]
    },
    {
      "cell_type": "code",
      "execution_count": 39,
      "metadata": {
        "id": "q80Grgeyc4Xn",
        "colab": {
          "base_uri": "https://localhost:8080/"
        },
        "outputId": "b11d82eb-5f80-40a3-9a25-6252c05dfa91"
      },
      "outputs": [
        {
          "output_type": "stream",
          "name": "stdout",
          "text": [
            "75\n"
          ]
        }
      ],
      "source": [
        "#your code here\n",
        "high_num=0\n",
        "idx=0\n",
        "for i in range(0,df.shape[1]):\n",
        "  if(high_num<df.isnull().sum()[i]):\n",
        "    high_num = df.isnull().sum()[i]\n",
        "    idx = i\n",
        "\n",
        "high_column = df.columns[idx]\n",
        "print(high_column)"
      ]
    },
    {
      "cell_type": "markdown",
      "metadata": {
        "id": "74NVHTTac4nv"
      },
      "source": [
        "###What is the average enthalpy of Sat. Liq. at all different pressures in the dataset ?"
      ]
    },
    {
      "cell_type": "code",
      "execution_count": 40,
      "metadata": {
        "colab": {
          "base_uri": "https://localhost:8080/"
        },
        "id": "g3mByhBDdpVr",
        "outputId": "cb9e2027-b2f8-421a-b478-154edf16506e"
      },
      "outputs": [
        {
          "output_type": "stream",
          "name": "stdout",
          "text": [
            "936.9707720588235\n"
          ]
        }
      ],
      "source": [
        "print(df['Liq_Sat'].iloc[2::4].mean())"
      ]
    },
    {
      "cell_type": "markdown",
      "metadata": {
        "id": "uS-SuqU8dpxg"
      },
      "source": [
        "###Separate out the V,U,H,S data from the dataset into V_data, U_data, H_data, S_data"
      ]
    },
    {
      "cell_type": "code",
      "execution_count": 41,
      "metadata": {
        "id": "Sg3V9Toyd1Av"
      },
      "outputs": [],
      "source": [
        "#your code here\n",
        "V_data = df.iloc[0::4]\n",
        "U_data = df.iloc[1::4]\n",
        "H_data = df.iloc[2::4]\n",
        "S_data = df.iloc[3::4]"
      ]
    },
    {
      "cell_type": "markdown",
      "metadata": {
        "id": "Ghkj0-0-d1W7"
      },
      "source": [
        "#Section 3: PLotting the PLOTS"
      ]
    },
    {
      "cell_type": "markdown",
      "metadata": {
        "id": "ka0qrDcZeAL6"
      },
      "source": [
        "###Plot the properties (specific volume, specific internal energy, specific enthalpy, specific entropy) vs Pressure for saturated liquid.\n",
        "\n",
        "Note:\n",
        "- Try using the subplot feature of matplotlib(Explore it!!)\n",
        "- Provide appropriate title, labels, markersize and other parameters to the plot"
      ]
    },
    {
      "cell_type": "code",
      "execution_count": 51,
      "metadata": {
        "id": "XbKdm-cUePKA",
        "colab": {
          "base_uri": "https://localhost:8080/",
          "height": 682
        },
        "outputId": "56c595e2-9da3-4140-d210-aa3cfac253b7"
      },
      "outputs": [
        {
          "output_type": "execute_result",
          "data": {
            "text/plain": [
              "Text(0, 0.5, 'S')"
            ]
          },
          "metadata": {},
          "execution_count": 51
        },
        {
          "output_type": "display_data",
          "data": {
            "text/plain": [
              "<Figure size 1200x1200 with 4 Axes>"
            ],
            "image/png": "[encoded data removed]"
          },
          "metadata": {}
        }
      ],
      "source": [
        "#your code here\n",
        "fig, graph = plt.subplots(2,2,figsize=(12,12))\n",
        "graph[0,0].plot(df[\"Pressure\"][0::4],df[\"Liq_Sat\"][0::4],'r-')\n",
        "graph[0,1].plot(df[\"Pressure\"][1::4],df[\"Liq_Sat\"][1::4],'y-')\n",
        "graph[1,0].plot(df[\"Pressure\"][2::4],df[\"Liq_Sat\"][2::4],'b-')\n",
        "graph[1,1].plot(df[\"Pressure\"][3::4],df[\"Liq_Sat\"][3::4],'g-')\n",
        "\n",
        "graph[0,0].set_title(\"Specific_Volume v/s Pressure\")\n",
        "graph[0,1].set_title(\"Specific_Internal_Energy v/s Pressure\")\n",
        "graph[1,0].set_title(\"Specific_Enthalpy v/s Pressure\")\n",
        "graph[1,1].set_title(\"Specific_Entropy v/s Pressure\")\n",
        "\n",
        "graph[0,0].set_xlabel(\"P\")\n",
        "graph[0,1].set_xlabel(\"P\")\n",
        "graph[1,0].set_xlabel(\"P\")\n",
        "graph[1,1].set_xlabel(\"P\")\n",
        "\n",
        "graph[0,0].set_ylabel(\"V\",rotation =0)\n",
        "graph[0,1].set_ylabel(\"U\",rotation =0)\n",
        "graph[1,0].set_ylabel(\"H\",rotation =0)\n",
        "graph[1,1].set_ylabel(\"S\",rotation =0)"
      ]
    },
    {
      "cell_type": "markdown",
      "metadata": {
        "id": "SCLRji6TeQgh"
      },
      "source": [
        "###Plot the specific volume of saturated liquid between 300 kPa and 1500 kPa"
      ]
    },
    {
      "cell_type": "code",
      "execution_count": 54,
      "metadata": {
        "id": "u6DyyI7MeYgE",
        "colab": {
          "base_uri": "https://localhost:8080/",
          "height": 507
        },
        "outputId": "d2c0ebf7-12f5-4a7c-f782-376c18eb75d9"
      },
      "outputs": [
        {
          "output_type": "stream",
          "name": "stdout",
          "text": [
            "64 216\n"
          ]
        },
        {
          "output_type": "execute_result",
          "data": {
            "text/plain": [
              "Text(0, 0.5, 'Specific_volume')"
            ]
          },
          "metadata": {},
          "execution_count": 54
        },
        {
          "output_type": "display_data",
          "data": {
            "text/plain": [
              "<Figure size 640x480 with 1 Axes>"
            ],
            "image/png": "[encoded data removed]"
          },
          "metadata": {}
        }
      ],
      "source": [
        "intial_pt =0\n",
        "last_pt = 0\n",
        "for i in range(df.shape[0]):\n",
        "  if(df[\"Pressure\"][i]==300):\n",
        "    intial_pt = i\n",
        "    break\n",
        "\n",
        "for i in range(df.shape[0]):\n",
        "  if(df[\"Pressure\"][i]==1500):\n",
        "    last_pt = i\n",
        "    break\n",
        "\n",
        "print(intial_pt,last_pt)\n",
        "plt.plot(df[\"Pressure\"][intial_pt:last_pt:4],df[\"Liq_Sat\"][intial_pt:last_pt:4],'r-')\n",
        "plt.title(\"Specific Volume v/s Pressure\")\n",
        "plt.xlabel(\"Pressure\")\n",
        "plt.ylabel(\"Specific_volume\")"
      ]
    },
    {
      "cell_type": "markdown",
      "metadata": {
        "id": "6N_8T4KnfnOG"
      },
      "source": [
        "#Linear Regression\n",
        "You're given a 100 data points generated from the function\n",
        "$y=mx+c$. Some noise is added to the y values.\n",
        "\n",
        "**Task:** Estimate the values of m and c using linear regression. Write a suitable cost function and update the parameters."
      ]
    },
    {
      "cell_type": "code",
      "execution_count": 55,
      "metadata": {
        "id": "qK0CKt8WfuO9",
        "colab": {
          "base_uri": "https://localhost:8080/",
          "height": 447
        },
        "outputId": "4be9e841-1514-4a02-9789-354da70ab883"
      },
      "outputs": [
        {
          "output_type": "execute_result",
          "data": {
            "text/plain": [
              "<matplotlib.collections.PathCollection at 0x7e96868007c0>"
            ]
          },
          "metadata": {},
          "execution_count": 55
        },
        {
          "output_type": "display_data",
          "data": {
            "text/plain": [
              "<Figure size 640x480 with 1 Axes>"
            ],
            "image/png": "[encoded data removed]"
          },
          "metadata": {}
        }
      ],
      "source": [
        " # Generation of data points\n",
        "x = np.random.rand(100)*100\n",
        "y = -4*x+15\n",
        "y = y+np.random.randn(100)*30\n",
        "plt.scatter(x,y)"
      ]
    },
    {
      "cell_type": "code",
      "execution_count": 59,
      "metadata": {
        "id": "0lyjPEfmiC-e"
      },
      "outputs": [],
      "source": [
        "# Initialisng parameters m and c such that the best fit line is given by y = m*x+c\n",
        "x = x.reshape(100,1)\n",
        "y = y.reshape(100,1)\n",
        "intial_range=0.1\n",
        "m = np.random.uniform(low=-4.1, high=-3.9, size=(1,1))\n",
        "c = np.random.uniform(low=14.9, high=15.1, size=(1,1))\n",
        "y_assum = np.array(m*x+c)\n",
        "\n",
        "#Cost function to be minimised\n",
        "error = y_assum - y\n",
        "costfn = (error*error).sum()/(2*len(x))\n",
        "\n",
        "#Function for updating parameter\n",
        "def update(m,c,z):\n",
        "  y_assum = m*x + c\n",
        "  error = y_assum - y\n",
        "  m = m - (z*np.dot(error,x))/len(x)\n",
        "  c = c - (z*np.sum(error))/len(x)\n",
        "  return m,c\n",
        ""
      ]
    },
    {
      "cell_type": "markdown",
      "metadata": {
        "id": "JPy839WUiOvz"
      },
      "source": [
        "Run the model"
      ]
    },
    {
      "cell_type": "code",
      "execution_count": 63,
      "metadata": {
        "id": "sf8s00SUiYhN",
        "colab": {
          "base_uri": "https://localhost:8080/"
        },
        "outputId": "c0ce33c2-ac09-472e-99c1-2c15815185b8"
      },
      "outputs": [
        {
          "output_type": "stream",
          "name": "stdout",
          "text": [
            "13.594383896005606\n"
          ]
        }
      ],
      "source": [
        "# define number of iterations for minimising cost function\n",
        "it = 1000\n",
        "\n",
        "# define the learning rate #\n",
        "lrn_rate=0.0001\n",
        "\n",
        "# run the model\n",
        "for i in range(it):\n",
        "  predtn = np.dot(x,m) + c\n",
        "  delt = predtn - y\n",
        "  cost = np.sum(abs(delt)/(2*len(x)))\n",
        "\n",
        "if i%100==0:\n",
        "    print(f'Iteration{i}, cost: { cost:4f}')\n",
        "    m -= lrn_rate* np.dot(x.T, delt)/len(x)\n",
        "    c -= lrn_rate* np.sum(delt)/len(x)\n",
        "print(cost)"
      ]
    },
    {
      "cell_type": "code",
      "execution_count": 64,
      "metadata": {
        "id": "_g7W3mloilGn",
        "colab": {
          "base_uri": "https://localhost:8080/"
        },
        "outputId": "9233f71b-91e5-4d31-ca3c-2621f8da9632"
      },
      "outputs": [
        {
          "output_type": "stream",
          "name": "stdout",
          "text": [
            "[[-3.91837373]] [[15.09231759]]\n"
          ]
        }
      ],
      "source": [
        "print(m,c)  # value should be close to (-4,15)"
      ]
    }
  ],
  "metadata": {
    "colab": {
      "provenance": []
    },
    "kernelspec": {
      "display_name": "Python 3",
      "name": "python3"
    },
    "language_info": {
      "name": "python",
      "version": "3.9.13"
    }
  },
  "nbformat": 4,
  "nbformat_minor": 0
}