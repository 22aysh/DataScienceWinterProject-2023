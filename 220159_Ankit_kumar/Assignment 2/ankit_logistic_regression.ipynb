{
 "cells": [
  {
   "cell_type": "code",
   "execution_count": 1,
   "id": "99af9d62",
   "metadata": {},
   "outputs": [],
   "source": [
    "import numpy as np\n",
    "import pandas as pd\n",
    "import matplotlib.pyplot as plt\n",
    "import math"
   ]
  },
  {
   "cell_type": "code",
   "execution_count": 2,
   "id": "0e7a0404",
   "metadata": {},
   "outputs": [],
   "source": [
    "df=pd.read_csv('Social_Network_Ads.csv')\n",
    "X=df['Age']\n",
    "Y=df['Purchased']\n",
    "from sklearn.model_selection import train_test_split\n",
    "X_train, X_test, y_train, y_test = train_test_split(X,Y, test_size=0.30)"
   ]
  },
  {
   "cell_type": "markdown",
   "id": "62de76da",
   "metadata": {},
   "source": [
    "#  logistic regression using scratch"
   ]
  },
  {
   "cell_type": "code",
   "execution_count": 3,
   "id": "72a27412",
   "metadata": {},
   "outputs": [
    {
     "name": "stdout",
     "output_type": "stream",
     "text": [
      "0.7833333333333333\n"
     ]
    }
   ],
   "source": [
    "def predict(X, b0, b1):\n",
    "    return np.array([1 / (1 + math.exp(-1*b0 + -1*b1*x)) for x in X])\n",
    "\n",
    "def regression_normal(X, Y):\n",
    "\n",
    "    X =X-X.mean()\n",
    "    b =1\n",
    "    c = 1\n",
    "    L_r = 0.0001\n",
    "    n = 1000\n",
    "\n",
    "    for i in range(n):\n",
    "        y_pre = predict(X, b, c)\n",
    "        db = -2 * sum((Y - y_pre) * y_pre * (1 - y_pre)) \n",
    "        dc = -2 * sum(X * (Y - y_pre) * y_pre * (1 - y_pre)) \n",
    "        b = b - L_r * db\n",
    "        c= c - L_r * dc\n",
    "    \n",
    "    return b,c\n",
    "b,c = regression_normal(X_train, y_train)\n",
    "X_test_norm = X_test-X_test.mean()\n",
    "y_pre = predict(X_test_norm, b, c)\n",
    "y_pre = [1 if p >= 0.5 else 0 for p in y_pre]\n",
    "accuracy = 0\n",
    "for i in range(len(y_pre)):\n",
    "    if y_pre[i] == y_test.iloc[i]:\n",
    "        accuracy += 1\n",
    "accuracy/=len(y_pre)\n",
    "print(accuracy)"
   ]
  },
  {
   "cell_type": "code",
   "execution_count": 4,
   "id": "dd887d39",
   "metadata": {},
   "outputs": [
    {
     "name": "stdout",
     "output_type": "stream",
     "text": [
      "0.7833333333333333\n"
     ]
    }
   ],
   "source": [
    "def regression_standard(X, Y):\n",
    "\n",
    "    X =(X-X.mean())/np.std(X)\n",
    "    b =1\n",
    "    c = 1\n",
    "    L_r = 0.0001\n",
    "    n = 1000\n",
    "\n",
    "    for i in range(n):\n",
    "        y_pre = predict(X, b, c)\n",
    "        db = -2 * sum((Y - y_pre) * y_pre * (1 - y_pre)) \n",
    "        dc = -2 * sum(X * (Y - y_pre) * y_pre * (1 - y_pre)) \n",
    "        b = b - L_r * db\n",
    "        c= c - L_r * dc\n",
    "    \n",
    "    return b,c\n",
    "b,c = regression_standard(X_train, y_train)\n",
    "X_test_std = X_test-X_test.mean()\n",
    "y_pre = predict(X_test_std, b, c)\n",
    "y_pre = [1 if p >= 0.5 else 0 for p in y_pre]\n",
    "accuracy = 0\n",
    "for i in range(len(y_pre)):\n",
    "    if y_pre[i] == y_test.iloc[i]:\n",
    "        accuracy += 1\n",
    "accuracy/=len(y_pre)\n",
    "print(accuracy)"
   ]
  },
  {
   "cell_type": "markdown",
   "id": "c48876b7",
   "metadata": {},
   "source": [
    "## logistic regression using sklearn"
   ]
  },
  {
   "cell_type": "code",
   "execution_count": 5,
   "id": "ff2d7997",
   "metadata": {},
   "outputs": [
    {
     "name": "stdout",
     "output_type": "stream",
     "text": [
      "Accuracy = 0.85\n"
     ]
    },
    {
     "name": "stderr",
     "output_type": "stream",
     "text": [
      "C:\\Users\\pupu1\\anaconda3\\Lib\\site-packages\\sklearn\\utils\\validation.py:1184: DataConversionWarning: A column-vector y was passed when a 1d array was expected. Please change the shape of y to (n_samples, ), for example using ravel().\n",
      "  y = column_or_1d(y, warn=True)\n"
     ]
    }
   ],
   "source": [
    "from sklearn.linear_model import LogisticRegression \n",
    "lr_model = LogisticRegression()\n",
    "lr_model.fit(X_train.values.reshape(-1, 1), y_train.values.reshape(-1, 1))\n",
    "y_pred_sk = lr_model.predict(X_test.values.reshape(-1, 1))\n",
    "print(f\"Accuracy = {lr_model.score(X_test.values.reshape(-1, 1), y_test.values.reshape(-1, 1))}\") "
   ]
  }
 ],
 "metadata": {
  "kernelspec": {
   "display_name": "Python 3 (ipykernel)",
   "language": "python",
   "name": "python3"
  },
  "language_info": {
   "codemirror_mode": {
    "name": "ipython",
    "version": 3
   },
   "file_extension": ".py",
   "mimetype": "text/x-python",
   "name": "python",
   "nbconvert_exporter": "python",
   "pygments_lexer": "ipython3",
   "version": "3.11.5"
  }
 },
 "nbformat": 4,
 "nbformat_minor": 5
}
