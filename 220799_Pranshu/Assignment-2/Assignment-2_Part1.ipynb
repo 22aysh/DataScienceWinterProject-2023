{
 "cells": [
  {
   "cell_type": "markdown",
   "id": "d59b31c3",
   "metadata": {},
   "source": [
    "# Implementing logistic regression using Python"
   ]
  },
  {
   "cell_type": "markdown",
   "id": "442486fc",
   "metadata": {},
   "source": [
    "**Importing Libraries**"
   ]
  },
  {
   "cell_type": "code",
   "execution_count": 82,
   "id": "7cc7b072",
   "metadata": {},
   "outputs": [],
   "source": [
    "import pandas as pd\n",
    "import numpy as np\n",
    "import matplotlib.pyplot as plt\n",
    "%matplotlib inline\n",
    "\n",
    "from sklearn import preprocessing\n",
    "from sklearn.linear_model import LogisticRegression\n",
    "from sklearn.preprocessing import MinMaxScaler\n",
    "from sklearn.preprocessing import StandardScaler \n",
    "from sklearn.model_selection import train_test_split\n",
    "from sklearn.metrics import accuracy_score"
   ]
  },
  {
   "cell_type": "markdown",
   "id": "2aa53ffa",
   "metadata": {},
   "source": [
    "**Importing the csv dataset using pandas**"
   ]
  },
  {
   "cell_type": "code",
   "execution_count": 83,
   "id": "130016ad",
   "metadata": {
    "scrolled": true
   },
   "outputs": [],
   "source": [
    "df=pd.read_csv(\"C:\\\\Users\\\\91810\\\\OneDrive\\\\Pictures\\\\Desktop\\\\Intro to DS\\\\Social_Network_Ads.csv\")"
   ]
  },
  {
   "cell_type": "markdown",
   "id": "05fda707",
   "metadata": {},
   "source": [
    "## Analysing the dataset"
   ]
  },
  {
   "cell_type": "code",
   "execution_count": 84,
   "id": "a17e5529",
   "metadata": {},
   "outputs": [
    {
     "data": {
      "text/html": [
       "<div>\n",
       "<style scoped>\n",
       "    .dataframe tbody tr th:only-of-type {\n",
       "        vertical-align: middle;\n",
       "    }\n",
       "\n",
       "    .dataframe tbody tr th {\n",
       "        vertical-align: top;\n",
       "    }\n",
       "\n",
       "    .dataframe thead th {\n",
       "        text-align: right;\n",
       "    }\n",
       "</style>\n",
       "<table border=\"1\" class=\"dataframe\">\n",
       "  <thead>\n",
       "    <tr style=\"text-align: right;\">\n",
       "      <th></th>\n",
       "      <th>User ID</th>\n",
       "      <th>Gender</th>\n",
       "      <th>Age</th>\n",
       "      <th>EstimatedSalary</th>\n",
       "      <th>Purchased</th>\n",
       "    </tr>\n",
       "  </thead>\n",
       "  <tbody>\n",
       "    <tr>\n",
       "      <th>0</th>\n",
       "      <td>15624510</td>\n",
       "      <td>Male</td>\n",
       "      <td>19</td>\n",
       "      <td>19000</td>\n",
       "      <td>0</td>\n",
       "    </tr>\n",
       "    <tr>\n",
       "      <th>1</th>\n",
       "      <td>15810944</td>\n",
       "      <td>Male</td>\n",
       "      <td>35</td>\n",
       "      <td>20000</td>\n",
       "      <td>0</td>\n",
       "    </tr>\n",
       "    <tr>\n",
       "      <th>2</th>\n",
       "      <td>15668575</td>\n",
       "      <td>Female</td>\n",
       "      <td>26</td>\n",
       "      <td>43000</td>\n",
       "      <td>0</td>\n",
       "    </tr>\n",
       "    <tr>\n",
       "      <th>3</th>\n",
       "      <td>15603246</td>\n",
       "      <td>Female</td>\n",
       "      <td>27</td>\n",
       "      <td>57000</td>\n",
       "      <td>0</td>\n",
       "    </tr>\n",
       "    <tr>\n",
       "      <th>4</th>\n",
       "      <td>15804002</td>\n",
       "      <td>Male</td>\n",
       "      <td>19</td>\n",
       "      <td>76000</td>\n",
       "      <td>0</td>\n",
       "    </tr>\n",
       "  </tbody>\n",
       "</table>\n",
       "</div>"
      ],
      "text/plain": [
       "    User ID  Gender  Age  EstimatedSalary  Purchased\n",
       "0  15624510    Male   19            19000          0\n",
       "1  15810944    Male   35            20000          0\n",
       "2  15668575  Female   26            43000          0\n",
       "3  15603246  Female   27            57000          0\n",
       "4  15804002    Male   19            76000          0"
      ]
     },
     "execution_count": 84,
     "metadata": {},
     "output_type": "execute_result"
    }
   ],
   "source": [
    "df.head()"
   ]
  },
  {
   "cell_type": "code",
   "execution_count": 85,
   "id": "8e0de41a",
   "metadata": {},
   "outputs": [
    {
     "data": {
      "text/plain": [
       "(400, 5)"
      ]
     },
     "execution_count": 85,
     "metadata": {},
     "output_type": "execute_result"
    }
   ],
   "source": [
    "df.shape"
   ]
  },
  {
   "cell_type": "code",
   "execution_count": 86,
   "id": "530eeeae",
   "metadata": {},
   "outputs": [
    {
     "name": "stdout",
     "output_type": "stream",
     "text": [
      "<class 'pandas.core.frame.DataFrame'>\n",
      "RangeIndex: 400 entries, 0 to 399\n",
      "Data columns (total 5 columns):\n",
      " #   Column           Non-Null Count  Dtype \n",
      "---  ------           --------------  ----- \n",
      " 0   User ID          400 non-null    int64 \n",
      " 1   Gender           400 non-null    object\n",
      " 2   Age              400 non-null    int64 \n",
      " 3   EstimatedSalary  400 non-null    int64 \n",
      " 4   Purchased        400 non-null    int64 \n",
      "dtypes: int64(4), object(1)\n",
      "memory usage: 15.8+ KB\n"
     ]
    }
   ],
   "source": [
    "##datatype in each column\n",
    "df.info()"
   ]
  },
  {
   "cell_type": "code",
   "execution_count": 87,
   "id": "5c1db169",
   "metadata": {
    "scrolled": true
   },
   "outputs": [
    {
     "data": {
      "text/plain": [
       "User ID            0\n",
       "Gender             0\n",
       "Age                0\n",
       "EstimatedSalary    0\n",
       "Purchased          0\n",
       "dtype: int64"
      ]
     },
     "execution_count": 87,
     "metadata": {},
     "output_type": "execute_result"
    }
   ],
   "source": [
    "#df.isnull()\n",
    "df.isnull().sum()"
   ]
  },
  {
   "cell_type": "code",
   "execution_count": 88,
   "id": "6dabf819",
   "metadata": {},
   "outputs": [
    {
     "data": {
      "text/plain": [
       "User ID            400\n",
       "Gender               2\n",
       "Age                 43\n",
       "EstimatedSalary    117\n",
       "Purchased            2\n",
       "dtype: int64"
      ]
     },
     "execution_count": 88,
     "metadata": {},
     "output_type": "execute_result"
    }
   ],
   "source": [
    "df.nunique()"
   ]
  },
  {
   "cell_type": "markdown",
   "id": "aff577f0",
   "metadata": {},
   "source": [
    "## Preprocesssing data and Regression Models"
   ]
  },
  {
   "cell_type": "markdown",
   "id": "6db11cd5",
   "metadata": {},
   "source": [
    "### From Scratch"
   ]
  },
  {
   "cell_type": "code",
   "execution_count": 103,
   "id": "1478f1f5",
   "metadata": {},
   "outputs": [],
   "source": [
    "#Splitting dataset\n",
    "X_train, X_test, Y_train, Y_test = train_test_split(df['Age'], df['Purchased'], test_size=0.30)"
   ]
  },
  {
   "cell_type": "markdown",
   "id": "a09f6750",
   "metadata": {},
   "source": [
    "**Normalisation**"
   ]
  },
  {
   "cell_type": "code",
   "execution_count": 104,
   "id": "f7eca79e",
   "metadata": {},
   "outputs": [],
   "source": [
    "def normalize(X):\n",
    "    return X - X.mean()"
   ]
  },
  {
   "cell_type": "markdown",
   "id": "4953ed53",
   "metadata": {},
   "source": [
    "**Standardisation**"
   ]
  },
  {
   "cell_type": "code",
   "execution_count": 129,
   "id": "6ccc4181",
   "metadata": {},
   "outputs": [],
   "source": [
    "def standardize(X):\n",
    "    mean_X = np.mean(X)\n",
    "    std_X = np.std(X)\n",
    "\n",
    "    standardized_X = (X - mean_X) / std_X\n",
    "    return standardized_X"
   ]
  },
  {
   "cell_type": "markdown",
   "id": "fc64e82e",
   "metadata": {},
   "source": [
    "**Logistic Regression Model**"
   ]
  },
  {
   "cell_type": "code",
   "execution_count": 130,
   "id": "30d067d8",
   "metadata": {},
   "outputs": [],
   "source": [
    "def predict(X, b0, b1):\n",
    "    return np.array([1 / (1 + np.exp(-1*b0 + -1*b1*x)) for x in X])"
   ]
  },
  {
   "cell_type": "code",
   "execution_count": 131,
   "id": "53eaa9e2",
   "metadata": {},
   "outputs": [],
   "source": [
    "def logistic_regression(X, Y):\n",
    "    \n",
    "    m=0\n",
    "    c=0\n",
    "    \n",
    "    lr = 0.001\n",
    "    epochs = 10000\n",
    "\n",
    "    for epoch in range(epochs):\n",
    "        y_pred = predict(X, c, m)\n",
    "        \n",
    "        dc = -2 * sum((Y - y_pred) * y_pred * (1 - y_pred))\n",
    "        dm = -2 * sum(X * (Y - y_pred) * y_pred * (1 - y_pred))\n",
    "        \n",
    "        c = c - lr* dc\n",
    "        m = m - lr * dm\n",
    "    \n",
    "    return c, m"
   ]
  },
  {
   "cell_type": "markdown",
   "id": "e043768c",
   "metadata": {},
   "source": [
    "**Accuracy of the model**"
   ]
  },
  {
   "cell_type": "code",
   "execution_count": 134,
   "id": "51074ec8",
   "metadata": {},
   "outputs": [],
   "source": [
    "def accuracy_model(test_data_x, test_data_y, c, m):\n",
    "    accuracy = 0\n",
    "    \n",
    "    y_pred = predict(test_data_x, c, m)\n",
    "    y_pred = [1 if p >= 0.5 else 0 for p in y_pred]\n",
    "    \n",
    "    for i in range(len(y_pred)):\n",
    "        if y_pred[i] == test_data_y.iloc[i]:\n",
    "            accuracy += 1\n",
    "    return accuracy*100 / len(y_pred)"
   ]
  },
  {
   "cell_type": "markdown",
   "id": "53e43b40",
   "metadata": {},
   "source": [
    "**Training the model**"
   ]
  },
  {
   "cell_type": "code",
   "execution_count": 137,
   "id": "da13020d",
   "metadata": {},
   "outputs": [],
   "source": [
    "c1, m1= logistic_regression(X_train, Y_train)\n",
    "c2, m2= logistic_regression(normalize(X_train), Y_train)\n",
    "c3, m3= logistic_regression(standardize(X_train), Y_train)"
   ]
  },
  {
   "cell_type": "markdown",
   "id": "d9cb9c26",
   "metadata": {},
   "source": [
    "**Accuracy Calculation**"
   ]
  },
  {
   "cell_type": "code",
   "execution_count": 142,
   "id": "ceff006b",
   "metadata": {},
   "outputs": [
    {
     "name": "stdout",
     "output_type": "stream",
     "text": [
      "Accuracies of models:\n",
      "\n",
      "Using raw data: 61.6667\n",
      "Using normalised data: 84.1667\n",
      "Using standardised data: 84.1667\n"
     ]
    }
   ],
   "source": [
    "print(\"Accuracies of models:\\n\")\n",
    "print(\"Using raw data:\", round(accuracy_model(X_test, Y_test, c1, m1), 4))\n",
    "print(\"Using normalised data:\", round(accuracy_model(normalize(X_test), Y_test, c2, m2),4))\n",
    "print(\"Using standardised data:\", round(accuracy_model(standardize(X_test), Y_test, c3, m3),4))"
   ]
  },
  {
   "cell_type": "markdown",
   "id": "0538f908",
   "metadata": {},
   "source": [
    "### Using Scikit-learn"
   ]
  },
  {
   "cell_type": "markdown",
   "id": "f172bb82",
   "metadata": {},
   "source": [
    "**Splitting the dataset into train and test set**"
   ]
  },
  {
   "cell_type": "code",
   "execution_count": 143,
   "id": "c3509b7d",
   "metadata": {},
   "outputs": [],
   "source": [
    "#original dataset\n",
    "x = df[['Age', 'EstimatedSalary']].values \n",
    "y = df['Purchased']\n",
    "\n",
    "#splitting the data set\n",
    "train_x, test_x, train_y, test_y = train_test_split(x, y, test_size=0.3, random_state=0)"
   ]
  },
  {
   "cell_type": "markdown",
   "id": "ea6182f3",
   "metadata": {},
   "source": [
    "**Normalisation of the dataset**"
   ]
  },
  {
   "cell_type": "code",
   "execution_count": 144,
   "id": "073a2e13",
   "metadata": {},
   "outputs": [],
   "source": [
    "norm = MinMaxScaler().fit(train_x)\n",
    "\n",
    "train_norm_x= norm.transform(train_x)\n",
    "test_norm_x = norm.transform(test_x)"
   ]
  },
  {
   "cell_type": "markdown",
   "id": "180a1947",
   "metadata": {},
   "source": [
    "**Standardisation of the dataset**"
   ]
  },
  {
   "cell_type": "code",
   "execution_count": 145,
   "id": "b201af32",
   "metadata": {},
   "outputs": [],
   "source": [
    "scaler = StandardScaler() \n",
    "\n",
    "x_train = scaler.fit_transform(train_x) \n",
    "x_test = scaler.fit_transform(test_x)"
   ]
  },
  {
   "cell_type": "markdown",
   "id": "e0d11f52",
   "metadata": {},
   "source": [
    "## Logistic Regression Models"
   ]
  },
  {
   "cell_type": "markdown",
   "id": "1514dbc6",
   "metadata": {},
   "source": [
    "**Logistic regression model for raw data**"
   ]
  },
  {
   "cell_type": "code",
   "execution_count": 146,
   "id": "09aac488",
   "metadata": {},
   "outputs": [],
   "source": [
    "model_1 = LogisticRegression(max_iter=10000, random_state=0) \n",
    "model_1.fit(train_x, train_y)\n",
    "\n",
    "predictions_1 = model_1.predict(test_x)\n",
    "\n",
    "#accuracy of the model\n",
    "accuracy_1 = accuracy_score(test_y, predictions_1)\n",
    "\n",
    "#print(\"Accuracy:\", f'{accuracy_1*100}%')"
   ]
  },
  {
   "cell_type": "markdown",
   "id": "09594f44",
   "metadata": {},
   "source": [
    "**Logistic regression model for normalised data**"
   ]
  },
  {
   "cell_type": "code",
   "execution_count": 147,
   "id": "41f4169a",
   "metadata": {},
   "outputs": [],
   "source": [
    "model_2 = LogisticRegression(max_iter=10000, random_state=0) \n",
    "model_2.fit(train_norm_x, train_y)\n",
    "\n",
    "predictions_2 = model_2.predict(test_norm_x)\n",
    "\n",
    "accuracy_2 = accuracy_score(test_y, predictions_2)\n",
    "\n",
    "#print(\"Accuracy:\", f'{accuracy_2*100}%')"
   ]
  },
  {
   "cell_type": "markdown",
   "id": "38bceac5",
   "metadata": {},
   "source": [
    "**Logistic regression model for standardised data**"
   ]
  },
  {
   "cell_type": "code",
   "execution_count": 148,
   "id": "15a0c768",
   "metadata": {},
   "outputs": [],
   "source": [
    "model_3 = LogisticRegression(max_iter=10000, random_state=0) \n",
    "model_3.fit(x_train, train_y)\n",
    "\n",
    "predictions_3 = model_3.predict(x_test)\n",
    "\n",
    "accuracy_3 = accuracy_score(test_y, predictions_3)\n",
    "\n",
    "#print(\"Accuracy:\", f'{accuracy_3*100}%')"
   ]
  },
  {
   "cell_type": "markdown",
   "id": "7d3b7887",
   "metadata": {},
   "source": [
    "## Results"
   ]
  },
  {
   "cell_type": "code",
   "execution_count": 149,
   "id": "0d6bb850",
   "metadata": {},
   "outputs": [
    {
     "name": "stdout",
     "output_type": "stream",
     "text": [
      "Accuracies of models:\n",
      "\n",
      "Using raw data: 65.8333%\n",
      "Using normalised data: 84.1667%\n",
      "Using standardised data: 89.1667%\n"
     ]
    }
   ],
   "source": [
    "print(\"Accuracies of models:\\n\")\n",
    "print(\"Using raw data:\", f'{accuracy_1*100:.4f}%')\n",
    "print(\"Using normalised data:\", f'{accuracy_2*100:.4f}%')\n",
    "print(\"Using standardised data:\", f'{accuracy_3*100:.4f}%')"
   ]
  }
 ],
 "metadata": {
  "kernelspec": {
   "display_name": "Python 3 (ipykernel)",
   "language": "python",
   "name": "python3"
  },
  "language_info": {
   "codemirror_mode": {
    "name": "ipython",
    "version": 3
   },
   "file_extension": ".py",
   "mimetype": "text/x-python",
   "name": "python",
   "nbconvert_exporter": "python",
   "pygments_lexer": "ipython3",
   "version": "3.10.9"
  }
 },
 "nbformat": 4,
 "nbformat_minor": 5
}
