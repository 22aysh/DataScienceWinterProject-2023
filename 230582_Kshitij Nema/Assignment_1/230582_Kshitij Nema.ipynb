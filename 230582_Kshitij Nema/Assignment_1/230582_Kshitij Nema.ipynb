{
  "nbformat": 4,
  "nbformat_minor": 0,
  "metadata": {
    "colab": {
      "provenance": []
    },
    "kernelspec": {
      "name": "python3",
      "display_name": "Python 3"
    },
    "language_info": {
      "name": "python"
    }
  },
  "cells": [
    {
      "cell_type": "code",
      "execution_count": 1,
      "metadata": {
        "colab": {
          "base_uri": "https://localhost:8080/"
        },
        "id": "D6k6FJ-p7xXC",
        "outputId": "760408e8-b1bf-4dfd-e32d-cbc2be2b358e"
      },
      "outputs": [
        {
          "output_type": "stream",
          "name": "stdout",
          "text": [
            "By loops\n",
            "[[14], [32]]\n",
            "By numpy:  \n",
            "[[14]\n",
            " [32]]\n"
          ]
        }
      ],
      "source": [
        "import numpy as np\n",
        "import pandas as pd\n",
        "import matplotlib.pyplot as plt\n",
        "def is_valid(mat_A,mat_B):\n",
        "  shape1= np.shape(mat_A)\n",
        "  shape2= np.shape(mat_B)\n",
        "  if(shape1[1]==shape2[0]):\n",
        "    return True\n",
        "  else:\n",
        "    return False\n",
        "\n",
        "def matrix_multiply(mat_A,mat_B):\n",
        "  a_rows= len(mat_A)\n",
        "  b_rows= len(mat_B)\n",
        "  a_columns= len(mat_A[0])\n",
        "  b_columns= len(mat_B[0])\n",
        "  product= [[0 for _ in range(b_columns)] for _ in range(a_rows)]\n",
        "\n",
        "  for i in range(a_rows):\n",
        "        for j in range(b_columns):\n",
        "            for k in range(a_columns):\n",
        "                product[i][j] += mat_A[i][k] * mat_B[k][j]\n",
        "  return product\n",
        "\n",
        "def matrix_multiply2(A,B):\n",
        "  mat_A= np.matrix(A)\n",
        "  mat_B= np.matrix(B)\n",
        "  C= np.dot(A,B)\n",
        "  return C\n",
        "\n",
        "X= [[5,6,7],\n",
        "    [8,9,10]]\n",
        "Y= [[1],\n",
        "    [2],\n",
        "    [3]]\n",
        "if(is_valid(X,Y)):\n",
        "  print(\"By loops\")\n",
        "  C= matrix_multiply(X,Y)\n",
        "  print(C)\n",
        "  print(\"By numpy:  \" )\n",
        "  D= matrix_multiply2(X,Y)\n",
        "  print(D)\n",
        "\n",
        "else:\n",
        "  print(\"not valid multiplication\")"
      ]
    },
    {
      "cell_type": "code",
      "source": [
        "import numpy as np\n",
        "import pandas as pd\n",
        "import matplotlib.pyplot as plt\n",
        "import math\n",
        "\n",
        "def mean(li):\n",
        "  add=0\n",
        "  for i in li:\n",
        "    add= add+i\n",
        "  return add/len(li)\n",
        "\n",
        "def standard_deviation(l):\n",
        "  avg = mean(l)\n",
        "  square=0\n",
        "  for j in range(len(l)):\n",
        "    square= square+ (l[j]-avg)*(l[j]-avg)\n",
        "  variance= square/len(l)\n",
        "  return math.sqrt(variance)\n",
        "\n",
        "def z_score(lis):\n",
        "  list1=[]\n",
        "  for i in range(len(lis)):\n",
        "    list1.append((lis[i]-mean(lis))/standard_deviation(lis))\n",
        "  return list1\n",
        "\n",
        "def z_score2(lis):\n",
        "  avg= np.mean(lis)\n",
        "  st= np.std(lis)\n",
        "  z_scores = [(x - avg) / st for x in lis]\n",
        "  return z_scores\n",
        "\n",
        "l= np.array([1,6,8,10,14])\n",
        "print(\"Without Using numpy\")\n",
        "print(z_score(l))\n",
        "print(\"With using numpy\")\n",
        "print(z_score2(l))"
      ],
      "metadata": {
        "colab": {
          "base_uri": "https://localhost:8080/"
        },
        "id": "UjIyoDFFEkFk",
        "outputId": "4246e4b2-00e4-4d73-a3cc-6a1717bbb5da"
      },
      "execution_count": 2,
      "outputs": [
        {
          "output_type": "stream",
          "name": "stdout",
          "text": [
            "Without Using numpy\n",
            "[-1.5784103745049405, -0.4178145108983666, 0.046423834544263, 0.5106621799868926, 1.4391388708721518]\n",
            "With using numpy\n",
            "[-1.5784103745049405, -0.4178145108983666, 0.046423834544263, 0.5106621799868926, 1.4391388708721518]\n"
          ]
        }
      ]
    },
    {
      "cell_type": "code",
      "source": [
        "import math\n",
        "def sigmoid(x):\n",
        "  lis=[]\n",
        "  for i in range(len(x)):\n",
        "    lis.append(math.pow(math.e, x[i])/(math.pow(math.e, x[i])+1))\n",
        "  return lis\n",
        "\n",
        "def sigmoid_derivative(x):\n",
        "  l=[]\n",
        "  for i in range(len(x)):\n",
        "    l.append(math.pow(math.e, -1*x[i])/(1+math.pow(math.e, -x[i]))*(1+math.pow(math.e, -x[i])))\n",
        "  return l\n",
        "\n",
        "print(sigmoid_derivative([1,2,3,4,5,6]))"
      ],
      "metadata": {
        "colab": {
          "base_uri": "https://localhost:8080/"
        },
        "id": "IWa_3hjYFRUk",
        "outputId": "be72a8dc-c92c-45d8-b460-7e57c6469676"
      },
      "execution_count": 3,
      "outputs": [
        {
          "output_type": "stream",
          "name": "stdout",
          "text": [
            "[0.3678794411714423, 0.1353352832366127, 0.04978706836786395, 0.018315638888734186, 0.006737946999085469, 0.0024787521766663594]\n"
          ]
        }
      ]
    },
    {
      "cell_type": "code",
      "source": [
        "import numpy as np\n",
        "import pandas as pd\n",
        "import matplotlib.pyplot as plt\n",
        "import math\n",
        "df = pd.read_csv(\"superheated_vapor_properties.csv\")\n",
        "print(df.shape)\n",
        "l= np.array([])\n",
        "d={}\n",
        "for i in df:\n",
        "  l.append(i)\n",
        "  null_count= df[i].isnull().sum()\n",
        "  d[i]=null_count\n",
        "  print(\"No of null: \", null_count)\n",
        "\n",
        "print(\"Names of columns: \")\n",
        "print(l)\n",
        "df[\"Enthalpy at 75 Kpa\"]= df[\"Enthalpy\"] + \"at\" + df[\"Pressure\"].astype(str)\n",
        "df[\"Entropy at 250Kpa\"]= df[\"Entropy\"] + \"at\" + df[\"Pressure\"].astype(str)\n",
        "idx1=df[df[\"Enthalpy at 75 Kpa\"]=='V at 10.0'].index\n",
        "df['75'].loc[idx1].item()\n",
        "idx2=df[df[\"Entropy at 250Kpa\"]==\"V at 10.0\"].index\n",
        "df[\"250\"].loc[idx2].item()\n"
      ],
      "metadata": {
        "id": "RPEn0-KbF2vj"
      },
      "execution_count": null,
      "outputs": []
    },
    {
      "cell_type": "code",
      "source": [
        "import matplotlib.pyplot as plt\n",
        "import numpy as np\n",
        "\n",
        "x = np.random.rand(100)*100\n",
        "y = -4*x+15\n",
        "y = y+np.random.randn(100)*30\n",
        "plt.scatter(x,y)"
      ],
      "metadata": {
        "colab": {
          "base_uri": "https://localhost:8080/",
          "height": 448
        },
        "id": "iZXhpQnCGGUT",
        "outputId": "c91bcfcb-b0d6-4f89-96ca-724082d80746"
      },
      "execution_count": 6,
      "outputs": [
        {
          "output_type": "execute_result",
          "data": {
            "text/plain": [
              "<matplotlib.collections.PathCollection at 0x7ec587221120>"
            ]
          },
          "metadata": {},
          "execution_count": 6
        },
        {
          "output_type": "display_data",
          "data": {
            "text/plain": [
              "<Figure size 640x480 with 1 Axes>"
            ],
            "image/png": "[encoded data removed]"
          },
          "metadata": {}
        }
      ]
    },
    {
      "cell_type": "code",
      "source": [
        "import matplotlib.pyplot as plt\n",
        "import numpy as np\n",
        "\n",
        "x = np.random.rand(100)*100\n",
        "y = -4*x+15\n",
        "y = y+np.random.randn(100)*30\n",
        "plt.scatter(x,y)\n",
        "\n",
        "m = 0\n",
        "c = 0\n",
        "learning_rate = 0.0001\n",
        "epochs = 1000\n",
        "\n",
        "for i in range(epochs):\n",
        "    y_pred = m * x + c\n",
        "\n",
        "    dm = (-2 / len(x)) * np.sum((y - y_pred) * x)\n",
        "    dc = (-2 / len(x)) * np.sum(y - y_pred)\n",
        "\n",
        "    m -= learning_rate * dm\n",
        "    c -= learning_rate * dc\n",
        "\n",
        "\n",
        "print(\"Estimated slope (m)\")\n",
        "print(m)\n",
        "print(\"Estimated intercept (c)\")\n",
        "print(c)\n",
        "plt.plot(x, m * x + c, color='green')\n",
        "plt.xlabel('X')\n",
        "plt.ylabel('Y')\n",
        "plt.title('Linear Regression Example')\n",
        "plt.show()"
      ],
      "metadata": {
        "colab": {
          "base_uri": "https://localhost:8080/",
          "height": 543
        },
        "id": "z3XPJFIuGHmJ",
        "outputId": "374b9a11-dd49-4cde-da7b-f70bc33ee47d"
      },
      "execution_count": 5,
      "outputs": [
        {
          "output_type": "stream",
          "name": "stdout",
          "text": [
            "Estimated slope (m)\n",
            "-3.846185031407539\n",
            "Estimated intercept (c)\n",
            "0.7416354779546767\n"
          ]
        },
        {
          "output_type": "display_data",
          "data": {
            "text/plain": [
              "<Figure size 640x480 with 1 Axes>"
            ],
            "image/png": "[encoded data removed]"
          },
          "metadata": {}
        }
      ]
    }
  ]
}