{
  "nbformat": 4,
  "nbformat_minor": 0,
  "metadata": {
    "colab": {
      "provenance": []
    },
    "kernelspec": {
      "name": "python3",
      "display_name": "Python 3"
    },
    "language_info": {
      "name": "python"
    }
  },
  "cells": [
    {
      "cell_type": "markdown",
      "source": [
        "# Week-1 Assignment\n",
        "\n",
        "**Welcome to your first assignment for the SimuTech Winter Project 2022! I hope you are excited to implement and test everything you have learned up until now. There is an interesting set of questions for you to refine your acquired skills as you delve into hands-on coding and deepen your understanding of numpy, pandas, and data visualization libraries.**\n",
        "\n",
        "P.S. You might find use of functions which you have never used before.So feel free to google"
      ],
      "metadata": {
        "id": "UOzd0zRXW5Uv"
      }
    },
    {
      "cell_type": "code",
      "source": [
        "from google.colab import drive\n",
        "drive.mount('/content/drive')"
      ],
      "metadata": {
        "id": "quOk2Txvgp9V",
        "outputId": "c857bc79-5394-4297-bc62-b641be7eda33",
        "colab": {
          "base_uri": "https://localhost:8080/"
        }
      },
      "execution_count": null,
      "outputs": [
        {
          "output_type": "stream",
          "name": "stdout",
          "text": [
            "Mounted at /content/drive\n"
          ]
        }
      ]
    },
    {
      "cell_type": "markdown",
      "source": [
        "# Section0 : Importing Libraries"
      ],
      "metadata": {
        "id": "2XFUXyq9Y9TG"
      }
    },
    {
      "cell_type": "markdown",
      "source": [
        "*Let's begin by importing numpy, pandas and matplotlib.*"
      ],
      "metadata": {
        "id": "D_bzcLusjSO0"
      }
    },
    {
      "cell_type": "code",
      "source": [
        "#your code here\n",
        "import numpy as np\n",
        "import pandas as pd\n",
        "import matplotlib.pyplot as plt\n",
        "import math"
      ],
      "metadata": {
        "id": "jdwX7bI7aGeY"
      },
      "execution_count": 2,
      "outputs": []
    },
    {
      "cell_type": "markdown",
      "source": [
        "# Section1 : Playing with Python and Numpy"
      ],
      "metadata": {
        "id": "LM25mz5ta-Q_"
      }
    },
    {
      "cell_type": "markdown",
      "source": [
        "### Q1. Matrix Multiplication"
      ],
      "metadata": {
        "id": "TcFQVqhAdQw_"
      }
    },
    {
      "cell_type": "markdown",
      "source": [
        "##### (i) Check if matrix multiplication is valid"
      ],
      "metadata": {
        "id": "6Dcai9pys0j8"
      }
    },
    {
      "cell_type": "code",
      "source": [
        "def isValid(A,B):\n",
        "  len(A[0]) != len(B)\n"
      ],
      "metadata": {
        "id": "0qC4txIss3gG"
      },
      "execution_count": null,
      "outputs": []
    },
    {
      "cell_type": "markdown",
      "source": [
        "9##### (ii) Using loops (without using numpy)"
      ],
      "metadata": {
        "id": "OPTfRGlTdXxa"
      }
    },
    {
      "cell_type": "code",
      "source": [
        "def matrix_multiply(A,B):\n",
        "     rows_A, cols_A = len(A), len(A[0])\n",
        "     rows_B, cols_B = len(B), len(B[0])\n",
        "     c =[[0 for _ in range(cols_B)] for _ in range(rows_A)]\n",
        "     for i in range(rows_A):\n",
        "         for j in range(cols_B):\n",
        "             for k in range(cols_A):\n",
        "                   C[i][j] += A[i][k] * B[k][j]\n",
        "     return c"
      ],
      "metadata": {
        "id": "V8F5ETsRct3S"
      },
      "execution_count": null,
      "outputs": []
    },
    {
      "cell_type": "markdown",
      "source": [
        "##### (iii) Using numpy"
      ],
      "metadata": {
        "id": "umUgUTSWdos8"
      }
    },
    {
      "cell_type": "code",
      "source": [
        "def matrix_multiply_2(A,B):\n",
        "  np.multiply(A,B)"
      ],
      "metadata": {
        "id": "-tdXlCHrduBP"
      },
      "execution_count": null,
      "outputs": []
    },
    {
      "cell_type": "markdown",
      "source": [
        "##### (iv) Testing your code\n",
        "\n",
        "Run the following cell to check if your functions are working properly.\n",
        "\n",
        "*Expected output:*\n",
        "[ [102 108 114]\n",
        " [246 261 276]\n",
        " [390 414 438]\n",
        " [534 567 600] ]"
      ],
      "metadata": {
        "id": "2nMFnl84edJG"
      }
    },
    {
      "cell_type": "code",
      "source": [
        "import numpy as np\n",
        "A = np.array([\n",
        "    [1, 2, 3],\n",
        "    [4, 5, 6],\n",
        "    [7, 8, 9],\n",
        "    [10, 11, 12]\n",
        "])\n",
        "\n",
        "B = np.array([\n",
        "    [13, 14, 15],\n",
        "    [16, 17, 18],\n",
        "    [19, 20, 21]\n",
        "])\n",
        "\n",
        "if isValid(A,B):\n",
        "  print(f\"Result using loops: {matrix_multiply(A,B)}\")\n",
        "  print(f\"Result using numpy: {matrix_multiply_2(A,B)}\")\n",
        "else:\n",
        "  print(f\"Matrix multiplication is not valid\")"
      ],
      "metadata": {
        "id": "09rX_Cm9ezmq",
        "outputId": "f8b29541-b264-4002-8957-bc4d1b8246db",
        "colab": {
          "base_uri": "https://localhost:8080/"
        }
      },
      "execution_count": null,
      "outputs": [
        {
          "output_type": "stream",
          "name": "stdout",
          "text": [
            "Matrix multiplication is not valid\n"
          ]
        }
      ]
    },
    {
      "cell_type": "markdown",
      "source": [
        "### Q2. Z-Score Normalisation"
      ],
      "metadata": {
        "id": "5hfP7Ao1fwqV"
      }
    },
    {
      "cell_type": "markdown",
      "source": [
        "Z-score normalization refers to the process of normalizing every value in a dataset such that the mean of all of the values is 0 and the standard deviation is 1.\n",
        "\n",
        "We use the following formula to perform a z-score normalization on every value in a dataset:\n",
        "\n",
        "New value = (x – μ) / σ\n",
        "\n",
        "where:\n",
        "\n",
        "x: Original value\n",
        "\n",
        "μ: Mean of data\n",
        "\n",
        "σ: Standard deviation of data"
      ],
      "metadata": {
        "id": "0e81Xx5Kw_CQ"
      }
    },
    {
      "cell_type": "markdown",
      "source": [
        "##### (i) Without using numpy"
      ],
      "metadata": {
        "id": "GP_MuyUbguSR"
      }
    },
    {
      "cell_type": "code",
      "source": [
        "def mean(x):\n",
        "    global m= sum(x)/len(x)\n"
      ],
      "metadata": {
        "id": "0vix8qaaghwP",
        "outputId": "10aeceee-d3ed-42b6-da4f-d3c4017c3896",
        "colab": {
          "base_uri": "https://localhost:8080/",
          "height": 140
        }
      },
      "execution_count": null,
      "outputs": [
        {
          "output_type": "error",
          "ename": "SyntaxError",
          "evalue": "ignored",
          "traceback": [
            "\u001b[0;36m  File \u001b[0;32m\"<ipython-input-86-ee43558fd3e0>\"\u001b[0;36m, line \u001b[0;32m2\u001b[0m\n\u001b[0;31m    global m= sum(x)/len(x)\u001b[0m\n\u001b[0m            ^\u001b[0m\n\u001b[0;31mSyntaxError\u001b[0m\u001b[0;31m:\u001b[0m invalid syntax\n"
          ]
        }
      ]
    },
    {
      "cell_type": "code",
      "source": [
        "\n",
        "def standard_deviation(x):\n",
        "    var=sum(pow(i-m,2)for i in x)/len(x)\n",
        "    globalstd=math.sqrt(var)\n",
        "\n"
      ],
      "metadata": {
        "id": "j1qabel-g_f5"
      },
      "execution_count": null,
      "outputs": []
    },
    {
      "cell_type": "code",
      "source": [
        "def zscore_normalisation1(x):\n",
        "    z= (x-m)/std\n"
      ],
      "metadata": {
        "id": "797ewbNqhEpY"
      },
      "execution_count": null,
      "outputs": []
    },
    {
      "cell_type": "markdown",
      "source": [
        "##### (ii) Using numpy\n",
        "\n",
        "Numpy has in_built functions for calculating mean and standard deviation"
      ],
      "metadata": {
        "id": "k8dq1wqRhbUB"
      }
    },
    {
      "cell_type": "code",
      "source": [
        "def zscore_normalisation_2(x):\n",
        "  m=np.mean(x)\n",
        "  s=np.std(x)\n",
        "  z= (x-m)/s\n"
      ],
      "metadata": {
        "id": "WjxJTUDihsYg"
      },
      "execution_count": null,
      "outputs": []
    },
    {
      "cell_type": "markdown",
      "source": [
        "##### (iii) Testing your code"
      ],
      "metadata": {
        "id": "glRqKU-_1pue"
      }
    },
    {
      "cell_type": "markdown",
      "source": [
        "Run the following cell to check if your functions are working properly.\n",
        "\n",
        "*Expected Output:* [-1.06753267 -0.99745394 -0.99745394 -0.81057732 -0.41346451 -0.06307086\n",
        "  0.31068237  0.91803138  1.22170588  1.89913361]"
      ],
      "metadata": {
        "id": "Kl7XBymOigCU"
      }
    },
    {
      "cell_type": "code",
      "source": [
        "x = [4, 7, 7, 15, 32, 47, 63, 89, 102, 131]\n",
        "print(f\"Result without using numpy: {zscore_normalisation1(x)}\")\n",
        "print(f\"Result using numpy: {zscore_normalisation_2(x)}\")"
      ],
      "metadata": {
        "id": "78ptZxf6ipZp",
        "outputId": "088f7d37-7e34-46bd-852a-e25d171b3167",
        "colab": {
          "base_uri": "https://localhost:8080/",
          "height": 297
        }
      },
      "execution_count": null,
      "outputs": [
        {
          "output_type": "error",
          "ename": "TypeError",
          "evalue": "ignored",
          "traceback": [
            "\u001b[0;31m---------------------------------------------------------------------------\u001b[0m",
            "\u001b[0;31mTypeError\u001b[0m                                 Traceback (most recent call last)",
            "\u001b[0;32m<ipython-input-82-550288d378ad>\u001b[0m in \u001b[0;36m<cell line: 2>\u001b[0;34m()\u001b[0m\n\u001b[1;32m      1\u001b[0m \u001b[0mx\u001b[0m \u001b[0;34m=\u001b[0m \u001b[0;34m[\u001b[0m\u001b[0;36m4\u001b[0m\u001b[0;34m,\u001b[0m \u001b[0;36m7\u001b[0m\u001b[0;34m,\u001b[0m \u001b[0;36m7\u001b[0m\u001b[0;34m,\u001b[0m \u001b[0;36m15\u001b[0m\u001b[0;34m,\u001b[0m \u001b[0;36m32\u001b[0m\u001b[0;34m,\u001b[0m \u001b[0;36m47\u001b[0m\u001b[0;34m,\u001b[0m \u001b[0;36m63\u001b[0m\u001b[0;34m,\u001b[0m \u001b[0;36m89\u001b[0m\u001b[0;34m,\u001b[0m \u001b[0;36m102\u001b[0m\u001b[0;34m,\u001b[0m \u001b[0;36m131\u001b[0m\u001b[0;34m]\u001b[0m\u001b[0;34m\u001b[0m\u001b[0;34m\u001b[0m\u001b[0m\n\u001b[0;32m----> 2\u001b[0;31m \u001b[0mprint\u001b[0m\u001b[0;34m(\u001b[0m\u001b[0;34mf\"Result without using numpy: {zscore_normalisation1(x)}\"\u001b[0m\u001b[0;34m)\u001b[0m\u001b[0;34m\u001b[0m\u001b[0;34m\u001b[0m\u001b[0m\n\u001b[0m\u001b[1;32m      3\u001b[0m \u001b[0mprint\u001b[0m\u001b[0;34m(\u001b[0m\u001b[0;34mf\"Result using numpy: {zscore_normalisation_2(x)}\"\u001b[0m\u001b[0;34m)\u001b[0m\u001b[0;34m\u001b[0m\u001b[0;34m\u001b[0m\u001b[0m\n",
            "\u001b[0;32m<ipython-input-80-57b514f9ae36>\u001b[0m in \u001b[0;36mzscore_normalisation1\u001b[0;34m(x)\u001b[0m\n\u001b[1;32m      1\u001b[0m \u001b[0;32mdef\u001b[0m \u001b[0mzscore_normalisation1\u001b[0m\u001b[0;34m(\u001b[0m\u001b[0mx\u001b[0m\u001b[0;34m)\u001b[0m\u001b[0;34m:\u001b[0m\u001b[0;34m\u001b[0m\u001b[0;34m\u001b[0m\u001b[0m\n\u001b[0;32m----> 2\u001b[0;31m     \u001b[0mz\u001b[0m\u001b[0;34m=\u001b[0m \u001b[0;34m(\u001b[0m\u001b[0mx\u001b[0m\u001b[0;34m-\u001b[0m\u001b[0mm\u001b[0m\u001b[0;34m)\u001b[0m\u001b[0;34m/\u001b[0m\u001b[0mstd\u001b[0m\u001b[0;34m\u001b[0m\u001b[0;34m\u001b[0m\u001b[0m\n\u001b[0m\u001b[1;32m      3\u001b[0m \u001b[0;34m\u001b[0m\u001b[0m\n",
            "\u001b[0;31mTypeError\u001b[0m: unsupported operand type(s) for -: 'list' and 'float'"
          ]
        }
      ]
    },
    {
      "cell_type": "markdown",
      "source": [
        "### Q3. Sigmoid fn and its derivative"
      ],
      "metadata": {
        "id": "0WVscJ0z14rp"
      }
    },
    {
      "cell_type": "markdown",
      "source": [
        "The sigmoid function is a mathematical function that maps any input value to a value between 0 and 1.\n",
        "\n",
        "It is defined mathematically as s(x) = 1/(1+e^(-x))."
      ],
      "metadata": {
        "id": "Jfntb0Rg94Tu"
      }
    },
    {
      "cell_type": "markdown",
      "source": [
        "##### (i) Write a fn to implement sigmoid fn"
      ],
      "metadata": {
        "id": "8SCAPkjO2m7u"
      }
    },
    {
      "cell_type": "code",
      "source": [
        "def sigmoidfn(x):\n",
        "   s=1/(1+math.exp^(-x))"
      ],
      "metadata": {
        "id": "jL_TRQFG2l5m"
      },
      "execution_count": null,
      "outputs": []
    },
    {
      "cell_type": "markdown",
      "source": [
        "##### (ii) Write a fn to implement derivative of sigmoid fn"
      ],
      "metadata": {
        "id": "t7KBbl7N3AUM"
      }
    },
    {
      "cell_type": "code",
      "source": [
        "def derivative(x):\n",
        "  np.gradient(s,x)"
      ],
      "metadata": {
        "id": "okjuOpba3KOJ"
      },
      "execution_count": null,
      "outputs": []
    },
    {
      "cell_type": "markdown",
      "source": [
        "##### (iii) Test your code"
      ],
      "metadata": {
        "id": "NdGTSpsp3mwr"
      }
    },
    {
      "cell_type": "markdown",
      "source": [
        "Run the following cell to check if your functions are working properly.\n",
        "\n",
        "*Expected output:*\n",
        "\n",
        "x on applying sigmoid activation fn is: [ [0.99987661 0.88079708 0.99330715 0.5        0.5       ]\n",
        " [0.99908895 0.99330715 0.5        0.5        0.5       ] ]\n",
        "\n",
        "x on applying derivative of sigmoid activation fn is: [ [-1.23379350e-04 -1.04993585e-01 -6.64805667e-03 -2.50000000e-01\n",
        "  -2.50000000e-01]\n",
        " [-9.10221180e-04 -6.64805667e-03 -2.50000000e-01 -2.50000000e-01\n",
        "  -2.50000000e-01] ]"
      ],
      "metadata": {
        "id": "lWY8RBex7gnd"
      }
    },
    {
      "cell_type": "code",
      "source": [
        "x = np.array([\n",
        "    [9,2,5,0,0],\n",
        "    [7,5,0,0,0]\n",
        "])\n",
        "print(f\"x on applying sigmoid activation fn is: {sigmoidfn(x)}\")\n",
        "print(f\"x on applying derivative of sigmoid activation fn is: {derivative(x)}\")"
      ],
      "metadata": {
        "id": "ssDGpmS33vdA"
      },
      "execution_count": null,
      "outputs": []
    },
    {
      "cell_type": "markdown",
      "source": [
        "# Section 2: Playing with Pandas"
      ],
      "metadata": {
        "id": "PMa0cseyZpa1"
      }
    },
    {
      "cell_type": "markdown",
      "source": [
        "###Read the csv file\n"
      ],
      "metadata": {
        "id": "i5Okb_jxZ_VW"
      }
    },
    {
      "cell_type": "code",
      "source": [
        "df = pd.read_csv(\"superheated_vapor_properties.csv\")\n",
        "df"
      ],
      "metadata": {
        "id": "aQgvyavrcM1l",
        "colab": {
          "base_uri": "https://localhost:8080/",
          "height": 355
        },
        "outputId": "0c651802-e238-4c07-dcf6-b640505cbe6a"
      },
      "execution_count": 3,
      "outputs": [
        {
          "output_type": "error",
          "ename": "FileNotFoundError",
          "evalue": "ignored",
          "traceback": [
            "\u001b[0;31m---------------------------------------------------------------------------\u001b[0m",
            "\u001b[0;31mFileNotFoundError\u001b[0m                         Traceback (most recent call last)",
            "\u001b[0;32m<ipython-input-3-d6b718c8a9c9>\u001b[0m in \u001b[0;36m<cell line: 1>\u001b[0;34m()\u001b[0m\n\u001b[0;32m----> 1\u001b[0;31m \u001b[0mdf\u001b[0m \u001b[0;34m=\u001b[0m \u001b[0mpd\u001b[0m\u001b[0;34m.\u001b[0m\u001b[0mread_csv\u001b[0m\u001b[0;34m(\u001b[0m\u001b[0;34m\"superheated_vapor_properties.csv\"\u001b[0m\u001b[0;34m)\u001b[0m\u001b[0;34m\u001b[0m\u001b[0;34m\u001b[0m\u001b[0m\n\u001b[0m\u001b[1;32m      2\u001b[0m \u001b[0mdf\u001b[0m\u001b[0;34m\u001b[0m\u001b[0;34m\u001b[0m\u001b[0m\n",
            "\u001b[0;32m/usr/local/lib/python3.10/dist-packages/pandas/util/_decorators.py\u001b[0m in \u001b[0;36mwrapper\u001b[0;34m(*args, **kwargs)\u001b[0m\n\u001b[1;32m    209\u001b[0m                 \u001b[0;32melse\u001b[0m\u001b[0;34m:\u001b[0m\u001b[0;34m\u001b[0m\u001b[0;34m\u001b[0m\u001b[0m\n\u001b[1;32m    210\u001b[0m                     \u001b[0mkwargs\u001b[0m\u001b[0;34m[\u001b[0m\u001b[0mnew_arg_name\u001b[0m\u001b[0;34m]\u001b[0m \u001b[0;34m=\u001b[0m \u001b[0mnew_arg_value\u001b[0m\u001b[0;34m\u001b[0m\u001b[0;34m\u001b[0m\u001b[0m\n\u001b[0;32m--> 211\u001b[0;31m             \u001b[0;32mreturn\u001b[0m \u001b[0mfunc\u001b[0m\u001b[0;34m(\u001b[0m\u001b[0;34m*\u001b[0m\u001b[0margs\u001b[0m\u001b[0;34m,\u001b[0m \u001b[0;34m**\u001b[0m\u001b[0mkwargs\u001b[0m\u001b[0;34m)\u001b[0m\u001b[0;34m\u001b[0m\u001b[0;34m\u001b[0m\u001b[0m\n\u001b[0m\u001b[1;32m    212\u001b[0m \u001b[0;34m\u001b[0m\u001b[0m\n\u001b[1;32m    213\u001b[0m         \u001b[0;32mreturn\u001b[0m \u001b[0mcast\u001b[0m\u001b[0;34m(\u001b[0m\u001b[0mF\u001b[0m\u001b[0;34m,\u001b[0m \u001b[0mwrapper\u001b[0m\u001b[0;34m)\u001b[0m\u001b[0;34m\u001b[0m\u001b[0;34m\u001b[0m\u001b[0m\n",
            "\u001b[0;32m/usr/local/lib/python3.10/dist-packages/pandas/util/_decorators.py\u001b[0m in \u001b[0;36mwrapper\u001b[0;34m(*args, **kwargs)\u001b[0m\n\u001b[1;32m    329\u001b[0m                     \u001b[0mstacklevel\u001b[0m\u001b[0;34m=\u001b[0m\u001b[0mfind_stack_level\u001b[0m\u001b[0;34m(\u001b[0m\u001b[0;34m)\u001b[0m\u001b[0;34m,\u001b[0m\u001b[0;34m\u001b[0m\u001b[0;34m\u001b[0m\u001b[0m\n\u001b[1;32m    330\u001b[0m                 )\n\u001b[0;32m--> 331\u001b[0;31m             \u001b[0;32mreturn\u001b[0m \u001b[0mfunc\u001b[0m\u001b[0;34m(\u001b[0m\u001b[0;34m*\u001b[0m\u001b[0margs\u001b[0m\u001b[0;34m,\u001b[0m \u001b[0;34m**\u001b[0m\u001b[0mkwargs\u001b[0m\u001b[0;34m)\u001b[0m\u001b[0;34m\u001b[0m\u001b[0;34m\u001b[0m\u001b[0m\n\u001b[0m\u001b[1;32m    332\u001b[0m \u001b[0;34m\u001b[0m\u001b[0m\n\u001b[1;32m    333\u001b[0m         \u001b[0;31m# error: \"Callable[[VarArg(Any), KwArg(Any)], Any]\" has no\u001b[0m\u001b[0;34m\u001b[0m\u001b[0;34m\u001b[0m\u001b[0m\n",
            "\u001b[0;32m/usr/local/lib/python3.10/dist-packages/pandas/io/parsers/readers.py\u001b[0m in \u001b[0;36mread_csv\u001b[0;34m(filepath_or_buffer, sep, delimiter, header, names, index_col, usecols, squeeze, prefix, mangle_dupe_cols, dtype, engine, converters, true_values, false_values, skipinitialspace, skiprows, skipfooter, nrows, na_values, keep_default_na, na_filter, verbose, skip_blank_lines, parse_dates, infer_datetime_format, keep_date_col, date_parser, dayfirst, cache_dates, iterator, chunksize, compression, thousands, decimal, lineterminator, quotechar, quoting, doublequote, escapechar, comment, encoding, encoding_errors, dialect, error_bad_lines, warn_bad_lines, on_bad_lines, delim_whitespace, low_memory, memory_map, float_precision, storage_options)\u001b[0m\n\u001b[1;32m    948\u001b[0m     \u001b[0mkwds\u001b[0m\u001b[0;34m.\u001b[0m\u001b[0mupdate\u001b[0m\u001b[0;34m(\u001b[0m\u001b[0mkwds_defaults\u001b[0m\u001b[0;34m)\u001b[0m\u001b[0;34m\u001b[0m\u001b[0;34m\u001b[0m\u001b[0m\n\u001b[1;32m    949\u001b[0m \u001b[0;34m\u001b[0m\u001b[0m\n\u001b[0;32m--> 950\u001b[0;31m     \u001b[0;32mreturn\u001b[0m \u001b[0m_read\u001b[0m\u001b[0;34m(\u001b[0m\u001b[0mfilepath_or_buffer\u001b[0m\u001b[0;34m,\u001b[0m \u001b[0mkwds\u001b[0m\u001b[0;34m)\u001b[0m\u001b[0;34m\u001b[0m\u001b[0;34m\u001b[0m\u001b[0m\n\u001b[0m\u001b[1;32m    951\u001b[0m \u001b[0;34m\u001b[0m\u001b[0m\n\u001b[1;32m    952\u001b[0m \u001b[0;34m\u001b[0m\u001b[0m\n",
            "\u001b[0;32m/usr/local/lib/python3.10/dist-packages/pandas/io/parsers/readers.py\u001b[0m in \u001b[0;36m_read\u001b[0;34m(filepath_or_buffer, kwds)\u001b[0m\n\u001b[1;32m    603\u001b[0m \u001b[0;34m\u001b[0m\u001b[0m\n\u001b[1;32m    604\u001b[0m     \u001b[0;31m# Create the parser.\u001b[0m\u001b[0;34m\u001b[0m\u001b[0;34m\u001b[0m\u001b[0m\n\u001b[0;32m--> 605\u001b[0;31m     \u001b[0mparser\u001b[0m \u001b[0;34m=\u001b[0m \u001b[0mTextFileReader\u001b[0m\u001b[0;34m(\u001b[0m\u001b[0mfilepath_or_buffer\u001b[0m\u001b[0;34m,\u001b[0m \u001b[0;34m**\u001b[0m\u001b[0mkwds\u001b[0m\u001b[0;34m)\u001b[0m\u001b[0;34m\u001b[0m\u001b[0;34m\u001b[0m\u001b[0m\n\u001b[0m\u001b[1;32m    606\u001b[0m \u001b[0;34m\u001b[0m\u001b[0m\n\u001b[1;32m    607\u001b[0m     \u001b[0;32mif\u001b[0m \u001b[0mchunksize\u001b[0m \u001b[0;32mor\u001b[0m \u001b[0miterator\u001b[0m\u001b[0;34m:\u001b[0m\u001b[0;34m\u001b[0m\u001b[0;34m\u001b[0m\u001b[0m\n",
            "\u001b[0;32m/usr/local/lib/python3.10/dist-packages/pandas/io/parsers/readers.py\u001b[0m in \u001b[0;36m__init__\u001b[0;34m(self, f, engine, **kwds)\u001b[0m\n\u001b[1;32m   1440\u001b[0m \u001b[0;34m\u001b[0m\u001b[0m\n\u001b[1;32m   1441\u001b[0m         \u001b[0mself\u001b[0m\u001b[0;34m.\u001b[0m\u001b[0mhandles\u001b[0m\u001b[0;34m:\u001b[0m \u001b[0mIOHandles\u001b[0m \u001b[0;34m|\u001b[0m \u001b[0;32mNone\u001b[0m \u001b[0;34m=\u001b[0m \u001b[0;32mNone\u001b[0m\u001b[0;34m\u001b[0m\u001b[0;34m\u001b[0m\u001b[0m\n\u001b[0;32m-> 1442\u001b[0;31m         \u001b[0mself\u001b[0m\u001b[0;34m.\u001b[0m\u001b[0m_engine\u001b[0m \u001b[0;34m=\u001b[0m \u001b[0mself\u001b[0m\u001b[0;34m.\u001b[0m\u001b[0m_make_engine\u001b[0m\u001b[0;34m(\u001b[0m\u001b[0mf\u001b[0m\u001b[0;34m,\u001b[0m \u001b[0mself\u001b[0m\u001b[0;34m.\u001b[0m\u001b[0mengine\u001b[0m\u001b[0;34m)\u001b[0m\u001b[0;34m\u001b[0m\u001b[0;34m\u001b[0m\u001b[0m\n\u001b[0m\u001b[1;32m   1443\u001b[0m \u001b[0;34m\u001b[0m\u001b[0m\n\u001b[1;32m   1444\u001b[0m     \u001b[0;32mdef\u001b[0m \u001b[0mclose\u001b[0m\u001b[0;34m(\u001b[0m\u001b[0mself\u001b[0m\u001b[0;34m)\u001b[0m \u001b[0;34m->\u001b[0m \u001b[0;32mNone\u001b[0m\u001b[0;34m:\u001b[0m\u001b[0;34m\u001b[0m\u001b[0;34m\u001b[0m\u001b[0m\n",
            "\u001b[0;32m/usr/local/lib/python3.10/dist-packages/pandas/io/parsers/readers.py\u001b[0m in \u001b[0;36m_make_engine\u001b[0;34m(self, f, engine)\u001b[0m\n\u001b[1;32m   1733\u001b[0m                 \u001b[0;32mif\u001b[0m \u001b[0;34m\"b\"\u001b[0m \u001b[0;32mnot\u001b[0m \u001b[0;32min\u001b[0m \u001b[0mmode\u001b[0m\u001b[0;34m:\u001b[0m\u001b[0;34m\u001b[0m\u001b[0;34m\u001b[0m\u001b[0m\n\u001b[1;32m   1734\u001b[0m                     \u001b[0mmode\u001b[0m \u001b[0;34m+=\u001b[0m \u001b[0;34m\"b\"\u001b[0m\u001b[0;34m\u001b[0m\u001b[0;34m\u001b[0m\u001b[0m\n\u001b[0;32m-> 1735\u001b[0;31m             self.handles = get_handle(\n\u001b[0m\u001b[1;32m   1736\u001b[0m                 \u001b[0mf\u001b[0m\u001b[0;34m,\u001b[0m\u001b[0;34m\u001b[0m\u001b[0;34m\u001b[0m\u001b[0m\n\u001b[1;32m   1737\u001b[0m                 \u001b[0mmode\u001b[0m\u001b[0;34m,\u001b[0m\u001b[0;34m\u001b[0m\u001b[0;34m\u001b[0m\u001b[0m\n",
            "\u001b[0;32m/usr/local/lib/python3.10/dist-packages/pandas/io/common.py\u001b[0m in \u001b[0;36mget_handle\u001b[0;34m(path_or_buf, mode, encoding, compression, memory_map, is_text, errors, storage_options)\u001b[0m\n\u001b[1;32m    854\u001b[0m         \u001b[0;32mif\u001b[0m \u001b[0mioargs\u001b[0m\u001b[0;34m.\u001b[0m\u001b[0mencoding\u001b[0m \u001b[0;32mand\u001b[0m \u001b[0;34m\"b\"\u001b[0m \u001b[0;32mnot\u001b[0m \u001b[0;32min\u001b[0m \u001b[0mioargs\u001b[0m\u001b[0;34m.\u001b[0m\u001b[0mmode\u001b[0m\u001b[0;34m:\u001b[0m\u001b[0;34m\u001b[0m\u001b[0;34m\u001b[0m\u001b[0m\n\u001b[1;32m    855\u001b[0m             \u001b[0;31m# Encoding\u001b[0m\u001b[0;34m\u001b[0m\u001b[0;34m\u001b[0m\u001b[0m\n\u001b[0;32m--> 856\u001b[0;31m             handle = open(\n\u001b[0m\u001b[1;32m    857\u001b[0m                 \u001b[0mhandle\u001b[0m\u001b[0;34m,\u001b[0m\u001b[0;34m\u001b[0m\u001b[0;34m\u001b[0m\u001b[0m\n\u001b[1;32m    858\u001b[0m                 \u001b[0mioargs\u001b[0m\u001b[0;34m.\u001b[0m\u001b[0mmode\u001b[0m\u001b[0;34m,\u001b[0m\u001b[0;34m\u001b[0m\u001b[0;34m\u001b[0m\u001b[0m\n",
            "\u001b[0;31mFileNotFoundError\u001b[0m: [Errno 2] No such file or directory: 'superheated_vapor_properties.csv'"
          ]
        }
      ]
    },
    {
      "cell_type": "markdown",
      "source": [
        "###Display the shape of data frame\n"
      ],
      "metadata": {
        "id": "Zp8F3rk2cNxy"
      }
    },
    {
      "cell_type": "code",
      "source": [
        "pd.df.shape"
      ],
      "metadata": {
        "id": "v3Q8kQkucgK0",
        "outputId": "2a72ba19-5c56-4869-8878-65aa00d6e4a5",
        "colab": {
          "base_uri": "https://localhost:8080/",
          "height": 297
        }
      },
      "execution_count": null,
      "outputs": [
        {
          "output_type": "error",
          "ename": "AttributeError",
          "evalue": "ignored",
          "traceback": [
            "\u001b[0;31m---------------------------------------------------------------------------\u001b[0m",
            "\u001b[0;31mAttributeError\u001b[0m                            Traceback (most recent call last)",
            "\u001b[0;32m<ipython-input-93-6c37aaa0d44f>\u001b[0m in \u001b[0;36m<cell line: 1>\u001b[0;34m()\u001b[0m\n\u001b[0;32m----> 1\u001b[0;31m \u001b[0mpd\u001b[0m\u001b[0;34m.\u001b[0m\u001b[0mdf\u001b[0m\u001b[0;34m.\u001b[0m\u001b[0mshape\u001b[0m\u001b[0;34m\u001b[0m\u001b[0;34m\u001b[0m\u001b[0m\n\u001b[0m",
            "\u001b[0;32m/usr/local/lib/python3.10/dist-packages/pandas/__init__.py\u001b[0m in \u001b[0;36m__getattr__\u001b[0;34m(name)\u001b[0m\n\u001b[1;32m    262\u001b[0m         \u001b[0;32mreturn\u001b[0m \u001b[0m_SparseArray\u001b[0m\u001b[0;34m\u001b[0m\u001b[0;34m\u001b[0m\u001b[0m\n\u001b[1;32m    263\u001b[0m \u001b[0;34m\u001b[0m\u001b[0m\n\u001b[0;32m--> 264\u001b[0;31m     \u001b[0;32mraise\u001b[0m \u001b[0mAttributeError\u001b[0m\u001b[0;34m(\u001b[0m\u001b[0;34mf\"module 'pandas' has no attribute '{name}'\"\u001b[0m\u001b[0;34m)\u001b[0m\u001b[0;34m\u001b[0m\u001b[0;34m\u001b[0m\u001b[0m\n\u001b[0m\u001b[1;32m    265\u001b[0m \u001b[0;34m\u001b[0m\u001b[0m\n\u001b[1;32m    266\u001b[0m \u001b[0;34m\u001b[0m\u001b[0m\n",
            "\u001b[0;31mAttributeError\u001b[0m: module 'pandas' has no attribute 'df'"
          ]
        }
      ]
    },
    {
      "cell_type": "markdown",
      "source": [
        "###Return an array containing names of all the columns"
      ],
      "metadata": {
        "id": "w49cp-8zcgd2"
      }
    },
    {
      "cell_type": "code",
      "source": [],
      "metadata": {
        "id": "fz4HRb3JcsZp"
      },
      "execution_count": null,
      "outputs": []
    },
    {
      "cell_type": "markdown",
      "source": [
        "###Display the number of null values in each column of the dataframe``\n",
        "\n"
      ],
      "metadata": {
        "id": "YkTH9tRWcrH-"
      }
    },
    {
      "cell_type": "code",
      "source": [
        "#your code here"
      ],
      "metadata": {
        "id": "GK9-PJPxc3Ot"
      },
      "execution_count": null,
      "outputs": []
    },
    {
      "cell_type": "markdown",
      "source": [
        "###Create a column which contains the Pressure and Property columns, seperated with 'at' (For eg. V at 1, H at 101.325). Using this print the following:\n",
        "- Enthalpy at 75 kPa and 573 K\n",
        "- Entropy at 493 K and 250 kPa\n",
        "\n"
      ],
      "metadata": {
        "id": "Av-lcft2c3mx"
      }
    },
    {
      "cell_type": "code",
      "source": [
        "df['Property at Pressure']=df['Property'] + \" at \" + df['Pressure'].astype(str)\n",
        "idx1=df[df['Property at Pressure']=='V at 10.0'].index\n",
        "df['75'].loc[idx1].item()"
      ],
      "metadata": {
        "id": "B2AihQj_c32C",
        "colab": {
          "base_uri": "https://localhost:8080/"
        },
        "outputId": "6b67f33c-8627-4fe0-f3f8-f86b0f12a35a"
      },
      "execution_count": null,
      "outputs": [
        {
          "output_type": "execute_result",
          "data": {
            "text/plain": [
              "16030.0"
            ]
          },
          "metadata": {},
          "execution_count": 10
        }
      ]
    },
    {
      "cell_type": "markdown",
      "source": [
        "###Find out the column with the highest number of missing values"
      ],
      "metadata": {
        "id": "GpLtXYRLc4Ho"
      }
    },
    {
      "cell_type": "code",
      "source": [
        "#your code here"
      ],
      "metadata": {
        "id": "q80Grgeyc4Xn"
      },
      "execution_count": null,
      "outputs": []
    },
    {
      "cell_type": "markdown",
      "source": [
        "###What is the average enthalpy of Sat. Liq. at all different pressures in the dataset ?"
      ],
      "metadata": {
        "id": "74NVHTTac4nv"
      }
    },
    {
      "cell_type": "code",
      "source": [
        "print(df['Liq_Sat'].iloc[2::4].mean())"
      ],
      "metadata": {
        "id": "g3mByhBDdpVr",
        "colab": {
          "base_uri": "https://localhost:8080/"
        },
        "outputId": "afe4042b-7870-4323-d239-973506267f05"
      },
      "execution_count": null,
      "outputs": [
        {
          "output_type": "stream",
          "name": "stdout",
          "text": [
            "936.9707720588235\n"
          ]
        }
      ]
    },
    {
      "cell_type": "markdown",
      "source": [
        "###Separate out the V,U,H,S data from the dataset into V_data, U_data, H_data, S_data"
      ],
      "metadata": {
        "id": "uS-SuqU8dpxg"
      }
    },
    {
      "cell_type": "code",
      "source": [
        "#your code here"
      ],
      "metadata": {
        "id": "Sg3V9Toyd1Av"
      },
      "execution_count": null,
      "outputs": []
    },
    {
      "cell_type": "markdown",
      "source": [
        "#Section 3: PLotting the PLOTS"
      ],
      "metadata": {
        "id": "Ghkj0-0-d1W7"
      }
    },
    {
      "cell_type": "markdown",
      "source": [
        "###Plot the properties (specific volume, specific internal energy, specific enthalpy, specific entropy) vs Pressure for saturated liquid.\n",
        "\n",
        "Note:\n",
        "- Try using the subplot feature of matplotlib(Explore it!!)\n",
        "- Provide appropriate title, labels, markersize and other parameters to the plot"
      ],
      "metadata": {
        "id": "ka0qrDcZeAL6"
      }
    },
    {
      "cell_type": "code",
      "source": [
        "#your code here"
      ],
      "metadata": {
        "id": "XbKdm-cUePKA"
      },
      "execution_count": null,
      "outputs": []
    },
    {
      "cell_type": "markdown",
      "source": [
        "###Plot the specific volume of saturated liquid between 300 kPa and 1500 kPa"
      ],
      "metadata": {
        "id": "SCLRji6TeQgh"
      }
    },
    {
      "cell_type": "code",
      "source": [
        "#your code here"
      ],
      "metadata": {
        "id": "u6DyyI7MeYgE"
      },
      "execution_count": null,
      "outputs": []
    },
    {
      "cell_type": "markdown",
      "source": [
        "#Linear Regression\n",
        "You're given a 100 data points generated from the function\n",
        "$y=mx+c$. Some noise is added to the y values.\n",
        "\n",
        "**Task:** Estimate the values of m and c using linear regression. Write a suitable cost function and update the parameters."
      ],
      "metadata": {
        "id": "6N_8T4KnfnOG"
      }
    },
    {
      "cell_type": "code",
      "source": [
        " # Generation of data points\n",
        "x = np.random.rand(100)*100\n",
        "y = -4*x+15\n",
        "y = y+np.random.randn(100)*30\n",
        "plt.scatter(x,y)"
      ],
      "metadata": {
        "id": "qK0CKt8WfuO9"
      },
      "execution_count": null,
      "outputs": []
    },
    {
      "cell_type": "code",
      "source": [
        "# Initialisng parameters m and c such that the best fit line is given by y = m*x+c\n",
        "\n",
        "#Cost function to be minimised\n",
        "\n",
        "#Function for updating parameter\n"
      ],
      "metadata": {
        "id": "0lyjPEfmiC-e"
      },
      "execution_count": null,
      "outputs": []
    },
    {
      "cell_type": "markdown",
      "source": [
        "Run the model"
      ],
      "metadata": {
        "id": "JPy839WUiOvz"
      }
    },
    {
      "cell_type": "code",
      "source": [
        "# define number of iterations for minimising cost function\n",
        "\n",
        "# define the learning rate #\n",
        "\n",
        "# run the model"
      ],
      "metadata": {
        "id": "sf8s00SUiYhN"
      },
      "execution_count": null,
      "outputs": []
    },
    {
      "cell_type": "code",
      "source": [
        "print(m,c)  # value should be close to (-4,15)"
      ],
      "metadata": {
        "id": "_g7W3mloilGn"
      },
      "execution_count": null,
      "outputs": []
    }
  ]
}