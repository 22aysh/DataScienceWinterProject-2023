{
  "cells": [
    {
      "cell_type": "markdown",
      "metadata": {
        "id": "lWlRDOHY1CIw"
      },
      "source": [
        "# Logistic Regression\n",
        "\n",
        "![Logistic Regression](https://drive.google.com/uc?export=view&id=1_zRhqUmMdznHJNGWQuH050wvr-5n_2WS)\n",
        "\n",
        "**[Click Here](https://youtu.be/l8VEth6leXA) for the YouTube Video.**\n",
        "\n",
        "In statistics logistic regression is used to model the probability of a certain class or event. I will be focusing more on the basics and implementation of the model, and not go too deep into the math part in this post.\n",
        "\n",
        "Logistic regression is similar to linear regression because both of these involve estimating the values of parameters used in the prediction equation based on the given training data. Linear regression predicts the value of some continuous, dependent variable. Whereas logistic regression predicts the probability of an event or class that is dependent on other factors. Thus the output of logistic regression always lies between 0 and 1. Because of this property it is commonly used for classification purpose."
      ]
    },
    {
      "cell_type": "markdown",
      "metadata": {
        "id": "tkKuz_oeyuTI"
      },
      "source": [
        "\n",
        "## Logistic Model\n",
        "Consider a model with features *x<sub>1</sub>, x<sub>2</sub>, x<sub>3</sub> … x<sub>n</sub>*. Let the binary output be denoted by *Y*, that can take the values 0 or 1.  \n",
        "Let *p* be the probability of *Y = 1*, we can denote it as *p = P(Y=1)*.  \n",
        "The mathematical relationship between these variables can be denoted as:  \n",
        "\n",
        "$$ ln(\\frac{p}{1-p}) = b_0 + b_1x_1 + b_2x_2 + b_3x_3 ... b_nx_n $$\n",
        "\n",
        "Here the term $\\frac{p}{1-p}$ is known as the *odds* and denotes the likelihood of the event taking place. Thus $ln(\\frac{p}{1-p})$ is known as the *log odds* and is simply used to map the probabilty that lies between 0 and 1 to a range between $(-\\infty, +\\infty)$. The terms $b_0, b_1, b_2 ...$ are parameters (or weights) that we will estimate during training.   \n",
        "\n",
        "So this is just the basic math behind what we are going to do. We are interested in the probability *p* in this equation. So we simplify the equation to obtain the value of p:  \n",
        "1. The log term $ln$ on the LHS can be removed by raising the RHS as a power of $e$:  \n",
        "$$ \\frac{p}{1-p}  = e^{b_0 + b_1x_1 + b_2x_2 + b_3x_3 ... b_nx_n} $$\n",
        "2. Now we can easily simplify to obtain the value of $p$:  \n",
        "$$ p = \\frac{e^{b_0 + b_1x_1 + b_2x_2 + b_3x_3 ... b_nx_n}}{1 + e^{b_0 + b_1x_1 + b_2x_2 + b_3x_3 ... b_nx_n}} $$\n",
        "$$ or $$\n",
        "$$ p = \\frac{1}{1 + e^{-(b_0 + b_1x_1 + b_2x_2 + b_3x_3 ... b_nx_n)}} $$   \n",
        "\n",
        "This actually turns out to be the equation of the *Sigmoid Function* which is widely used in other machine learning applications. The *Sigmoid Function* is given by:\n",
        "$$ S(x) = \\frac{1}{1+e^{-x}} $$\n",
        "\n",
        "Now we will be using the above derived equation to make our predictions. Before that we will train our model to obtain the values of our parameters $b_0, b_1, b_2 ...$ that result in least error. This is where the error or loss function comes in."
      ]
    },
    {
      "cell_type": "markdown",
      "metadata": {
        "id": "J6n-a4xDy5u_"
      },
      "source": [
        "## Loss Function\n",
        "The loss is basically the error in our predicted value. In other words it is a difference between our predicted value and the actual value. We will be using the [L2 Loss Function](https://afteracademy.com/blog/what-are-l1-and-l2-loss-functions) to calculate the error. Theoretically you can use any function to calculate the error. This function can be broken down as:\n",
        "1. Let the actual value be $y_i$. Let the value predicted using our model be denoted as $\\bar{y_i}$. Find the difference between the actual and predicted value.\n",
        "2. Square this difference.\n",
        "3. Find the sum across all the values in training data.\n",
        "$$ L = \\sum_{i = 1}^n(y_i - \\bar{y_i})^2 $$  \n",
        "\n",
        "Now that we have the error, we need to update the values of our parameters to minimize this error. This is where the \"learning\" actually happens, since our model is updating itself based on it's previous output to obtain a more accurate output in the next step. We will be using the *Gradient Descent Algorithm* to estimate our parameters. Another commonly used algorithm is the [Maximum Likelihood Estimation](https://en.wikipedia.org/wiki/Maximum_likelihood_estimation)."
      ]
    },
    {
      "cell_type": "markdown",
      "metadata": {
        "id": "T_hesTCwy_gi"
      },
      "source": [
        "\n",
        "## The Gradient Descent Algorithm\n",
        "You might know that the partial derivative of a function at it's minimum value is equal to 0. So gradient descent basically uses this concept to estimate the parameters or weights of our model by minimizing the loss function. [Click here](https://www.youtube.com/watch?v=4PHI11lX11I) for a more detailed explanation on how gradient descent works.  \n",
        "For simplicity, for the rest of this tutorial let us assume that our ouptput depends only on a single feature $x$. So we can rewrite our equation as:\n",
        "$$ \\bar{y_i} = p = \\frac{1}{1 + e^{-(b_0 + b_1x_i)}} = \\frac{1}{1 + e^{-b_0 -b_1x_i}} $$  \n",
        "Thus we need to estimate the values of weights $b_0$ and $b_1$ using our given training data.\n",
        "1. Initially let $b_0=0$ and $b_1=0$. Let $L$ be the learning rate. The learning rate controls by how much the values of $b_0$ and $b_1$ are updated at each step in the learning process. Here let $L = 0.001$.\n",
        "2. Calculate the partial derivative with respect to $b_0$ and $b_1$. The value of the partial derivative will tell us how far the loss function is from it's minimum value. It is a measure of how much our weights need to be updated to attain minimum or ideally 0 error. In case you have more than one feature, you need to calculate the partial derivative for each weight $b_0$, $b_1$ ... $b_n$ where $n$ is the number of features. For a detailed explanation on the math behind calculating the partial derivatives, check out [my video.](https://youtu.be/l8VEth6leXA)\n",
        "$$ D_{b_0} = -2 \\sum_{i=1}^n(y_i - \\bar{y_i}) \\times \\bar{y_i} \\times (1 - \\bar{y_i}) $$\n",
        "$$ D_{b_1} = -2 \\sum_{i=1}^n(y_i - \\bar{y_i}) \\times \\bar{y_i} \\times (1 - \\bar{y_i}) \\times x_i $$\n",
        "3. Next we update the values of $b_0$ and $b_1$:\n",
        "$$ b_0 = b_0 - L \\times D_{b_0} $$\n",
        "$$ b_1 = b_1 - L \\times D_{b_1} $$  \n",
        "4. We repeat this process until our loss function is a very small value or ideally reaches 0 (meaning no errors and 100% accuracy). The number of times we repeat this learning process is known as iterations or epochs.\n",
        "\n"
      ]
    },
    {
      "cell_type": "markdown",
      "metadata": {
        "id": "-aUmzO9SzFzo"
      },
      "source": [
        "## Implementing the Model"
      ]
    },
    {
      "cell_type": "code",
      "execution_count": null,
      "metadata": {
        "colab": {
          "base_uri": "https://localhost:8080/",
          "height": 251
        },
        "id": "TNSeN-ZzybHN",
        "outputId": "069c39f5-8468-4778-de7c-3cade551c194"
      },
      "outputs": [
        {
          "data": {
            "text/html": [
              "\n",
              "  <div id=\"df-2d7bf96b-43c4-4069-8f70-f7b114787237\" class=\"colab-df-container\">\n",
              "    <div>\n",
              "<style scoped>\n",
              "    .dataframe tbody tr th:only-of-type {\n",
              "        vertical-align: middle;\n",
              "    }\n",
              "\n",
              "    .dataframe tbody tr th {\n",
              "        vertical-align: top;\n",
              "    }\n",
              "\n",
              "    .dataframe thead th {\n",
              "        text-align: right;\n",
              "    }\n",
              "</style>\n",
              "<table border=\"1\" class=\"dataframe\">\n",
              "  <thead>\n",
              "    <tr style=\"text-align: right;\">\n",
              "      <th></th>\n",
              "      <th>User ID</th>\n",
              "      <th>Gender</th>\n",
              "      <th>Age</th>\n",
              "      <th>EstimatedSalary</th>\n",
              "      <th>Purchased</th>\n",
              "    </tr>\n",
              "  </thead>\n",
              "  <tbody>\n",
              "    <tr>\n",
              "      <th>0</th>\n",
              "      <td>15624510</td>\n",
              "      <td>Male</td>\n",
              "      <td>19</td>\n",
              "      <td>19000</td>\n",
              "      <td>0</td>\n",
              "    </tr>\n",
              "    <tr>\n",
              "      <th>1</th>\n",
              "      <td>15810944</td>\n",
              "      <td>Male</td>\n",
              "      <td>35</td>\n",
              "      <td>20000</td>\n",
              "      <td>0</td>\n",
              "    </tr>\n",
              "    <tr>\n",
              "      <th>2</th>\n",
              "      <td>15668575</td>\n",
              "      <td>Female</td>\n",
              "      <td>26</td>\n",
              "      <td>43000</td>\n",
              "      <td>0</td>\n",
              "    </tr>\n",
              "    <tr>\n",
              "      <th>3</th>\n",
              "      <td>15603246</td>\n",
              "      <td>Female</td>\n",
              "      <td>27</td>\n",
              "      <td>57000</td>\n",
              "      <td>0</td>\n",
              "    </tr>\n",
              "    <tr>\n",
              "      <th>4</th>\n",
              "      <td>15804002</td>\n",
              "      <td>Male</td>\n",
              "      <td>19</td>\n",
              "      <td>76000</td>\n",
              "      <td>0</td>\n",
              "    </tr>\n",
              "  </tbody>\n",
              "</table>\n",
              "</div>\n",
              "    <div class=\"colab-df-buttons\">\n",
              "\n",
              "  <div class=\"colab-df-container\">\n",
              "    <button class=\"colab-df-convert\" onclick=\"convertToInteractive('df-2d7bf96b-43c4-4069-8f70-f7b114787237')\"\n",
              "            title=\"Convert this dataframe to an interactive table.\"\n",
              "            style=\"display:none;\">\n",
              "\n",
              "  <svg xmlns=\"http://www.w3.org/2000/svg\" height=\"24px\" viewBox=\"0 -960 960 960\">\n",
              "    <path d=\"M120-120v-720h720v720H120Zm60-500h600v-160H180v160Zm220 220h160v-160H400v160Zm0 220h160v-160H400v160ZM180-400h160v-160H180v160Zm440 0h160v-160H620v160ZM180-180h160v-160H180v160Zm440 0h160v-160H620v160Z\"/>\n",
              "  </svg>\n",
              "    </button>\n",
              "\n",
              "  <style>\n",
              "    .colab-df-container {\n",
              "      display:flex;\n",
              "      gap: 12px;\n",
              "    }\n",
              "\n",
              "    .colab-df-convert {\n",
              "      background-color: #E8F0FE;\n",
              "      border: none;\n",
              "      border-radius: 50%;\n",
              "      cursor: pointer;\n",
              "      display: none;\n",
              "      fill: #1967D2;\n",
              "      height: 32px;\n",
              "      padding: 0 0 0 0;\n",
              "      width: 32px;\n",
              "    }\n",
              "\n",
              "    .colab-df-convert:hover {\n",
              "      background-color: #E2EBFA;\n",
              "      box-shadow: 0px 1px 2px rgba(60, 64, 67, 0.3), 0px 1px 3px 1px rgba(60, 64, 67, 0.15);\n",
              "      fill: #174EA6;\n",
              "    }\n",
              "\n",
              "    .colab-df-buttons div {\n",
              "      margin-bottom: 4px;\n",
              "    }\n",
              "\n",
              "    [theme=dark] .colab-df-convert {\n",
              "      background-color: #3B4455;\n",
              "      fill: #D2E3FC;\n",
              "    }\n",
              "\n",
              "    [theme=dark] .colab-df-convert:hover {\n",
              "      background-color: #434B5C;\n",
              "      box-shadow: 0px 1px 3px 1px rgba(0, 0, 0, 0.15);\n",
              "      filter: drop-shadow(0px 1px 2px rgba(0, 0, 0, 0.3));\n",
              "      fill: #FFFFFF;\n",
              "    }\n",
              "  </style>\n",
              "\n",
              "    <script>\n",
              "      const buttonEl =\n",
              "        document.querySelector('#df-2d7bf96b-43c4-4069-8f70-f7b114787237 button.colab-df-convert');\n",
              "      buttonEl.style.display =\n",
              "        google.colab.kernel.accessAllowed ? 'block' : 'none';\n",
              "\n",
              "      async function convertToInteractive(key) {\n",
              "        const element = document.querySelector('#df-2d7bf96b-43c4-4069-8f70-f7b114787237');\n",
              "        const dataTable =\n",
              "          await google.colab.kernel.invokeFunction('convertToInteractive',\n",
              "                                                    [key], {});\n",
              "        if (!dataTable) return;\n",
              "\n",
              "        const docLinkHtml = 'Like what you see? Visit the ' +\n",
              "          '<a target=\"_blank\" href=https://colab.research.google.com/notebooks/data_table.ipynb>data table notebook</a>'\n",
              "          + ' to learn more about interactive tables.';\n",
              "        element.innerHTML = '';\n",
              "        dataTable['output_type'] = 'display_data';\n",
              "        await google.colab.output.renderOutput(dataTable, element);\n",
              "        const docLink = document.createElement('div');\n",
              "        docLink.innerHTML = docLinkHtml;\n",
              "        element.appendChild(docLink);\n",
              "      }\n",
              "    </script>\n",
              "  </div>\n",
              "\n",
              "\n",
              "<div id=\"df-e6d9ddb9-9b68-461a-9ac0-f1259ec5eb38\">\n",
              "  <button class=\"colab-df-quickchart\" onclick=\"quickchart('df-e6d9ddb9-9b68-461a-9ac0-f1259ec5eb38')\"\n",
              "            title=\"Suggest charts\"\n",
              "            style=\"display:none;\">\n",
              "\n",
              "<svg xmlns=\"http://www.w3.org/2000/svg\" height=\"24px\"viewBox=\"0 0 24 24\"\n",
              "     width=\"24px\">\n",
              "    <g>\n",
              "        <path d=\"M19 3H5c-1.1 0-2 .9-2 2v14c0 1.1.9 2 2 2h14c1.1 0 2-.9 2-2V5c0-1.1-.9-2-2-2zM9 17H7v-7h2v7zm4 0h-2V7h2v10zm4 0h-2v-4h2v4z\"/>\n",
              "    </g>\n",
              "</svg>\n",
              "  </button>\n",
              "\n",
              "<style>\n",
              "  .colab-df-quickchart {\n",
              "      --bg-color: #E8F0FE;\n",
              "      --fill-color: #1967D2;\n",
              "      --hover-bg-color: #E2EBFA;\n",
              "      --hover-fill-color: #174EA6;\n",
              "      --disabled-fill-color: #AAA;\n",
              "      --disabled-bg-color: #DDD;\n",
              "  }\n",
              "\n",
              "  [theme=dark] .colab-df-quickchart {\n",
              "      --bg-color: #3B4455;\n",
              "      --fill-color: #D2E3FC;\n",
              "      --hover-bg-color: #434B5C;\n",
              "      --hover-fill-color: #FFFFFF;\n",
              "      --disabled-bg-color: #3B4455;\n",
              "      --disabled-fill-color: #666;\n",
              "  }\n",
              "\n",
              "  .colab-df-quickchart {\n",
              "    background-color: var(--bg-color);\n",
              "    border: none;\n",
              "    border-radius: 50%;\n",
              "    cursor: pointer;\n",
              "    display: none;\n",
              "    fill: var(--fill-color);\n",
              "    height: 32px;\n",
              "    padding: 0;\n",
              "    width: 32px;\n",
              "  }\n",
              "\n",
              "  .colab-df-quickchart:hover {\n",
              "    background-color: var(--hover-bg-color);\n",
              "    box-shadow: 0 1px 2px rgba(60, 64, 67, 0.3), 0 1px 3px 1px rgba(60, 64, 67, 0.15);\n",
              "    fill: var(--button-hover-fill-color);\n",
              "  }\n",
              "\n",
              "  .colab-df-quickchart-complete:disabled,\n",
              "  .colab-df-quickchart-complete:disabled:hover {\n",
              "    background-color: var(--disabled-bg-color);\n",
              "    fill: var(--disabled-fill-color);\n",
              "    box-shadow: none;\n",
              "  }\n",
              "\n",
              "  .colab-df-spinner {\n",
              "    border: 2px solid var(--fill-color);\n",
              "    border-color: transparent;\n",
              "    border-bottom-color: var(--fill-color);\n",
              "    animation:\n",
              "      spin 1s steps(1) infinite;\n",
              "  }\n",
              "\n",
              "  @keyframes spin {\n",
              "    0% {\n",
              "      border-color: transparent;\n",
              "      border-bottom-color: var(--fill-color);\n",
              "      border-left-color: var(--fill-color);\n",
              "    }\n",
              "    20% {\n",
              "      border-color: transparent;\n",
              "      border-left-color: var(--fill-color);\n",
              "      border-top-color: var(--fill-color);\n",
              "    }\n",
              "    30% {\n",
              "      border-color: transparent;\n",
              "      border-left-color: var(--fill-color);\n",
              "      border-top-color: var(--fill-color);\n",
              "      border-right-color: var(--fill-color);\n",
              "    }\n",
              "    40% {\n",
              "      border-color: transparent;\n",
              "      border-right-color: var(--fill-color);\n",
              "      border-top-color: var(--fill-color);\n",
              "    }\n",
              "    60% {\n",
              "      border-color: transparent;\n",
              "      border-right-color: var(--fill-color);\n",
              "    }\n",
              "    80% {\n",
              "      border-color: transparent;\n",
              "      border-right-color: var(--fill-color);\n",
              "      border-bottom-color: var(--fill-color);\n",
              "    }\n",
              "    90% {\n",
              "      border-color: transparent;\n",
              "      border-bottom-color: var(--fill-color);\n",
              "    }\n",
              "  }\n",
              "</style>\n",
              "\n",
              "  <script>\n",
              "    async function quickchart(key) {\n",
              "      const quickchartButtonEl =\n",
              "        document.querySelector('#' + key + ' button');\n",
              "      quickchartButtonEl.disabled = true;  // To prevent multiple clicks.\n",
              "      quickchartButtonEl.classList.add('colab-df-spinner');\n",
              "      try {\n",
              "        const charts = await google.colab.kernel.invokeFunction(\n",
              "            'suggestCharts', [key], {});\n",
              "      } catch (error) {\n",
              "        console.error('Error during call to suggestCharts:', error);\n",
              "      }\n",
              "      quickchartButtonEl.classList.remove('colab-df-spinner');\n",
              "      quickchartButtonEl.classList.add('colab-df-quickchart-complete');\n",
              "    }\n",
              "    (() => {\n",
              "      let quickchartButtonEl =\n",
              "        document.querySelector('#df-e6d9ddb9-9b68-461a-9ac0-f1259ec5eb38 button');\n",
              "      quickchartButtonEl.style.display =\n",
              "        google.colab.kernel.accessAllowed ? 'block' : 'none';\n",
              "    })();\n",
              "  </script>\n",
              "</div>\n",
              "\n",
              "    </div>\n",
              "  </div>\n"
            ],
            "text/plain": [
              "    User ID  Gender  Age  EstimatedSalary  Purchased\n",
              "0  15624510    Male   19            19000          0\n",
              "1  15810944    Male   35            20000          0\n",
              "2  15668575  Female   26            43000          0\n",
              "3  15603246  Female   27            57000          0\n",
              "4  15804002    Male   19            76000          0"
            ]
          },
          "execution_count": 1,
          "metadata": {},
          "output_type": "execute_result"
        }
      ],
      "source": [
        "# Importing libraries\n",
        "import numpy as np\n",
        "import pandas as pd\n",
        "import matplotlib.pyplot as plt\n",
        "from sklearn.model_selection import train_test_split\n",
        "from math import exp\n",
        "plt.rcParams[\"figure.figsize\"] = (10, 6)\n",
        "# Load the data\n",
        "data = pd.read_csv(\"/content/Social_Network_Ads.csv\")\n",
        "data.head()"
      ]
    },
    {
      "cell_type": "code",
      "execution_count": null,
      "metadata": {
        "colab": {
          "base_uri": "https://localhost:8080/",
          "height": 522
        },
        "id": "b3R547WLzqEP",
        "outputId": "abd609ff-fb40-4656-81aa-d6ea91660fa0"
      },
      "outputs": [
        {
          "data": {
            "image/png": "[encoded data removed]",
            "text/plain": [
              "<Figure size 1000x600 with 1 Axes>"
            ]
          },
          "metadata": {},
          "output_type": "display_data"
        }
      ],
      "source": [
        "# Visualizing the dataset\n",
        "plt.scatter(data['Age'], data['Purchased'])\n",
        "plt.show()\n",
        "\n",
        "# Divide the data to training set and test set\n",
        "X_train, X_test, y_train, y_test = train_test_split(data['Age'], data['Purchased'], test_size=0.30)"
      ]
    },
    {
      "cell_type": "code",
      "execution_count": null,
      "metadata": {
        "id": "T_x2wiimzzQg"
      },
      "outputs": [],
      "source": [
        "# Creating the logistic regression model\n",
        "\n",
        "# Helper function to normalize data\n",
        "def normalize(X):\n",
        "    return X - X.mean()\n",
        "\n",
        "# Method to make predictions\n",
        "def predict(X, b0, b1):\n",
        "    return np.array([1 / (1 + exp(-1*b0 + -1*b1*x)) for x in X])\n",
        "\n",
        "# Method to train the model\n",
        "def logistic_regression(X, Y):\n",
        "\n",
        "    X = normalize(X)\n",
        "\n",
        "    # Initializing variables\n",
        "    b0 = 0\n",
        "    b1 = 0\n",
        "    L = 0.001\n",
        "    epochs = 400\n",
        "\n",
        "    for epoch in range(epochs):\n",
        "        y_pred = predict(X, b0, b1)\n",
        "        D_b0 = -2 * sum((Y - y_pred) * y_pred * (1 - y_pred))  # Derivative of loss wrt b0\n",
        "        D_b1 = -2 * sum(X * (Y - y_pred) * y_pred * (1 - y_pred))  # Derivative of loss wrt b1\n",
        "        b0 = b0 - L * D_b0\n",
        "        b1 = b1 - L * D_b1\n",
        "\n",
        "    return b0, b1"
      ]
    },
    {
      "cell_type": "code",
      "execution_count": null,
      "metadata": {
        "colab": {
          "base_uri": "https://localhost:8080/",
          "height": 539
        },
        "id": "CibVQeLC0WyX",
        "outputId": "d0cfa719-d232-407b-96f4-8b3f3d26193c"
      },
      "outputs": [
        {
          "data": {
            "image/png": "[encoded data removed]",
            "text/plain": [
              "<Figure size 1000x600 with 1 Axes>"
            ]
          },
          "metadata": {},
          "output_type": "display_data"
        },
        {
          "name": "stdout",
          "output_type": "stream",
          "text": [
            "Accuracy = 0.8625\n"
          ]
        }
      ],
      "source": [
        "# Training the model\n",
        "b0, b1 = logistic_regression(X_train, y_train)\n",
        "\n",
        "# Making predictions\n",
        "# X_test = X_test.sort_values()  # Sorting values is optional only to see the line graph\n",
        "X_test_norm = normalize(X_test)\n",
        "y_pred = predict(X_test_norm, b0, b1)\n",
        "y_pred = [1 if p >= 0.5 else 0 for p in y_pred]\n",
        "\n",
        "plt.clf()\n",
        "plt.scatter(X_test, y_test)\n",
        "plt.scatter(X_test, y_pred, c=\"red\")\n",
        "# plt.plot(X_test, y_pred, c=\"red\", linestyle='-', marker='o') # Only if values are sorted\n",
        "plt.show()\n",
        "\n",
        "# The accuracy\n",
        "accuracy = 0\n",
        "for i in range(len(y_pred)):\n",
        "    if y_pred[i] == y_test.iloc[i]:\n",
        "        accuracy += 1\n",
        "print(f\"Accuracy = {accuracy / len(y_pred)}\")"
      ]
    },
    {
      "cell_type": "code",
      "execution_count": null,
      "metadata": {
        "colab": {
          "base_uri": "https://localhost:8080/",
          "height": 574
        },
        "id": "zdSdhARu1BLV",
        "outputId": "f4321d1e-fde0-42bd-8947-dc3839017e4b"
      },
      "outputs": [
        {
          "name": "stderr",
          "output_type": "stream",
          "text": [
            "/usr/local/lib/python3.10/dist-packages/sklearn/utils/validation.py:1143: DataConversionWarning: A column-vector y was passed when a 1d array was expected. Please change the shape of y to (n_samples, ), for example using ravel().\n",
            "  y = column_or_1d(y, warn=True)\n"
          ]
        },
        {
          "data": {
            "image/png": "[encoded data removed]",
            "text/plain": [
              "<Figure size 1000x600 with 1 Axes>"
            ]
          },
          "metadata": {},
          "output_type": "display_data"
        },
        {
          "name": "stdout",
          "output_type": "stream",
          "text": [
            "Accuracy = 0.8625\n"
          ]
        }
      ],
      "source": [
        "# Making predictions using scikit learn\n",
        "from sklearn.linear_model import LogisticRegression\n",
        "\n",
        "# Create an instance and fit the model\n",
        "lr_model = LogisticRegression()\n",
        "lr_model.fit(X_train.values.reshape(-1, 1), y_train.values.reshape(-1, 1))\n",
        "\n",
        "# Making predictions\n",
        "y_pred_sk = lr_model.predict(X_test.values.reshape(-1, 1))\n",
        "plt.clf()\n",
        "plt.scatter(X_test, y_test)\n",
        "plt.scatter(X_test, y_pred_sk, c=\"red\")\n",
        "plt.show()\n",
        "\n",
        "# Accuracy\n",
        "print(f\"Accuracy = {lr_model.score(X_test.values.reshape(-1, 1), y_test.values.reshape(-1, 1))}\")"
      ]
    },
    {
      "cell_type": "code",
      "execution_count": null,
      "metadata": {
        "id": "aZo-UNoiH3iV"
      },
      "outputs": [],
      "source": [
        "import numpy as np\n",
        "import matplotlib.pyplot as plt\n",
        "from collections import Counter\n",
        "points = {\"blue\":[[2,4],[1,3],[2,3],[3,2],[2,1]],\"red\":[[5,6],[4,5],[4,6],[6,6],[5,4]]}\n",
        "new_point = [3,3]\n",
        "class KnearestNeighbors:\n",
        "  def __init__(self,k=3):\n",
        "    self.k = k\n",
        "\n",
        "  def fit(self,points):\n",
        "    self.points = points\n",
        "  def euclidian_distance(p,q):\n",
        "    np.sqrt(np.sum((np.array(p)-np.array(q))**2))\n",
        "\n",
        "  def predict(self, new_point):\n",
        "    distances = []\n",
        "\n",
        "\n",
        "    for category in self.points:\n",
        "            for point in self.points[category]:\n",
        "                distance = self.euclidian_distance(point, new_point)\n",
        "                distances.append([distance, category])\n",
        "\n",
        "    categories = [category[1] for category in sorted(distances)[:self.k]]\n",
        "    result = Counter(categories).most_common(1)[0][0]\n",
        "    return result\n",
        "\n",
        "\n",
        "\n"
      ]
    },
    {
      "cell_type": "code",
      "execution_count": null,
      "metadata": {
        "id": "AqnFoVvWYVkJ"
      },
      "outputs": [],
      "source": [
        "points = {'blue': [[2,4], [1,3], [2,3], [3,2], [2,1]],\n",
        "          'orange': [[5,6], [4,5], [4,6], [6,6], [5,4]]}\n",
        "\n",
        "new_point = [3,3]\n",
        "class K_Nearest_Neighbors:\n",
        "\n",
        "    def __init__(self, k=3):\n",
        "        self.k = k\n",
        "\n",
        "    def fit(self, points):\n",
        "        self.points = points\n",
        "\n",
        "    def euclidean_distance(self, p, q):\n",
        "        np.sqrt(np.sum((np.array(p)-np.array(q))**2))\n",
        "\n",
        "    def predict(self, new_point):\n",
        "        distances = []\n",
        "\n",
        "        for category in self.points:\n",
        "            for point in self.points[category]:\n",
        "                distance = self.euclidean_distance(point, new_point)\n",
        "                distances.append([distance, category])\n",
        "\n",
        "        categories = [category[1] for category in sorted(distances)[:self.k]]\n",
        "        result = Counter(categories).most_common(1)[0][0]\n",
        "        return result"
      ]
    },
    {
      "cell_type": "code",
      "execution_count": null,
      "metadata": {
        "colab": {
          "base_uri": "https://localhost:8080/"
        },
        "id": "8qcPYCR0YjuI",
        "outputId": "f91b2550-330c-4ff7-d20a-38aa8e1450f3"
      },
      "outputs": [
        {
          "name": "stdout",
          "output_type": "stream",
          "text": [
            "blue\n"
          ]
        }
      ],
      "source": [
        "clf = K_Nearest_Neighbors(k=3)\n",
        "clf.fit(points)\n",
        "print(clf.predict(new_point))"
      ]
    },
    {
      "cell_type": "code",
      "execution_count": null,
      "metadata": {
        "colab": {
          "base_uri": "https://localhost:8080/",
          "height": 522
        },
        "id": "SrHZ1AjcXv5x",
        "outputId": "97a1599c-a5c7-4b12-ff54-ca41ed2541c8"
      },
      "outputs": [
        {
          "data": {
            "image/png": "[encoded data removed]",
            "text/plain": [
              "<Figure size 1000x600 with 1 Axes>"
            ]
          },
          "metadata": {},
          "output_type": "display_data"
        }
      ],
      "source": [
        "ax = plt.subplot()\n",
        "ax.grid(True, color='#323232')\n",
        "\n",
        "ax.set_facecolor('black')\n",
        "ax.figure.set_facecolor('#121212')\n",
        "ax.tick_params(axis='x', colors='white')\n",
        "ax.tick_params(axis='y', colors='white')\n",
        "[ax.scatter(point[0], point[1], color='#104DCA', s=60) for point in points['blue']]\n",
        "[ax.scatter(point[0], point[1], color='#EF6C35', s=60) for point in points['orange']]\n",
        "new_class = clf.predict(new_point)\n",
        "color = '#EF6C35' if new_class == 'orange' else '#104DCA'\n",
        "ax.scatter(new_point[0], new_point[1], color=color, marker='*', s=200, zorder=100)\n",
        "[ax.plot([new_point[0], point[0]], [new_point[1], point[1]], color='#104DCA', linestyle='--', linewidth=1) for point in points['blue']]\n",
        "[ax.plot([new_point[0], point[0]], [new_point[1], point[1]], color='#EF6C35', linestyle='--', linewidth=1) for point in points['orange']]\n",
        "\n",
        "plt.show()"
      ]
    },
    {
      "cell_type": "code",
      "execution_count": null,
      "metadata": {
        "colab": {
          "base_uri": "https://localhost:8080/"
        },
        "id": "jyQGtpHmXx2f",
        "outputId": "4d58820c-79df-46ef-8285-be9267a449d0"
      },
      "outputs": [
        {
          "name": "stdout",
          "output_type": "stream",
          "text": [
            "   5.1  3.5  1.4  0.2  Iris-setosa\n",
            "0  4.9  3.0  1.4  0.2  Iris-setosa\n",
            "1  4.7  3.2  1.3  0.2  Iris-setosa\n",
            "2  4.6  3.1  1.5  0.2  Iris-setosa\n",
            "3  5.0  3.6  1.4  0.2  Iris-setosa\n",
            "4  5.4  3.9  1.7  0.4  Iris-setosa\n",
            "\n",
            "\n",
            "With 1 Nearest Neighbour \n",
            "\n",
            "\n",
            "\n",
            "Predicted Class of the datapoint =  Iris-virginica\n",
            "\n",
            "Nearest Neighbour of the datapoints =  [140]\n",
            "\n",
            "\n",
            "With 3 Nearest Neighbours\n",
            "\n",
            "\n",
            "\n",
            "Predicted class of the datapoint =  Iris-virginica\n",
            "\n",
            "Nearest Neighbours of the datapoints =  [140, 138, 119]\n",
            "\n",
            "\n",
            "With 5 Nearest Neighbours\n",
            "\n",
            "\n",
            "\n",
            "Predicted class of the datapoint =  Iris-virginica\n",
            "\n",
            "Nearest Neighbours of the datapoints =  [140, 138, 119, 144, 143]\n"
          ]
        }
      ],
      "source": [
        "import pandas as pd\n",
        "import numpy as np\n",
        "import math\n",
        "import operator\n",
        "\n",
        "\n",
        "#### Start of STEP 1\n",
        "# Importing data\n",
        "data = pd.read_csv('iris.csv')\n",
        "#### End of STEP 1\n",
        "\n",
        "print(data.head(5))\n",
        "\n",
        "# Defining a function which calculates euclidean distance between two data points\n",
        "def euclideanDistance(data1, data2, length):\n",
        "    distance = 0\n",
        "    for x in range(length):\n",
        "        distance += np.square(data1[x] - data2[x])\n",
        "    return np.sqrt(distance)\n",
        "\n",
        "# Defining our KNN model\n",
        "def knn(trainingSet, testInstance, k):\n",
        "\n",
        "    distances = {}\n",
        "    sort = {}\n",
        "\n",
        "    length = testInstance.shape[1]\n",
        "\n",
        "    #### Start of STEP 3\n",
        "    # Calculating euclidean distance between each row of training data and test data\n",
        "    for x in range(len(trainingSet)):\n",
        "\n",
        "        #### Start of STEP 3.1\n",
        "        dist = euclideanDistance(testInstance, trainingSet.iloc[x], length)\n",
        "\n",
        "        distances[x] = dist[0]\n",
        "        #### End of STEP 3.1\n",
        "\n",
        "    #### Start of STEP 3.2\n",
        "    # Sorting them on the basis of distance\n",
        "    sorted_d = sorted(distances.items(), key=operator.itemgetter(1))\n",
        "    #### End of STEP 3.2\n",
        "\n",
        "    neighbors = []\n",
        "\n",
        "    #### Start of STEP 3.3\n",
        "    # Extracting top k neighbors\n",
        "    for x in range(k):\n",
        "        neighbors.append(sorted_d[x][0])\n",
        "    #### End of STEP 3.3\n",
        "    classVotes = {}\n",
        "\n",
        "    #### Start of STEP 3.4\n",
        "    # Calculating the most freq class in the neighbors\n",
        "    for x in range(len(neighbors)):\n",
        "        response = trainingSet.iloc[neighbors[x]][-1]\n",
        "\n",
        "        if response in classVotes:\n",
        "            classVotes[response] += 1\n",
        "        else:\n",
        "            classVotes[response] = 1\n",
        "    #### End of STEP 3.4\n",
        "\n",
        "    #### Start of STEP 3.5\n",
        "    sortedVotes = sorted(classVotes.items(), key=operator.itemgetter(1), reverse=True)\n",
        "    return(sortedVotes[0][0], neighbors)\n",
        "    #### End of STEP 3.5\n",
        "\n",
        "\n",
        "testSet = [[7.2, 3.6, 5.1, 2.5]]\n",
        "test = pd.DataFrame(testSet)\n",
        "\n",
        "#### Start of STEP 2\n",
        "# Setting number of neighbors = 1\n",
        "\n",
        "\n",
        "print('\\n\\nWith 1 Nearest Neighbour \\n\\n')\n",
        "k = 1\n",
        "#### End of STEP 2\n",
        "# Running KNN model\n",
        "result,neigh = knn(data, test, k)\n",
        "\n",
        "# Predicted class\n",
        "print('\\nPredicted Class of the datapoint = ', result)\n",
        "\n",
        "# Nearest neighbor\n",
        "print('\\nNearest Neighbour of the datapoints = ',neigh)\n",
        "\n",
        "\n",
        "print('\\n\\nWith 3 Nearest Neighbours\\n\\n')\n",
        "# Setting number of neighbors = 3\n",
        "k = 3\n",
        "# Running KNN model\n",
        "result,neigh = knn(data, test, k)\n",
        "\n",
        "# Predicted class\n",
        "print('\\nPredicted class of the datapoint = ',result)\n",
        "\n",
        "# Nearest neighbor\n",
        "print('\\nNearest Neighbours of the datapoints = ',neigh)\n",
        "\n",
        "print('\\n\\nWith 5 Nearest Neighbours\\n\\n')\n",
        "# Setting number of neighbors = 3\n",
        "k = 5\n",
        "# Running KNN model\n",
        "result,neigh = knn(data, test, k)\n",
        "\n",
        "# Predicted class\n",
        "print('\\nPredicted class of the datapoint = ',result)\n",
        "\n",
        "# Nearest neighbor\n",
        "print('\\nNearest Neighbours of the datapoints = ',neigh)"
      ]
    },
    {
      "cell_type": "code",
      "execution_count": null,
      "metadata": {
        "colab": {
          "base_uri": "https://localhost:8080/"
        },
        "id": "NaPd2hzfkOtH",
        "outputId": "e28babcb-7a4b-45a4-908f-8baa67a581f1"
      },
      "outputs": [
        {
          "name": "stdout",
          "output_type": "stream",
          "text": [
            "['Iris-virginica']\n"
          ]
        },
        {
          "name": "stderr",
          "output_type": "stream",
          "text": [
            "/usr/local/lib/python3.10/dist-packages/sklearn/base.py:439: UserWarning: X does not have valid feature names, but KNeighborsClassifier was fitted with feature names\n",
            "  warnings.warn(\n"
          ]
        }
      ],
      "source": []
    },
    {
      "cell_type": "code",
      "execution_count": null,
      "metadata": {
        "id": "eDGQQZ6ckiOm"
      },
      "outputs": [],
      "source": []
    },
    {
      "cell_type": "code",
      "execution_count": null,
      "metadata": {
        "colab": {
          "base_uri": "https://localhost:8080/"
        },
        "id": "j50BiHiPlaUl",
        "outputId": "e4c4531f-9bef-4e2a-9071-1e57cb22ac52"
      },
      "outputs": [
        {
          "name": "stdout",
          "output_type": "stream",
          "text": [
            "None\n"
          ]
        }
      ],
      "source": []
    },
    {
      "cell_type": "code",
      "execution_count": null,
      "metadata": {
        "colab": {
          "base_uri": "https://localhost:8080/"
        },
        "id": "Vi6klW4Smh0X",
        "outputId": "e4d10a31-80c3-4f75-d96a-938db9a1be02"
      },
      "outputs": [
        {
          "name": "stdout",
          "output_type": "stream",
          "text": [
            "\n",
            "DataFrame with Updated Last Column Name:\n",
            "     5.1  3.5  1.4  0.2            Name\n",
            "0    4.9  3.0  1.4  0.2     Iris-setosa\n",
            "1    4.7  3.2  1.3  0.2     Iris-setosa\n",
            "2    4.6  3.1  1.5  0.2     Iris-setosa\n",
            "3    5.0  3.6  1.4  0.2     Iris-setosa\n",
            "4    5.4  3.9  1.7  0.4     Iris-setosa\n",
            "..   ...  ...  ...  ...             ...\n",
            "144  6.7  3.0  5.2  2.3  Iris-virginica\n",
            "145  6.3  2.5  5.0  1.9  Iris-virginica\n",
            "146  6.5  3.0  5.2  2.0  Iris-virginica\n",
            "147  6.2  3.4  5.4  2.3  Iris-virginica\n",
            "148  5.9  3.0  5.1  1.8  Iris-virginica\n",
            "\n",
            "[149 rows x 5 columns]\n"
          ]
        }
      ],
      "source": [
        "data= pd.read_csv('iris.csv')\n",
        "current_column_names = data.columns.tolist()\n",
        "\n",
        "# Replace the last column name\n",
        "last_column_index = -1\n",
        "new_last_column_name = 'Name'  # replace this with your desired last column name\n",
        "current_column_names[last_column_index] = new_last_column_name\n",
        "\n",
        "# Update the column names in the DataFrame\n",
        "data.columns = current_column_names\n",
        "\n",
        "# Display the DataFrame with the updated last column name\n",
        "print(\"\\nDataFrame with Updated Last Column Name:\")\n",
        "print(data)\n"
      ]
    },
    {
      "cell_type": "code",
      "execution_count": null,
      "metadata": {
        "colab": {
          "base_uri": "https://localhost:8080/"
        },
        "id": "J9Ui6XLTlbdn",
        "outputId": "6d1ff001-4c29-4b73-efad-d43efcaaa444"
      },
      "outputs": [
        {
          "name": "stdout",
          "output_type": "stream",
          "text": [
            "['Iris-virginica']\n"
          ]
        },
        {
          "name": "stderr",
          "output_type": "stream",
          "text": [
            "/usr/local/lib/python3.10/dist-packages/sklearn/base.py:439: UserWarning: X does not have valid feature names, but KNeighborsClassifier was fitted with feature names\n",
            "  warnings.warn(\n"
          ]
        }
      ],
      "source": [
        "from sklearn.neighbors import KNeighborsClassifier\n",
        "neigh = KNeighborsClassifier(n_neighbors=3)\n",
        "neigh.fit(data.iloc[:,0:4], data['Name'])\n",
        "\n",
        "# Predicted class\n",
        "print(neigh.predict(test))"
      ]
    },
    {
      "cell_type": "code",
      "execution_count": null,
      "metadata": {
        "colab": {
          "base_uri": "https://localhost:8080/"
        },
        "id": "jOJdxohSnJP6",
        "outputId": "98375dc9-89bb-46e9-fdba-19bbc3e421e4"
      },
      "outputs": [
        {
          "name": "stdout",
          "output_type": "stream",
          "text": [
            "[[140 138 119]]\n"
          ]
        },
        {
          "name": "stderr",
          "output_type": "stream",
          "text": [
            "/usr/local/lib/python3.10/dist-packages/sklearn/base.py:439: UserWarning: X does not have valid feature names, but KNeighborsClassifier was fitted with feature names\n",
            "  warnings.warn(\n"
          ]
        }
      ],
      "source": [
        "print(neigh.kneighbors(test)[1])"
      ]
    },
    {
      "cell_type": "code",
      "execution_count": null,
      "metadata": {
        "colab": {
          "base_uri": "https://localhost:8080/"
        },
        "id": "ql2lXaufnZhF",
        "outputId": "bb2ee095-29fb-4c1b-d401-d2e42520ff45"
      },
      "outputs": [
        {
          "name": "stdout",
          "output_type": "stream",
          "text": [
            "    User ID  Gender  Age  EstimatedSalary  Purchased\n",
            "0  15624510    Male   19            19000          0\n",
            "1  15810944    Male   35            20000          0\n",
            "2  15668575  Female   26            43000          0\n",
            "3  15603246  Female   27            57000          0\n",
            "4  15804002    Male   19            76000          0\n"
          ]
        }
      ],
      "source": [
        "\n",
        "import pandas as pd\n",
        "\n",
        "data = pd.read_csv('/content/Social_Network_Ads.csv')\n",
        "print(data.head())"
      ]
    },
    {
      "cell_type": "code",
      "execution_count": null,
      "metadata": {
        "id": "0aAnXyhjQZqA"
      },
      "outputs": [],
      "source": [
        "\n",
        "# gender M and F converted to 0 and 1\n",
        "data['Gender'] = data['Gender'].map({'Male': 1, 'Female': 0})\n",
        "\n",
        "features = data[['Gender', 'Age', 'EstimatedSalary']]\n",
        "target = data['Purchased']"
      ]
    },
    {
      "cell_type": "code",
      "execution_count": null,
      "metadata": {
        "id": "7sSFzAJVQl7_"
      },
      "outputs": [],
      "source": [
        "\n",
        "from sklearn.model_selection import train_test_split\n",
        "X_train, X_test, y_train, y_test = train_test_split(features, target, test_size=0.3, random_state=42)"
      ]
    },
    {
      "cell_type": "code",
      "execution_count": null,
      "metadata": {
        "id": "Dyr2pnl5Qqzt"
      },
      "outputs": [],
      "source": [
        "import numpy as np\n",
        "\n",
        "class LogisticRegressionScratch:\n",
        "    def __init__(self, learning_rate=0.001, num_iterations=10000):\n",
        "        self.learning_rate = learning_rate\n",
        "        self.num_iterations = num_iterations\n",
        "\n",
        "    def fit(self, X, y):\n",
        "        num_samples, num_features = X.shape\n",
        "        self.weights = np.zeros(num_features)\n",
        "        self.bias = 0\n",
        "\n",
        "        for _ in range(self.num_iterations):\n",
        "            model = np.dot(X, self.weights) + self.bias\n",
        "            predictions = 1 / (1 + np.exp(-model))  # sigmoid useage\n",
        "\n",
        "            # gradient\n",
        "            dw = (1 / num_samples) * np.dot(X.T, (predictions - y))\n",
        "            db = (1 / num_samples) * np.sum(predictions - y)\n",
        "\n",
        "            # updating weights\n",
        "            self.weights -= self.learning_rate * dw\n",
        "            self.bias -= self.learning_rate * db\n",
        "\n",
        "    def predict(self, X):\n",
        "        model = np.dot(X, self.weights) + self.bias\n",
        "        predictions = 1 / (1 + np.exp(-model))\n",
        "        return [1 if i > 0.5 else 0 for i in predictions]"
      ]
    },
    {
      "cell_type": "code",
      "execution_count": null,
      "metadata": {
        "id": "kBRg-QvQQtHG"
      },
      "outputs": [],
      "source": [
        "from sklearn.preprocessing import MinMaxScaler, StandardScaler\n",
        "\n",
        "# normalization\n",
        "\n",
        "scaler_minmax = MinMaxScaler()\n",
        "X_train_normalized = scaler_minmax.fit_transform(X_train)\n",
        "X_test_normalized = scaler_minmax.transform(X_test)\n",
        "\n",
        "# standardization\n",
        "\n",
        "scaler_standard = StandardScaler()\n",
        "X_train_standardized = scaler_standard.fit_transform(X_train)\n",
        "X_test_standardized = scaler_standard.transform(X_test)"
      ]
    },
    {
      "cell_type": "code",
      "execution_count": null,
      "metadata": {
        "colab": {
          "base_uri": "https://localhost:8080/"
        },
        "id": "bMWjtuOuQ1IU",
        "outputId": "77f14e58-3411-4dd2-81ad-441f835d7f57"
      },
      "outputs": [
        {
          "name": "stderr",
          "output_type": "stream",
          "text": [
            "<ipython-input-4-f35eb2a7ae4c>:15: RuntimeWarning: overflow encountered in exp\n",
            "  predictions = 1 / (1 + np.exp(-model))  # sigmoid useage\n",
            "<ipython-input-4-f35eb2a7ae4c>:27: RuntimeWarning: overflow encountered in exp\n",
            "  predictions = 1 / (1 + np.exp(-model))\n"
          ]
        },
        {
          "name": "stdout",
          "output_type": "stream",
          "text": [
            "\n",
            "Accuracy with raw data: 0.6083333333333333\n",
            "Accuracy with normalized data: 0.6083333333333333\n",
            "Accuracy with standardized data: 0.8416666666666667\n"
          ]
        }
      ],
      "source": [
        "\n",
        "from sklearn.metrics import accuracy_score\n",
        "\n",
        "def evaluate_model(X_train, X_test, y_train, y_test):\n",
        "    model = LogisticRegressionScratch()\n",
        "    model.fit(X_train, y_train)\n",
        "    predictions = model.predict(X_test)\n",
        "    return accuracy_score(y_test, predictions)\n",
        "\n",
        "#evaluation:\n",
        "accuracy_raw = evaluate_model(X_train, X_test, y_train, y_test)\n",
        "accuracy_normalized = evaluate_model(X_train_normalized, X_test_normalized, y_train, y_test)\n",
        "accuracy_standardized = evaluate_model(X_train_standardized, X_test_standardized, y_train, y_test)\n",
        "\n",
        "print(\"\\nAccuracy with raw data:\", accuracy_raw)\n",
        "print(\"Accuracy with normalized data:\", accuracy_normalized)\n",
        "print(\"Accuracy with standardized data:\", accuracy_standardized)"
      ]
    },
    {
      "cell_type": "code",
      "execution_count": null,
      "metadata": {
        "colab": {
          "base_uri": "https://localhost:8080/"
        },
        "id": "yrGfmr5-Q4Rn",
        "outputId": "eb6a3da0-94e8-40dc-8f83-0c9426a1e6e7"
      },
      "outputs": [
        {
          "name": "stdout",
          "output_type": "stream",
          "text": [
            "Accuracy with degree 2 polynomial: 0.9416666666666667\n"
          ]
        }
      ],
      "source": [
        " #trying to improve accuracy (needed?)\n",
        "from sklearn.linear_model import LogisticRegression\n",
        "from sklearn.preprocessing import PolynomialFeatures\n",
        "from sklearn.pipeline import make_pipeline\n",
        "from sklearn.metrics import accuracy_score\n",
        "\n",
        "def apply_logistic_regression(X_train, X_test, y_train, y_test, degree=1):\n",
        "      model = make_pipeline(PolynomialFeatures(degree), LogisticRegression())\n",
        "      model.fit(X_train, y_train)\n",
        "      predictions = model.predict(X_test)\n",
        "      return accuracy_score(y_test, predictions)\n",
        "\n",
        "accuracy_poly2 = apply_logistic_regression(X_train_standardized, X_test_standardized, y_train, y_test, degree=2)\n",
        "print(\"Accuracy with degree 2 polynomial:\", accuracy_poly2)"
      ]
    },
    {
      "cell_type": "code",
      "execution_count": null,
      "metadata": {
        "id": "A1ijREzJQ4ho"
      },
      "outputs": [],
      "source": [
        "from sklearn.neighbors import KNeighborsClassifier\n",
        "from sklearn.metrics import accuracy_score\n",
        "#from scratch\n",
        "k_values = range(1, 22)\n"
      ]
    },
    {
      "cell_type": "code",
      "execution_count": null,
      "metadata": {
        "colab": {
          "background_save": true
        },
        "id": "CjWH5yBvSg2A"
      },
      "outputs": [],
      "source": []
    }
  ],
  "metadata": {
    "colab": {
      "provenance": []
    },
    "kernelspec": {
      "display_name": "Python 3",
      "name": "python3"
    }
  },
  "nbformat": 4,
  "nbformat_minor": 0
}