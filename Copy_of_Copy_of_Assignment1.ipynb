{
  "nbformat": 4,
  "nbformat_minor": 0,
  "metadata": {
    "colab": {
      "provenance": [],
      "include_colab_link": true
    },
    "kernelspec": {
      "name": "python3",
      "display_name": "Python 3"
    },
    "language_info": {
      "name": "python"
    }
  },
  "cells": [
    {
      "cell_type": "markdown",
      "metadata": {
        "id": "view-in-github",
        "colab_type": "text"
      },
      "source": [
        "<a href=\"https://colab.research.google.com/github/shrimi19/DataScienceWinterProject-2023/blob/main/Copy_of_Copy_of_Assignment1.ipynb\" target=\"_parent\"><img src=\"https://colab.research.google.com/assets/colab-badge.svg\" alt=\"Open In Colab\"/></a>"
      ]
    },
    {
      "cell_type": "markdown",
      "source": [
        "# Week-1 Assignment\n",
        "\n",
        "**Welcome to your first assignment for the SimuTech Winter Project 2022! I hope you are excited to implement and test everything you have learned up until now. There is an interesting set of questions for you to refine your acquired skills as you delve into hands-on coding and deepen your understanding of numpy, pandas, and data visualization libraries.**\n",
        "\n",
        "P.S. You might find use of functions which you have never used before.So feel free to google"
      ],
      "metadata": {
        "id": "UOzd0zRXW5Uv"
      }
    },
    {
      "cell_type": "code",
      "source": [
        "from google.colab import drive\n",
        "drive.mount('/content/drive')"
      ],
      "metadata": {
        "id": "quOk2Txvgp9V",
        "outputId": "c110a5d0-ca82-4d63-9c4d-d19b8983ef9e",
        "colab": {
          "base_uri": "https://localhost:8080/"
        }
      },
      "execution_count": null,
      "outputs": [
        {
          "output_type": "stream",
          "name": "stdout",
          "text": [
            "Mounted at /content/drive\n"
          ]
        }
      ]
    },
    {
      "cell_type": "markdown",
      "source": [
        "# Section0 : Importing Libraries"
      ],
      "metadata": {
        "id": "2XFUXyq9Y9TG"
      }
    },
    {
      "cell_type": "markdown",
      "source": [
        "*Let's begin by importing numpy, pandas and matplotlib.*"
      ],
      "metadata": {
        "id": "D_bzcLusjSO0"
      }
    },
    {
      "cell_type": "code",
      "source": [
        "#your code here\n",
        "import numpy as np\n",
        "import pandas as pd\n",
        "import matplotlib.pyplot as plt"
      ],
      "metadata": {
        "id": "jdwX7bI7aGeY"
      },
      "execution_count": null,
      "outputs": []
    },
    {
      "cell_type": "markdown",
      "source": [
        "# Section1 : Playing with Python and Numpy"
      ],
      "metadata": {
        "id": "LM25mz5ta-Q_"
      }
    },
    {
      "cell_type": "markdown",
      "source": [
        "### Q1. Matrix Multiplication"
      ],
      "metadata": {
        "id": "TcFQVqhAdQw_"
      }
    },
    {
      "cell_type": "markdown",
      "source": [
        "##### (i) Check if matrix multiplication is valid"
      ],
      "metadata": {
        "id": "6Dcai9pys0j8"
      }
    },
    {
      "cell_type": "code",
      "source": [
        "def isValid(A,B):\n",
        "  if( len(A[0]) == len(B)):\n",
        "    print(\"matrix multiplication is valid\")\n",
        "    return 1\n",
        "  else:\n",
        "    print(\"matrix multiplication is not valid\")\n",
        "    return 0\n",
        "\n"
      ],
      "metadata": {
        "id": "0qC4txIss3gG"
      },
      "execution_count": null,
      "outputs": []
    },
    {
      "cell_type": "markdown",
      "source": [
        "##### (ii) Using loops (without using numpy)"
      ],
      "metadata": {
        "id": "OPTfRGlTdXxa"
      }
    },
    {
      "cell_type": "code",
      "source": [
        "def matrix_multiply(A,B):\n",
        "  result = []\n",
        "  if isValid(A,B):\n",
        "    for i in range(len(A)):\n",
        "      fnl_r = []; #row which we'll add to final result one by one through iteration\n",
        "      for j in range(len(B[0])):\n",
        "        mat_mult = 0; #setting value  0  when starting each interation\n",
        "        for k in range(len(B)):\n",
        "            mat_mult += A[i][k] * B[k][j] #multiplication of first matrix row and second matrix column in continuative iteration\n",
        "        fnl_r.append(mat_mult)\n",
        "      result.append(fnl_r)\n",
        "  return result\n"
      ],
      "metadata": {
        "id": "V8F5ETsRct3S"
      },
      "execution_count": null,
      "outputs": []
    },
    {
      "cell_type": "markdown",
      "source": [
        "##### (iii) Using numpy"
      ],
      "metadata": {
        "id": "umUgUTSWdos8"
      }
    },
    {
      "cell_type": "code",
      "source": [
        "def matrix_multiply_2(A,B):\n",
        "  mat_A = np.array(A)\n",
        "  mat_B = np.array(B)\n",
        "  result = mat_A @ mat_B\n",
        "  return result"
      ],
      "metadata": {
        "id": "-tdXlCHrduBP"
      },
      "execution_count": null,
      "outputs": []
    },
    {
      "cell_type": "markdown",
      "source": [
        "##### (iv) Testing your code\n",
        "\n",
        "Run the following cell to check if your functions are working properly.\n",
        "\n",
        "*Expected output:*\n",
        "[ [102 108 114]\n",
        " [246 261 276]\n",
        " [390 414 438]\n",
        " [534 567 600] ]"
      ],
      "metadata": {
        "id": "2nMFnl84edJG"
      }
    },
    {
      "cell_type": "code",
      "source": [
        "A = np.array([\n",
        "    [1, 2, 3],\n",
        "    [4, 5, 6],\n",
        "    [7, 8, 9],\n",
        "    [10, 11, 12]\n",
        "])\n",
        "\n",
        "B = np.array([\n",
        "    [13, 14, 15],\n",
        "    [16, 17, 18],\n",
        "    [19, 20, 21]\n",
        "])\n",
        "\n",
        "if isValid(A,B):\n",
        "  print(f\"Result using loops: {matrix_multiply(A,B)}\")\n",
        "  print(f\"Result using numpy: {matrix_multiply_2(A,B)}\")\n",
        "else:\n",
        "  print(f\"Matrix multiplication is not valid\")"
      ],
      "metadata": {
        "id": "09rX_Cm9ezmq",
        "outputId": "2bd15ea1-42ca-4927-a037-0a222df8ece4",
        "colab": {
          "base_uri": "https://localhost:8080/"
        }
      },
      "execution_count": null,
      "outputs": [
        {
          "output_type": "stream",
          "name": "stdout",
          "text": [
            "matrix multiplication is valid\n",
            "matrix multiplication is valid\n",
            "Result using loops: [[102, 108, 114], [246, 261, 276], [390, 414, 438], [534, 567, 600]]\n",
            "Result using numpy: [[102 108 114]\n",
            " [246 261 276]\n",
            " [390 414 438]\n",
            " [534 567 600]]\n"
          ]
        }
      ]
    },
    {
      "cell_type": "markdown",
      "source": [
        "### Q2. Z-Score Normalisation"
      ],
      "metadata": {
        "id": "5hfP7Ao1fwqV"
      }
    },
    {
      "cell_type": "markdown",
      "source": [
        "Z-score normalization refers to the process of normalizing every value in a dataset such that the mean of all of the values is 0 and the standard deviation is 1.\n",
        "\n",
        "We use the following formula to perform a z-score normalization on every value in a dataset:\n",
        "\n",
        "New value = (x – μ) / σ\n",
        "\n",
        "where:\n",
        "\n",
        "x: Original value\n",
        "\n",
        "μ: Mean of data\n",
        "\n",
        "σ: Standard deviation of data"
      ],
      "metadata": {
        "id": "0e81Xx5Kw_CQ"
      }
    },
    {
      "cell_type": "markdown",
      "source": [
        "##### (i) Without using numpy"
      ],
      "metadata": {
        "id": "GP_MuyUbguSR"
      }
    },
    {
      "cell_type": "code",
      "source": [
        "def mean(x):\n",
        "  mean_of_numbers = sum(x)/len(x)\n",
        "  return mean_of_numbers"
      ],
      "metadata": {
        "id": "0vix8qaaghwP"
      },
      "execution_count": null,
      "outputs": []
    },
    {
      "cell_type": "code",
      "source": [
        "def standard_deviation(x):\n",
        "  mn = mean(x);\n",
        "  sqr_no = [(y- mn)**2 for y in x ]\n",
        "  val = (sum(sqr_no))/(len(x))\n",
        "  result = val** 0.5\n",
        "  return result"
      ],
      "metadata": {
        "id": "j1qabel-g_f5"
      },
      "execution_count": null,
      "outputs": []
    },
    {
      "cell_type": "code",
      "source": [
        "def zscore_normalisation(x):\n",
        "  result = [((z - mean(x))/(standard_deviation(x))) for z in x]\n",
        "  return result"
      ],
      "metadata": {
        "id": "797ewbNqhEpY"
      },
      "execution_count": null,
      "outputs": []
    },
    {
      "cell_type": "markdown",
      "source": [
        "##### (ii) Using numpy\n",
        "\n",
        "Numpy has in_built functions for calculating mean and standard deviation"
      ],
      "metadata": {
        "id": "k8dq1wqRhbUB"
      }
    },
    {
      "cell_type": "code",
      "source": [
        "def zscore_normalisation_2(x):\n",
        "  num_arr = np.array(x)\n",
        "  mean = np.mean(num_arr)\n",
        "  stand_dev = np.std(num_arr)\n",
        "  result = [((z - mean)/(stand_dev)) for z in x]\n",
        "  return result"
      ],
      "metadata": {
        "id": "WjxJTUDihsYg"
      },
      "execution_count": null,
      "outputs": []
    },
    {
      "cell_type": "markdown",
      "source": [
        "##### (iii) Testing your code"
      ],
      "metadata": {
        "id": "glRqKU-_1pue"
      }
    },
    {
      "cell_type": "markdown",
      "source": [
        "Run the following cell to check if your functions are working properly.\n",
        "\n",
        "*Expected Output:* [-1.06753267 -0.99745394 -0.99745394 -0.81057732 -0.41346451 -0.06307086\n",
        "  0.31068237  0.91803138  1.22170588  1.89913361]"
      ],
      "metadata": {
        "id": "Kl7XBymOigCU"
      }
    },
    {
      "cell_type": "code",
      "source": [
        "x = [4, 7, 7, 15, 32, 47, 63, 89, 102, 131]\n",
        "print(mean(x))\n",
        "print(standard_deviation(x))\n",
        "print(f\"Result without using numpy: {zscore_normalisation(x)}\")\n",
        "print(f\"Result using numpy: {zscore_normalisation_2(x)}\")"
      ],
      "metadata": {
        "id": "78ptZxf6ipZp",
        "outputId": "1f1089f2-5c37-44a4-d994-ce39f6cc2af3",
        "colab": {
          "base_uri": "https://localhost:8080/"
        }
      },
      "execution_count": null,
      "outputs": [
        {
          "output_type": "stream",
          "name": "stdout",
          "text": [
            "49.7\n",
            "42.8089943820221\n",
            "Result without using numpy: [-1.0675326683028088, -0.9974539373420117, -0.9974539373420117, -0.8105773214465528, -0.41346451266870277, -0.06307085786471743, 0.3106823739262003, 0.9180313755864415, 1.2217058764165623, 1.8991336090376005]\n",
            "Result using numpy: [-1.0675326683028088, -0.9974539373420117, -0.9974539373420117, -0.8105773214465528, -0.41346451266870277, -0.06307085786471743, 0.3106823739262003, 0.9180313755864415, 1.2217058764165623, 1.8991336090376005]\n"
          ]
        }
      ]
    },
    {
      "cell_type": "markdown",
      "source": [
        "### Q3. Sigmoid fn and its derivative"
      ],
      "metadata": {
        "id": "0WVscJ0z14rp"
      }
    },
    {
      "cell_type": "markdown",
      "source": [
        "The sigmoid function is a mathematical function that maps any input value to a value between 0 and 1.\n",
        "\n",
        "It is defined mathematically as s(x) = 1/(1+e^(-x))."
      ],
      "metadata": {
        "id": "Jfntb0Rg94Tu"
      }
    },
    {
      "cell_type": "markdown",
      "source": [
        "##### (i) Write a fn to implement sigmoid fn"
      ],
      "metadata": {
        "id": "8SCAPkjO2m7u"
      }
    },
    {
      "cell_type": "code",
      "source": [
        "def sigmoidfn(x):\n",
        "  sigm_func = [1/(1 + np.exp(-z)) for z in x]\n",
        "  return sigm_func"
      ],
      "metadata": {
        "id": "jL_TRQFG2l5m"
      },
      "execution_count": null,
      "outputs": []
    },
    {
      "cell_type": "markdown",
      "source": [
        "##### (ii) Write a fn to implement derivative of sigmoid fn"
      ],
      "metadata": {
        "id": "t7KBbl7N3AUM"
      }
    },
    {
      "cell_type": "code",
      "source": [
        "def derivative(x):\n",
        "  sigmoid_val = sigmoidfn(x)\n",
        "  derv_func = [s*(1-s) for s in sigmoid_val]\n",
        "  return derv_func"
      ],
      "metadata": {
        "id": "okjuOpba3KOJ"
      },
      "execution_count": null,
      "outputs": []
    },
    {
      "cell_type": "markdown",
      "source": [
        "##### (iii) Test your code"
      ],
      "metadata": {
        "id": "NdGTSpsp3mwr"
      }
    },
    {
      "cell_type": "markdown",
      "source": [
        "Run the following cell to check if your functions are working properly.\n",
        "\n",
        "*Expected output:*\n",
        "\n",
        "x on applying sigmoid activation fn is: [ [0.99987661 0.88079708 0.99330715 0.5        0.5       ]\n",
        " [0.99908895 0.99330715 0.5        0.5        0.5       ] ]\n",
        "\n",
        "x on applying derivative of sigmoid activation fn is: [ [-1.23379350e-04 -1.04993585e-01 -6.64805667e-03 -2.50000000e-01\n",
        "  -2.50000000e-01]\n",
        " [-9.10221180e-04 -6.64805667e-03 -2.50000000e-01 -2.50000000e-01\n",
        "  -2.50000000e-01] ]"
      ],
      "metadata": {
        "id": "lWY8RBex7gnd"
      }
    },
    {
      "cell_type": "code",
      "source": [
        "x = np.array([\n",
        "    [9,2,5,0,0],\n",
        "    [7,5,0,0,0]\n",
        "])\n",
        "print(f\"x on applying sigmoid activation fn is: {sigmoidfn(x)}\")\n",
        "print(f\"x on applying derivative of sigmoid activation fn is: {derivative(x)}\")"
      ],
      "metadata": {
        "id": "ssDGpmS33vdA",
        "outputId": "9c11d294-cf8c-4396-a4a2-865f2323ca04",
        "colab": {
          "base_uri": "https://localhost:8080/"
        }
      },
      "execution_count": null,
      "outputs": [
        {
          "output_type": "stream",
          "name": "stdout",
          "text": [
            "x on applying sigmoid activation fn is: [array([0.99987661, 0.88079708, 0.99330715, 0.5       , 0.5       ]), array([0.99908895, 0.99330715, 0.5       , 0.5       , 0.5       ])]\n",
            "x on applying derivative of sigmoid activation fn is: [array([1.23379350e-04, 1.04993585e-01, 6.64805667e-03, 2.50000000e-01,\n",
            "       2.50000000e-01]), array([0.00091022, 0.00664806, 0.25      , 0.25      , 0.25      ])]\n"
          ]
        }
      ]
    },
    {
      "cell_type": "markdown",
      "source": [
        "# Section 2: Playing with Pandas"
      ],
      "metadata": {
        "id": "PMa0cseyZpa1"
      }
    },
    {
      "cell_type": "markdown",
      "source": [
        "###Read the csv file\n"
      ],
      "metadata": {
        "id": "i5Okb_jxZ_VW"
      }
    },
    {
      "cell_type": "code",
      "source": [
        "df = pd.read_csv(\"superheated_vapor_properties.csv\")\n",
        "df"
      ],
      "metadata": {
        "id": "-9NSCfDExqXv",
        "outputId": "268cb81e-5e92-447d-b32c-3ca22fb6ef8c",
        "colab": {
          "base_uri": "https://localhost:8080/"
        }
      },
      "execution_count": null,
      "outputs": [
        {
          "output_type": "stream",
          "name": "stdout",
          "text": [
            "Drive already mounted at /content/gdrive; to attempt to forcibly remount, call drive.mount(\"/content/gdrive\", force_remount=True).\n",
            "    <!DOCTYPE html><html><head><meta name=\"google\" content=\"notranslate\"><meta http-equiv=\"X-UA-Compatible\" content=\"IE=edge;\"><style nonce=\"MjDT2X_p7slvgcLFR6mpug\">@font-face{font-family:'Roboto';font-style:italic;font-weight:400;src:url(//fonts.gstatic.com/s/roboto/v18/KFOkCnqEu92Fr1Mu51xIIzc.ttf)format('truetype');}@font-face{font-family:'Roboto';font-style:normal;font-weight:300;src:url(//fonts.gstatic.com/s/roboto/v18/KFOlCnqEu92Fr1MmSU5fBBc9.ttf)format('truetype');}@font-face{font-family:'Roboto';font-style:normal;font-weight:400;src:url(//fonts.gstatic.com/s/roboto/v18/KFOmCnqEu92Fr1Mu4mxP.ttf)format('truetype');}@font-face{font-family:'Roboto';font-style:normal;font-weight:500;src:url(//fonts.gstatic.com/s/roboto/v18/KFOlCnqEu92Fr1MmEU9fBBc9.ttf)format('truetype');}@font-face{font-family:'Roboto';font-style:normal;font-weight:700;src:url(//fonts.gstatic.com/s/roboto/v18/KFOlCnqEu92Fr1MmWUlfBBc9.ttf)format('truetype');}</style><meta name=\"referrer\" content=\"origin\"><title>superheated_vapor_properties.csv - Google Drive</title><meta property=\"og:title\" content=\"superheated_vapor_properties.csv\"><meta property=\"og:type\" content=\"article\"><meta property=\"og:site_name\" content=\"Google Docs\"><meta property=\"og:url\" content=\"https://drive.google.com/file/d/1wmO9RlZYtI0I0vPZj6ab5_km1cQY96zZ/view?usp=drive_link&amp;usp=embed_facebook\"><link rel=\"shortcut icon\" href=\"https://ssl.gstatic.com/images/branding/product/1x/drive_2020q4_32dp.png\"><link rel=\"stylesheet\" href=\"https://fonts.googleapis.com/css?family=Google+Sans:300  \\\n",
            "0                                                 try{                                                                                                                                                                                                                                                                                                                                                                                                                                                                                                                                                                                                                                                                                                                                                                                                                                                                                                                                                                                                                                                                                                                                                                                                                                                                                                                                                                                                                                                                                                                                                       \n",
            "1    _._F_toggles_initialize=function(a){(\"undefine...                                                                                                                                                                                                                                                                                                                                                                                                                                                                                                                                                                                                                                                                                                                                                                                                                                                                                                                                                                                                                                                                                                                                                                                                                                                                                                                                                                                                                                                                                                                                                       \n",
            "2                                                   /*                                                                                                                                                                                                                                                                                                                                                                                                                                                                                                                                                                                                                                                                                                                                                                                                                                                                                                                                                                                                                                                                                                                                                                                                                                                                                                                                                                                                                                                                                                                                                       \n",
            "3               Copyright The Closure Library Authors.                                                                                                                                                                                                                                                                                                                                                                                                                                                                                                                                                                                                                                                                                                                                                                                                                                                                                                                                                                                                                                                                                                                                                                                                                                                                                                                                                                                                                                                                                                                                                       \n",
            "4                  SPDX-License-Identifier: Apache-2.0                                                                                                                                                                                                                                                                                                                                                                                                                                                                                                                                                                                                                                                                                                                                                                                                                                                                                                                                                                                                                                                                                                                                                                                                                                                                                                                                                                                                                                                                                                                                                       \n",
            "..                                                 ...                                                                                                                                                                                                                                                                                                                                                                                                                                                                                                                                                                                                                                                                                                                                                                                                                                                                                                                                                                                                                                                                                                                                                                                                                                                                                                                                                                                                                                                                                                                                                       \n",
            "118                                  var jk=function(a                                                                                                                                                                                                                                                                                                                                                                                                                                                                                                                                                                                                                                                                                                                                                                                                                                                                                                                                                                                                                                                                                                                                                                                                                                                                                                                                                                                                                                                                                                                                                       \n",
            "119                     }catch(e){_._DumpException(e)}                                                                                                                                                                                                                                                                                                                                                                                                                                                                                                                                                                                                                                                                                                                                                                                                                                                                                                                                                                                                                                                                                                                                                                                                                                                                                                                                                                                                                                                                                                                                                       \n",
            "120                                    })(this.gbar_);                                                                                                                                                                                                                                                                                                                                                                                                                                                                                                                                                                                                                                                                                                                                                                                                                                                                                                                                                                                                                                                                                                                                                                                                                                                                                                                                                                                                                                                                                                                                                       \n",
            "121                                     // Google Inc.                                                                                                                                                                                                                                                                                                                                                                                                                                                                                                                                                                                                                                                                                                                                                                                                                                                                                                                                                                                                                                                                                                                                                                                                                                                                                                                                                                                                                                                                                                                                                       \n",
            "122  </script><script id=\"base-js\" async type=\"text...                                                                                                                                                                                                                                                                                                                                                                                                                                                                                                                                                                                                                                                                                                                                                                                                                                                                                                                                                                                                                                                                                                                                                                                                                                                                                                                                                                                                                                                                                                                                                       \n",
            "\n",
            "                                                   400            500  \\\n",
            "0                                                  NaN            NaN   \n",
            "1                        _._F_toggles_initialize)([]);            NaN   \n",
            "2                                                  NaN            NaN   \n",
            "3                                                  NaN            NaN   \n",
            "4                                                  NaN            NaN   \n",
            "..                                                 ...            ...   \n",
            "118                                                  b  c){a<b?ik(a+1   \n",
            "119                                                NaN            NaN   \n",
            "120                                                NaN            NaN   \n",
            "121                                                NaN            NaN   \n",
            "122  wb\" nonce=\"BIVWiNU9DzBVDjmqMylcnw\"></script></...            NaN   \n",
            "\n",
            "    700\" nonce=\"MjDT2X_p7slvgcLFR6mpug\"><link rel=\"stylesheet\" href=\"https://www.gstatic.com/_/apps-fileview/_/ss/k=apps-fileview.v.WZ-wMu4FPsw.L.X.O/am=AAw/d=0/rs=AO0039svtIOc6niDOhVzG-AMLYTSxfUzmg\" nonce=\"MjDT2X_p7slvgcLFR6mpug\"><script nonce=\"BIVWiNU9DzBVDjmqMylcnw\">_docs_flag_initialData={\"docs-ails\":\"docs_cold\"  \\\n",
            "0                                                  NaN                                                                                                                                                                                                                                                                          \n",
            "1                                                  NaN                                                                                                                                                                                                                                                                          \n",
            "2                                                  NaN                                                                                                                                                                                                                                                                          \n",
            "3                                                  NaN                                                                                                                                                                                                                                                                          \n",
            "4                                                  NaN                                                                                                                                                                                                                                                                          \n",
            "..                                                 ...                                                                                                                                                                                                                                                                          \n",
            "118                   b):_.$d.log(Error(\"ja`\"+a+\"`\"+b)                                                                                                                                                                                                                                                                          \n",
            "119                                                NaN                                                                                                                                                                                                                                                                          \n",
            "120                                                NaN                                                                                                                                                                                                                                                                          \n",
            "121                                                NaN                                                                                                                                                                                                                                                                          \n",
            "122                                                NaN                                                                                                                                                                                                                                                                          \n",
            "\n",
            "    docs-fwds:\"docs_nf\" docs-crs:\"docs_crs_nl\"  \\\n",
            "0                   NaN                    NaN   \n",
            "1                   NaN                    NaN   \n",
            "2                   NaN                    NaN   \n",
            "3                   NaN                    NaN   \n",
            "4                   NaN                    NaN   \n",
            "..                  ...                    ...   \n",
            "118           {url:c})}          ik=function(a   \n",
            "119                 NaN                    NaN   \n",
            "120                 NaN                    NaN   \n",
            "121                 NaN                    NaN   \n",
            "122                 NaN                    NaN   \n",
            "\n",
            "                                          docs-fe-re:2 docs-fl:1 docs-l1lc:2  \\\n",
            "0                                                  NaN       NaN         NaN   \n",
            "1                                                  NaN       NaN         NaN   \n",
            "2                                                  NaN       NaN         NaN   \n",
            "3                                                  NaN       NaN         NaN   \n",
            "4                                                  NaN       NaN         NaN   \n",
            "..                                                 ...       ...         ...   \n",
            "118  b){if(kk){var c=_.Re(\"SCRIPT\");c.async=!0;c.ty...         a           b   \n",
            "119                                                NaN       NaN         NaN   \n",
            "120                                                NaN       NaN         NaN   \n",
            "121                                                NaN       NaN         NaN   \n",
            "122                                                NaN       NaN         NaN   \n",
            "\n",
            "                             docs-l1lm:\"CHS\"  ... 0.89 0.90 0.91 1.70  \\\n",
            "0                                        NaN  ...  NaN  NaN  NaN  NaN   \n",
            "1                                        NaN  ...  NaN  NaN  NaN  NaN   \n",
            "2                                        NaN  ...  NaN  NaN  NaN  NaN   \n",
            "3                                        NaN  ...  NaN  NaN  NaN  NaN   \n",
            "4                                        NaN  ...  NaN  NaN  NaN  NaN   \n",
            "..                                       ...  ...  ...  ...  ...  ...   \n",
            "118  c.src);_.hk(\"HEAD\")[0].appendChild(c)}}  ...  NaN  NaN  NaN  NaN   \n",
            "119                                      NaN  ...  NaN  NaN  NaN  NaN   \n",
            "120                                      NaN  ...  NaN  NaN  NaN  NaN   \n",
            "121                                      NaN  ...  NaN  NaN  NaN  NaN   \n",
            "122                                      NaN  ...  NaN  NaN  NaN  NaN   \n",
            "\n",
            "    72175901].1 [[null.2 null.215 null.216  \\\n",
            "0           NaN      NaN      NaN      NaN   \n",
            "1           NaN      NaN      NaN      NaN   \n",
            "2           NaN      NaN      NaN      NaN   \n",
            "3           NaN      NaN      NaN      NaN   \n",
            "4           NaN      NaN      NaN      NaN   \n",
            "..          ...      ...      ...      ...   \n",
            "118         NaN      NaN      NaN      NaN   \n",
            "119         NaN      NaN      NaN      NaN   \n",
            "120         NaN      NaN      NaN      NaN   \n",
            "121         NaN      NaN      NaN      NaN   \n",
            "122         NaN      NaN      NaN      NaN   \n",
            "\n",
            "    https://www.gstatic.com/og/_/js/k=og.qtm.en_US.FIe-NaFuAf8.es5.O/rt=j/m=qabr,q_dnp,qapid,q_dg/exm=qaaw,qadd,qaid,qein,qhaw,qhba,qhbr,qhch,qhga,qhid,qhin/d=1/ed=1/rs=AA2YrTuSQ2WJKC1PnFVH58Psohnf6rg2aQ]]]]  \\\n",
            "0                                                  NaN                                                                                                                                                            \n",
            "1                                                  NaN                                                                                                                                                            \n",
            "2                                                  NaN                                                                                                                                                            \n",
            "3                                                  NaN                                                                                                                                                            \n",
            "4                                                  NaN                                                                                                                                                            \n",
            "..                                                 ...                                                                                                                                                            \n",
            "118                                                NaN                                                                                                                                                            \n",
            "119                                                NaN                                                                                                                                                            \n",
            "120                                                NaN                                                                                                                                                            \n",
            "121                                                NaN                                                                                                                                                            \n",
            "122                                                NaN                                                                                                                                                            \n",
            "\n",
            "    };this.gbar_=this.gbar_||{};(function(_){var window=this;  \n",
            "0                                                  NaN         \n",
            "1                                                  NaN         \n",
            "2                                                  NaN         \n",
            "3                                                  NaN         \n",
            "4                                                  NaN         \n",
            "..                                                 ...         \n",
            "118                                                NaN         \n",
            "119                                                NaN         \n",
            "120                                                NaN         \n",
            "121                                                NaN         \n",
            "122                                                NaN         \n",
            "\n",
            "[123 rows x 1034 columns]\n"
          ]
        }
      ]
    },
    {
      "cell_type": "markdown",
      "source": [
        "###Display the shape of data frame\n"
      ],
      "metadata": {
        "id": "Zp8F3rk2cNxy"
      }
    },
    {
      "cell_type": "code",
      "source": [
        "df.shape"
      ],
      "metadata": {
        "id": "v3Q8kQkucgK0",
        "outputId": "54f64349-b4a4-4d4c-9ebc-19ce605e2437",
        "colab": {
          "base_uri": "https://localhost:8080/"
        }
      },
      "execution_count": null,
      "outputs": [
        {
          "output_type": "execute_result",
          "data": {
            "text/plain": [
              "(123, 1034)"
            ]
          },
          "metadata": {},
          "execution_count": 91
        }
      ]
    },
    {
      "cell_type": "markdown",
      "source": [
        "###Return an array containing names of all the columns"
      ],
      "metadata": {
        "id": "w49cp-8zcgd2"
      }
    },
    {
      "cell_type": "code",
      "source": [
        "column_names = df.columns.to_numpy()"
      ],
      "metadata": {
        "id": "fz4HRb3JcsZp"
      },
      "execution_count": null,
      "outputs": []
    },
    {
      "cell_type": "markdown",
      "source": [
        "###Display the number of null values in each column of the dataframe``\n",
        "\n"
      ],
      "metadata": {
        "id": "YkTH9tRWcrH-"
      }
    },
    {
      "cell_type": "code",
      "source": [
        "net_null_value = df.isnull().sum()"
      ],
      "metadata": {
        "id": "GK9-PJPxc3Ot"
      },
      "execution_count": null,
      "outputs": []
    },
    {
      "cell_type": "markdown",
      "source": [
        "###Create a column which contains the Pressure and Property columns, seperated with 'at' (For eg. V at 1, H at 101.325). Using this print the following:\n",
        "- Enthalpy at 75 kPa and 573 K\n",
        "- Entropy at 493 K and 250 kPa\n",
        "\n"
      ],
      "metadata": {
        "id": "Av-lcft2c3mx"
      }
    },
    {
      "cell_type": "code",
      "source": [
        "df['Property at Pressure']=df['Property'] + \" at \" + df['Pressure'].astype(str)\n",
        "idx1=df[df['Property at Pressure']=='H at 300.0'].index\n",
        "df['75'].loc[idx1].item()\n",
        "idx2=df[df['Property at Pressure']=='S at 220.0'].index\n",
        "df['250'].loc[idx2].item()"
      ],
      "metadata": {
        "id": "B2AihQj_c32C",
        "colab": {
          "base_uri": "https://localhost:8080/",
          "height": 512
        },
        "outputId": "1107cace-96e0-456a-9de4-9d41dcbc97ef"
      },
      "execution_count": null,
      "outputs": [
        {
          "output_type": "error",
          "ename": "KeyError",
          "evalue": "ignored",
          "traceback": [
            "\u001b[0;31m---------------------------------------------------------------------------\u001b[0m",
            "\u001b[0;31mKeyError\u001b[0m                                  Traceback (most recent call last)",
            "\u001b[0;32m/usr/local/lib/python3.10/dist-packages/pandas/core/indexes/base.py\u001b[0m in \u001b[0;36mget_loc\u001b[0;34m(self, key, method, tolerance)\u001b[0m\n\u001b[1;32m   3801\u001b[0m             \u001b[0;32mtry\u001b[0m\u001b[0;34m:\u001b[0m\u001b[0;34m\u001b[0m\u001b[0;34m\u001b[0m\u001b[0m\n\u001b[0;32m-> 3802\u001b[0;31m                 \u001b[0;32mreturn\u001b[0m \u001b[0mself\u001b[0m\u001b[0;34m.\u001b[0m\u001b[0m_engine\u001b[0m\u001b[0;34m.\u001b[0m\u001b[0mget_loc\u001b[0m\u001b[0;34m(\u001b[0m\u001b[0mcasted_key\u001b[0m\u001b[0;34m)\u001b[0m\u001b[0;34m\u001b[0m\u001b[0;34m\u001b[0m\u001b[0m\n\u001b[0m\u001b[1;32m   3803\u001b[0m             \u001b[0;32mexcept\u001b[0m \u001b[0mKeyError\u001b[0m \u001b[0;32mas\u001b[0m \u001b[0merr\u001b[0m\u001b[0;34m:\u001b[0m\u001b[0;34m\u001b[0m\u001b[0;34m\u001b[0m\u001b[0m\n",
            "\u001b[0;32m/usr/local/lib/python3.10/dist-packages/pandas/_libs/index.pyx\u001b[0m in \u001b[0;36mpandas._libs.index.IndexEngine.get_loc\u001b[0;34m()\u001b[0m\n",
            "\u001b[0;32m/usr/local/lib/python3.10/dist-packages/pandas/_libs/index.pyx\u001b[0m in \u001b[0;36mpandas._libs.index.IndexEngine.get_loc\u001b[0;34m()\u001b[0m\n",
            "\u001b[0;32mpandas/_libs/hashtable_class_helper.pxi\u001b[0m in \u001b[0;36mpandas._libs.hashtable.PyObjectHashTable.get_item\u001b[0;34m()\u001b[0m\n",
            "\u001b[0;32mpandas/_libs/hashtable_class_helper.pxi\u001b[0m in \u001b[0;36mpandas._libs.hashtable.PyObjectHashTable.get_item\u001b[0;34m()\u001b[0m\n",
            "\u001b[0;31mKeyError\u001b[0m: 'Property'",
            "\nThe above exception was the direct cause of the following exception:\n",
            "\u001b[0;31mKeyError\u001b[0m                                  Traceback (most recent call last)",
            "\u001b[0;32m<ipython-input-94-25dc6ef8f0e2>\u001b[0m in \u001b[0;36m<cell line: 1>\u001b[0;34m()\u001b[0m\n\u001b[0;32m----> 1\u001b[0;31m \u001b[0mdf\u001b[0m\u001b[0;34m[\u001b[0m\u001b[0;34m'Property at Pressure'\u001b[0m\u001b[0;34m]\u001b[0m\u001b[0;34m=\u001b[0m\u001b[0mdf\u001b[0m\u001b[0;34m[\u001b[0m\u001b[0;34m'Property'\u001b[0m\u001b[0;34m]\u001b[0m \u001b[0;34m+\u001b[0m \u001b[0;34m\" at \"\u001b[0m \u001b[0;34m+\u001b[0m \u001b[0mdf\u001b[0m\u001b[0;34m[\u001b[0m\u001b[0;34m'Pressure'\u001b[0m\u001b[0;34m]\u001b[0m\u001b[0;34m.\u001b[0m\u001b[0mastype\u001b[0m\u001b[0;34m(\u001b[0m\u001b[0mstr\u001b[0m\u001b[0;34m)\u001b[0m\u001b[0;34m\u001b[0m\u001b[0;34m\u001b[0m\u001b[0m\n\u001b[0m\u001b[1;32m      2\u001b[0m \u001b[0midx1\u001b[0m\u001b[0;34m=\u001b[0m\u001b[0mdf\u001b[0m\u001b[0;34m[\u001b[0m\u001b[0mdf\u001b[0m\u001b[0;34m[\u001b[0m\u001b[0;34m'Property at Pressure'\u001b[0m\u001b[0;34m]\u001b[0m\u001b[0;34m==\u001b[0m\u001b[0;34m'V at 10.0'\u001b[0m\u001b[0;34m]\u001b[0m\u001b[0;34m.\u001b[0m\u001b[0mindex\u001b[0m\u001b[0;34m\u001b[0m\u001b[0;34m\u001b[0m\u001b[0m\n\u001b[1;32m      3\u001b[0m \u001b[0mdf\u001b[0m\u001b[0;34m[\u001b[0m\u001b[0;34m'75'\u001b[0m\u001b[0;34m]\u001b[0m\u001b[0;34m.\u001b[0m\u001b[0mloc\u001b[0m\u001b[0;34m[\u001b[0m\u001b[0midx1\u001b[0m\u001b[0;34m]\u001b[0m\u001b[0;34m.\u001b[0m\u001b[0mitem\u001b[0m\u001b[0;34m(\u001b[0m\u001b[0;34m)\u001b[0m\u001b[0;34m\u001b[0m\u001b[0;34m\u001b[0m\u001b[0m\n",
            "\u001b[0;32m/usr/local/lib/python3.10/dist-packages/pandas/core/frame.py\u001b[0m in \u001b[0;36m__getitem__\u001b[0;34m(self, key)\u001b[0m\n\u001b[1;32m   3805\u001b[0m             \u001b[0;32mif\u001b[0m \u001b[0mself\u001b[0m\u001b[0;34m.\u001b[0m\u001b[0mcolumns\u001b[0m\u001b[0;34m.\u001b[0m\u001b[0mnlevels\u001b[0m \u001b[0;34m>\u001b[0m \u001b[0;36m1\u001b[0m\u001b[0;34m:\u001b[0m\u001b[0;34m\u001b[0m\u001b[0;34m\u001b[0m\u001b[0m\n\u001b[1;32m   3806\u001b[0m                 \u001b[0;32mreturn\u001b[0m \u001b[0mself\u001b[0m\u001b[0;34m.\u001b[0m\u001b[0m_getitem_multilevel\u001b[0m\u001b[0;34m(\u001b[0m\u001b[0mkey\u001b[0m\u001b[0;34m)\u001b[0m\u001b[0;34m\u001b[0m\u001b[0;34m\u001b[0m\u001b[0m\n\u001b[0;32m-> 3807\u001b[0;31m             \u001b[0mindexer\u001b[0m \u001b[0;34m=\u001b[0m \u001b[0mself\u001b[0m\u001b[0;34m.\u001b[0m\u001b[0mcolumns\u001b[0m\u001b[0;34m.\u001b[0m\u001b[0mget_loc\u001b[0m\u001b[0;34m(\u001b[0m\u001b[0mkey\u001b[0m\u001b[0;34m)\u001b[0m\u001b[0;34m\u001b[0m\u001b[0;34m\u001b[0m\u001b[0m\n\u001b[0m\u001b[1;32m   3808\u001b[0m             \u001b[0;32mif\u001b[0m \u001b[0mis_integer\u001b[0m\u001b[0;34m(\u001b[0m\u001b[0mindexer\u001b[0m\u001b[0;34m)\u001b[0m\u001b[0;34m:\u001b[0m\u001b[0;34m\u001b[0m\u001b[0;34m\u001b[0m\u001b[0m\n\u001b[1;32m   3809\u001b[0m                 \u001b[0mindexer\u001b[0m \u001b[0;34m=\u001b[0m \u001b[0;34m[\u001b[0m\u001b[0mindexer\u001b[0m\u001b[0;34m]\u001b[0m\u001b[0;34m\u001b[0m\u001b[0;34m\u001b[0m\u001b[0m\n",
            "\u001b[0;32m/usr/local/lib/python3.10/dist-packages/pandas/core/indexes/base.py\u001b[0m in \u001b[0;36mget_loc\u001b[0;34m(self, key, method, tolerance)\u001b[0m\n\u001b[1;32m   3802\u001b[0m                 \u001b[0;32mreturn\u001b[0m \u001b[0mself\u001b[0m\u001b[0;34m.\u001b[0m\u001b[0m_engine\u001b[0m\u001b[0;34m.\u001b[0m\u001b[0mget_loc\u001b[0m\u001b[0;34m(\u001b[0m\u001b[0mcasted_key\u001b[0m\u001b[0;34m)\u001b[0m\u001b[0;34m\u001b[0m\u001b[0;34m\u001b[0m\u001b[0m\n\u001b[1;32m   3803\u001b[0m             \u001b[0;32mexcept\u001b[0m \u001b[0mKeyError\u001b[0m \u001b[0;32mas\u001b[0m \u001b[0merr\u001b[0m\u001b[0;34m:\u001b[0m\u001b[0;34m\u001b[0m\u001b[0;34m\u001b[0m\u001b[0m\n\u001b[0;32m-> 3804\u001b[0;31m                 \u001b[0;32mraise\u001b[0m \u001b[0mKeyError\u001b[0m\u001b[0;34m(\u001b[0m\u001b[0mkey\u001b[0m\u001b[0;34m)\u001b[0m \u001b[0;32mfrom\u001b[0m \u001b[0merr\u001b[0m\u001b[0;34m\u001b[0m\u001b[0;34m\u001b[0m\u001b[0m\n\u001b[0m\u001b[1;32m   3805\u001b[0m             \u001b[0;32mexcept\u001b[0m \u001b[0mTypeError\u001b[0m\u001b[0;34m:\u001b[0m\u001b[0;34m\u001b[0m\u001b[0;34m\u001b[0m\u001b[0m\n\u001b[1;32m   3806\u001b[0m                 \u001b[0;31m# If we have a listlike key, _check_indexing_error will raise\u001b[0m\u001b[0;34m\u001b[0m\u001b[0;34m\u001b[0m\u001b[0m\n",
            "\u001b[0;31mKeyError\u001b[0m: 'Property'"
          ]
        }
      ]
    },
    {
      "cell_type": "markdown",
      "source": [
        "###Find out the column with the highest number of missing values"
      ],
      "metadata": {
        "id": "GpLtXYRLc4Ho"
      }
    },
    {
      "cell_type": "code",
      "source": [
        "missing_values = df.isnull()\n",
        "missing_values_count = missing_values.sum()\n",
        "column_with_most_missing_values = missing_values_count.idxmax()"
      ],
      "metadata": {
        "id": "q80Grgeyc4Xn"
      },
      "execution_count": null,
      "outputs": []
    },
    {
      "cell_type": "markdown",
      "source": [
        "###What is the average enthalpy of Sat. Liq. at all different pressures in the dataset ?"
      ],
      "metadata": {
        "id": "74NVHTTac4nv"
      }
    },
    {
      "cell_type": "code",
      "source": [
        "print(df['Liq_Sat'].iloc[2::4].mean())"
      ],
      "metadata": {
        "id": "g3mByhBDdpVr",
        "colab": {
          "base_uri": "https://localhost:8080/"
        },
        "outputId": "afe4042b-7870-4323-d239-973506267f05"
      },
      "execution_count": null,
      "outputs": [
        {
          "output_type": "stream",
          "name": "stdout",
          "text": [
            "936.9707720588235\n"
          ]
        }
      ]
    },
    {
      "cell_type": "markdown",
      "source": [
        "###Separate out the V,U,H,S data from the dataset into V_data, U_data, H_data, S_data"
      ],
      "metadata": {
        "id": "uS-SuqU8dpxg"
      }
    },
    {
      "cell_type": "code",
      "source": [
        "V_data = df['V']\n",
        "U_data = df['U']\n",
        "H_data = df['H']\n",
        "S_data = df['S']"
      ],
      "metadata": {
        "id": "Sg3V9Toyd1Av"
      },
      "execution_count": null,
      "outputs": []
    },
    {
      "cell_type": "markdown",
      "source": [
        "#Section 3: PLotting the PLOTS"
      ],
      "metadata": {
        "id": "Ghkj0-0-d1W7"
      }
    },
    {
      "cell_type": "markdown",
      "source": [
        "###Plot the properties (specific volume, specific internal energy, specific enthalpy, specific entropy) vs Pressure for saturated liquid.\n",
        "\n",
        "Note:\n",
        "- Try using the subplot feature of matplotlib(Explore it!!)\n",
        "- Provide appropriate title, labels, markersize and other parameters to the plot"
      ],
      "metadata": {
        "id": "ka0qrDcZeAL6"
      }
    },
    {
      "cell_type": "code",
      "source": [
        "fig, axs = plt.subplots(2, 2, figsize=(12, 8))\n",
        "fig.suptitle('Properties vs Pressure for Saturated Liquid', fontsize=15)\n",
        "\n",
        "# Plot specific volume vs pressure\n",
        "axs[0, 0].plot( V_data['Pressure'], V_data['Liq_Sat'], marker='o', linestyle='-', color='b')\n",
        "axs[0, 0].set_title('Specific Volume vs Pressure')\n",
        "axs[0, 0].set_xlabel('Pressure')\n",
        "axs[0, 0].set_ylabel('Specific Volume')\n",
        "\n",
        "# Plot specific internal energy vs pressure\n",
        "axs[0, 1].plot(U_data['Pressure'], U_data['Liq_Sat'], marker='o', linestyle='-', color='r')\n",
        "axs[0, 1].set_title('Specific Internal Energy vs Pressure')\n",
        "axs[0, 1].set_xlabel('Pressure')\n",
        "axs[0, 1].set_ylabel('Specific Internal Energy')\n",
        "\n",
        "# Plot specific enthalpy vs pressure\n",
        "axs[1, 0].plot(H_data['Pressure'], H_data['Liq_Sat'], marker='o', linestyle='-', color='g')\n",
        "axs[1, 0].set_title('Specific Enthalpy vs Pressure')\n",
        "axs[1, 0].set_xlabel('Pressure')\n",
        "axs[1, 0].set_ylabel('Specific Enthalpy')\n",
        "\n",
        "# Plot specific entropy vs pressure\n",
        "axs[1, 1].plot(S_data['Pressure'], S_data['Liq_Sat'], marker='o', linestyle='-', color='purple')\n",
        "axs[1, 1].set_title('Specific Entropy vs Pressure')\n",
        "axs[1, 1].set_xlabel('Pressure')\n",
        "axs[1, 1].set_ylabel('Specific Entropy')\n",
        "\n",
        "# Adjust layout for better spacing\n",
        "plt.tight_layout(rect=[0, 0, 1, 0.96])\n",
        "\n",
        "# Show the plots\n",
        "plt.show()\n"
      ],
      "metadata": {
        "id": "XbKdm-cUePKA"
      },
      "execution_count": null,
      "outputs": []
    },
    {
      "cell_type": "markdown",
      "source": [
        "###Plot the specific volume of saturated liquid between 300 kPa and 1500 kPa"
      ],
      "metadata": {
        "id": "SCLRji6TeQgh"
      }
    },
    {
      "cell_type": "code",
      "source": [
        "data_range = V_data[(V_data['Pressure']>=300) & (V_data['Pressure']<=1500)]\n",
        "plt.plot(data_range['Pressure'],data_range['Liq_Sat'], marker='o', linestyle='-', color='b')\n",
        "plt.title('Specific Vol vs Pressure')\n",
        "plt.ylabel('Pressure(kPa)')\n",
        "plt.xlabel('Specific Volume')"
      ],
      "metadata": {
        "id": "u6DyyI7MeYgE"
      },
      "execution_count": null,
      "outputs": []
    },
    {
      "cell_type": "markdown",
      "source": [
        "#Linear Regression\n",
        "You're given a 100 data points generated from the function\n",
        "$y=mx+c$. Some noise is added to the y values.\n",
        "\n",
        "**Task:** Estimate the values of m and c using linear regression. Write a suitable cost function and update the parameters."
      ],
      "metadata": {
        "id": "6N_8T4KnfnOG"
      }
    },
    {
      "cell_type": "code",
      "source": [
        " # Generation of data points\n",
        "x = np.random.rand(100)*100\n",
        "y = -4*x+15\n",
        "y = y+np.random.randn(100)*30\n",
        "plt.scatter(x,y)"
      ],
      "metadata": {
        "id": "qK0CKt8WfuO9",
        "outputId": "3db256fc-e907-4b91-8c0a-8d6cc090c980",
        "colab": {
          "base_uri": "https://localhost:8080/",
          "height": 447
        }
      },
      "execution_count": null,
      "outputs": [
        {
          "output_type": "execute_result",
          "data": {
            "text/plain": [
              "<matplotlib.collections.PathCollection at 0x7c72990b14e0>"
            ]
          },
          "metadata": {},
          "execution_count": 95
        },
        {
          "output_type": "display_data",
          "data": {
            "text/plain": [
              "<Figure size 640x480 with 1 Axes>"
            ],
            "image/png": "[encoded data removed]"
          },
          "metadata": {}
        }
      ]
    },
    {
      "cell_type": "code",
      "source": [
        "# Initialisng parameters m and c such that the best fit line is given by y = m*x+c\n",
        "m = 15\n",
        "c = 15\n",
        "#Cost function to be minimised\n",
        "def cost_function(x, y, m, c):\n",
        "    predtns = m * x + c\n",
        "    return np.mean((predtns - y) ** 2)\n",
        "\n",
        "#Function for updating parameter\n",
        "def update_parameters(x, y, m, c, learning_rate):\n",
        "    predtns = m * x + c\n",
        "    error = predtns - y\n",
        "    dm = (2 / len(x)) * np.sum(error * x)\n",
        "    dc = (2 / len(x)) * np.sum(error)\n",
        "    m = m - learning_rate * dm\n",
        "    c = c - learning_rate * dc\n",
        "    return m, c\n"
      ],
      "metadata": {
        "id": "0lyjPEfmiC-e"
      },
      "execution_count": null,
      "outputs": []
    },
    {
      "cell_type": "markdown",
      "source": [
        "Run the model"
      ],
      "metadata": {
        "id": "JPy839WUiOvz"
      }
    },
    {
      "cell_type": "code",
      "source": [
        "# define number of iterations for minimising cost function\n",
        "num_iterations = 1000\n",
        "# define the learning rate #\n",
        "learning_rate = 0.0001\n",
        "# run the model\n",
        "for iteration in range(num_iterations):\n",
        "    m, c = update_parameters(x, y, m, c, learning_rate)\n"
      ],
      "metadata": {
        "id": "sf8s00SUiYhN"
      },
      "execution_count": null,
      "outputs": []
    },
    {
      "cell_type": "code",
      "source": [
        "print(m,c)  # value should be close to (-4,15)"
      ],
      "metadata": {
        "id": "_g7W3mloilGn",
        "outputId": "22e0c44c-17a6-406d-e8b3-633a50f38956",
        "colab": {
          "base_uri": "https://localhost:8080/"
        }
      },
      "execution_count": null,
      "outputs": [
        {
          "output_type": "stream",
          "name": "stdout",
          "text": [
            "-4.062825549795761 14.801123132034288\n"
          ]
        }
      ]
    }
  ]
}